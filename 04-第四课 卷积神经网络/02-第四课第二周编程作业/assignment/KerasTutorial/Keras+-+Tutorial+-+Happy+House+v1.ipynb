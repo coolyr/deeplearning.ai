{
 "cells": [
  {
   "cell_type": "markdown",
   "metadata": {},
   "source": [
    "# Keras tutorial - the Happy House\n",
    "\n",
    "Welcome to the first assignment of week 2. In this assignment, you will:\n",
    "1. Learn to use Keras, a high-level neural networks API (programming framework), written in Python and capable of running on top of several lower-level frameworks including TensorFlow and CNTK. \n",
    "2. See how you can in a couple of hours build a deep learning algorithm.\n",
    "\n",
    "Why are we using Keras? Keras was developed to enable deep learning engineers to build and experiment with different models very quickly. Just as TensorFlow is a higher-level framework than Python, Keras is an even higher-level framework and provides additional abstractions. Being able to go from idea to result with the least possible delay is key to finding good models. However, Keras is more restrictive than the lower-level frameworks, so there are some very complex models that you can implement in TensorFlow but not (without more difficulty) in Keras. That being said, Keras will work fine for many common models. \n",
    "\n",
    "In this exercise, you'll work on the \"Happy House\" problem, which we'll explain below. Let's load the required packages and solve the problem of the Happy House!"
   ]
  },
  {
   "cell_type": "code",
   "execution_count": 5,
   "metadata": {},
   "outputs": [],
   "source": [
    "import numpy as np\n",
    "#import tensorflow as tf\n",
    "from keras import layers\n",
    "from keras.layers import Input, Dense, Activation, ZeroPadding2D, BatchNormalization, Flatten, Conv2D\n",
    "from keras.layers import AveragePooling2D, MaxPooling2D, Dropout, GlobalMaxPooling2D, GlobalAveragePooling2D\n",
    "from keras.models import Model\n",
    "from keras.preprocessing import image\n",
    "from keras.utils import layer_utils\n",
    "from keras.utils.data_utils import get_file\n",
    "from keras.applications.imagenet_utils import preprocess_input\n",
    "import pydot\n",
    "from IPython.display import SVG\n",
    "from keras.utils.vis_utils import model_to_dot\n",
    "from keras.utils import plot_model\n",
    "from kt_utils import *\n",
    "\n",
    "import keras.backend as K\n",
    "K.set_image_data_format('channels_last')\n",
    "import matplotlib.pyplot as plt\n",
    "from matplotlib.pyplot import imshow\n",
    "\n",
    "%matplotlib inline"
   ]
  },
  {
   "cell_type": "markdown",
   "metadata": {},
   "source": [
    "**Note**: As you can see, we've imported a lot of functions from Keras. You can use them easily just by calling them directly in the notebook. Ex: `X = Input(...)` or `X = ZeroPadding2D(...)`."
   ]
  },
  {
   "cell_type": "markdown",
   "metadata": {},
   "source": [
    "## 1 - The Happy House \n",
    "\n",
    "For your next vacation, you decided to spend a week with five of your friends from school. It is a very convenient house with many things to do nearby. But the most important benefit is that everybody has commited to be happy when they are in the house. So anyone wanting to enter the house must prove their current state of happiness.\n",
    "\n",
    "<img src=\"images/happy-house.jpg\" style=\"width:350px;height:270px;\">\n",
    "<caption><center> <u> <font color='purple'> **Figure 1** </u><font color='purple'>  : **the Happy House**</center></caption>\n",
    "\n",
    "\n",
    "As a deep learning expert, to make sure the \"Happy\" rule is strictly applied, you are going to build an algorithm which that uses pictures from the front door camera to check if the person is happy or not. The door should open only if the person is happy. \n",
    "\n",
    "You have gathered pictures of your friends and yourself, taken by the front-door camera. The dataset is labbeled. \n",
    "\n",
    "<img src=\"images/house-members.png\" style=\"width:550px;height:250px;\">\n",
    "\n",
    "Run the following code to normalize the dataset and learn about its shapes."
   ]
  },
  {
   "cell_type": "code",
   "execution_count": 8,
   "metadata": {
    "scrolled": true
   },
   "outputs": [
    {
     "name": "stdout",
     "output_type": "stream",
     "text": [
      "number of training examples = 600\n",
      "number of test examples = 150\n",
      "X_train shape: (600, 64, 64, 3)\n",
      "Y_train shape: (600, 1)\n",
      "X_test shape: (150, 64, 64, 3)\n",
      "Y_test shape: (150, 1)\n"
     ]
    }
   ],
   "source": [
    "X_train_orig, Y_train_orig, X_test_orig, Y_test_orig, classes = load_dataset()\n",
    "\n",
    "# Normalize image vectors\n",
    "X_train = X_train_orig/255.\n",
    "X_test = X_test_orig/255.\n",
    "\n",
    "# Reshape\n",
    "Y_train = Y_train_orig.T\n",
    "Y_test = Y_test_orig.T\n",
    "\n",
    "print (\"number of training examples = \" + str(X_train.shape[0]))\n",
    "print (\"number of test examples = \" + str(X_test.shape[0]))\n",
    "print (\"X_train shape: \" + str(X_train.shape))\n",
    "#print(\"a X example : \", X_train[0][0][0])\n",
    "print (\"Y_train shape: \" + str(Y_train.shape))\n",
    "print (\"X_test shape: \" + str(X_test.shape))\n",
    "print (\"Y_test shape: \" + str(Y_test.shape))"
   ]
  },
  {
   "cell_type": "markdown",
   "metadata": {},
   "source": [
    "**Details of the \"Happy\" dataset**:\n",
    "- Images are of shape (64,64,3)\n",
    "- Training: 600 pictures\n",
    "- Test: 150 pictures\n",
    "\n",
    "It is now time to solve the \"Happy\" Challenge."
   ]
  },
  {
   "cell_type": "markdown",
   "metadata": {},
   "source": [
    "## 2 - Building a model in Keras\n",
    "\n",
    "Keras is very good for rapid prototyping. In just a short time you will be able to build a model that achieves outstanding results.\n",
    "\n",
    "Here is an example of a model in Keras:\n",
    "\n",
    "```python\n",
    "def model(input_shape):\n",
    "    # Define the input placeholder as a tensor with shape input_shape. Think of this as your input image!\n",
    "    X_input = Input(input_shape)\n",
    "\n",
    "    # Zero-Padding: pads the border of X_input with zeroes\n",
    "    X = ZeroPadding2D((3, 3))(X_input)\n",
    "\n",
    "    # CONV -> BN -> RELU Block applied to X\n",
    "    X = Conv2D(32, (7, 7), strides = (1, 1), name = 'conv0')(X)\n",
    "    X = BatchNormalization(axis = 3, name = 'bn0')(X)\n",
    "    X = Activation('relu')(X)\n",
    "\n",
    "    # MAXPOOL\n",
    "    X = MaxPooling2D((2, 2), name='max_pool')(X)\n",
    "\n",
    "    # FLATTEN X (means convert it to a vector) + FULLYCONNECTED\n",
    "    X = Flatten()(X)\n",
    "    X = Dense(1, activation='sigmoid', name='fc')(X)\n",
    "\n",
    "    # Create model. This creates your Keras model instance, you'll use this instance to train/test the model.\n",
    "    model = Model(inputs = X_input, outputs = X, name='HappyModel')\n",
    "    \n",
    "    return model\n",
    "```\n",
    "\n",
    "Note that Keras uses a different convention with variable names than we've previously used with numpy and TensorFlow. In particular, rather than creating and assigning a new variable on each step of forward propagation such as `X`, `Z1`, `A1`, `Z2`, `A2`, etc. for the computations for the different layers, in Keras code each line above just reassigns `X` to a new value using `X = ...`. In other words, during each step of forward propagation, we are just writing the latest value in the commputation into the same variable `X`. The only exception was `X_input`, which we kept separate and did not overwrite, since we needed it at the end to create the Keras model instance (`model = Model(inputs = X_input, ...)` above). \n",
    "\n",
    "**Exercise**: Implement a `HappyModel()`. This assignment is more open-ended than most. We suggest that you start by implementing a model using the architecture we suggest, and run through the rest of this assignment using that as your initial model. But after that, come back and take initiative to try out other model architectures. For example, you might take inspiration from the model above, but then vary the network architecture and hyperparameters however you wish. You can also use other functions such as `AveragePooling2D()`, `GlobalMaxPooling2D()`, `Dropout()`. \n",
    "\n",
    "**Note**: You have to be careful with your data's shapes. Use what you've learned in the videos to make sure your convolutional, pooling and fully-connected layers are adapted to the volumes you're applying it to."
   ]
  },
  {
   "cell_type": "code",
   "execution_count": 10,
   "metadata": {
    "collapsed": true
   },
   "outputs": [],
   "source": [
    "# GRADED FUNCTION: HappyModel\n",
    "\n",
    "def HappyModel(input_shape):\n",
    "    \"\"\"\n",
    "    Implementation of the HappyModel.\n",
    "    \n",
    "    Arguments:\n",
    "    input_shape -- shape of the images of the dataset\n",
    "\n",
    "    Returns:\n",
    "    model -- a Model() instance in Keras\n",
    "    \"\"\"\n",
    "    \n",
    "    ### START CODE HERE ###\n",
    "    # Feel free to use the suggested outline in the text above to get started, and run through the whole\n",
    "    # exercise (including the later portions of this notebook) once. The come back also try out other\n",
    "    # network architectures as well. \n",
    "    X_input = Input(shape=input_shape)\n",
    "    X = ZeroPadding2D(padding=(1, 1))(X_input)\n",
    "    X = Conv2D(8, kernel_size=(3,3), strides=(1,1))(X)\n",
    "    X = BatchNormalization(axis=3)(X)\n",
    "    X = Activation('relu')(X)\n",
    "    X = MaxPooling2D(pool_size=(2,2), strides=(2,2), padding='valid')(X)\n",
    "    \n",
    "    X = ZeroPadding2D(padding=(1, 1))(X)\n",
    "    X = Conv2D(16, kernel_size=(3,3), strides=(1,1))(X)\n",
    "    X = BatchNormalization(axis=3)(X)\n",
    "    X = Activation('relu')(X)\n",
    "    X = MaxPooling2D(pool_size=(2,2), strides=(2,2), padding='valid')(X)\n",
    "    \n",
    "    X = ZeroPadding2D(padding=(1, 1))(X)\n",
    "    X = Conv2D(32, kernel_size=(3,3), strides=(1,1))(X)\n",
    "    X = BatchNormalization(axis=3)(X)\n",
    "    X = Activation('relu')(X)\n",
    "    X = MaxPooling2D(pool_size=(2,2), strides=(2,2), padding='valid')(X)\n",
    "    \n",
    "    # FC\n",
    "    X = Flatten()(X)\n",
    "    Y = Dense(1, activation='sigmoid')(X)\n",
    "    \n",
    "    model = Model(inputs = X_input, outputs = Y, name='HappyModel')\n",
    "    ### END CODE HERE ###\n",
    "    \n",
    "    return model"
   ]
  },
  {
   "cell_type": "markdown",
   "metadata": {},
   "source": [
    "You have now built a function to describe your model. To train and test this model, there are four steps in Keras:\n",
    "1. Create the model by calling the function above\n",
    "2. Compile the model by calling `model.compile(optimizer = \"...\", loss = \"...\", metrics = [\"accuracy\"])`\n",
    "3. Train the model on train data by calling `model.fit(x = ..., y = ..., epochs = ..., batch_size = ...)`\n",
    "4. Test the model on test data by calling `model.evaluate(x = ..., y = ...)`\n",
    "\n",
    "If you want to know more about `model.compile()`, `model.fit()`, `model.evaluate()` and their arguments, refer to the official [Keras documentation](https://keras.io/models/model/).\n",
    "\n",
    "**Exercise**: Implement step 1, i.e. create the model."
   ]
  },
  {
   "cell_type": "code",
   "execution_count": 11,
   "metadata": {
    "collapsed": true
   },
   "outputs": [],
   "source": [
    "### START CODE HERE ### (1 line)\n",
    "happyModel = HappyModel((64, 64, 3))\n",
    "### END CODE HERE ###"
   ]
  },
  {
   "cell_type": "markdown",
   "metadata": {},
   "source": [
    "**Exercise**: Implement step 2, i.e. compile the model to configure the learning process. Choose the 3 arguments of `compile()` wisely. Hint: the Happy Challenge is a binary classification problem."
   ]
  },
  {
   "cell_type": "code",
   "execution_count": 12,
   "metadata": {
    "collapsed": true
   },
   "outputs": [],
   "source": [
    "### START CODE HERE ### (1 line)\n",
    "import keras\n",
    "happyModel.compile(optimizer=keras.optimizers.Adam(lr=0.001, beta_1=0.9, beta_2=0.999, epsilon=1e-08, decay=0.0), loss='binary_crossentropy', metrics=['accuracy'])\n",
    "### END CODE HERE ###"
   ]
  },
  {
   "cell_type": "markdown",
   "metadata": {},
   "source": [
    "**Exercise**: Implement step 3, i.e. train the model. Choose the number of epochs and the batch size."
   ]
  },
  {
   "cell_type": "code",
   "execution_count": 13,
   "metadata": {},
   "outputs": [
    {
     "name": "stdout",
     "output_type": "stream",
     "text": [
      "Epoch 1/20\n",
      "600/600 [==============================] - 10s 16ms/step - loss: 0.4829 - acc: 0.7567\n",
      "Epoch 2/20\n",
      "600/600 [==============================] - 8s 13ms/step - loss: 0.2143 - acc: 0.9450: 1s - loss: 0.2243 - acc: \n",
      "Epoch 3/20\n",
      "600/600 [==============================] - 8s 13ms/step - loss: 0.1658 - acc: 0.9400\n",
      "Epoch 4/20\n",
      "600/600 [==============================] - 8s 13ms/step - loss: 0.1116 - acc: 0.9733\n",
      "Epoch 5/20\n",
      "600/600 [==============================] - 8s 13ms/step - loss: 0.0734 - acc: 0.9850\n",
      "Epoch 6/20\n",
      "600/600 [==============================] - 9s 15ms/step - loss: 0.0560 - acc: 0.9917\n",
      "Epoch 7/20\n",
      "600/600 [==============================] - 8s 13ms/step - loss: 0.0523 - acc: 0.9867\n",
      "Epoch 8/20\n",
      "600/600 [==============================] - 8s 14ms/step - loss: 0.0466 - acc: 0.9883\n",
      "Epoch 9/20\n",
      "600/600 [==============================] - 8s 13ms/step - loss: 0.0312 - acc: 0.9967\n",
      "Epoch 10/20\n",
      "600/600 [==============================] - 8s 14ms/step - loss: 0.0258 - acc: 0.9967\n",
      "Epoch 11/20\n",
      "600/600 [==============================] - 8s 13ms/step - loss: 0.0292 - acc: 0.9950\n",
      "Epoch 12/20\n",
      "600/600 [==============================] - 8s 13ms/step - loss: 0.0193 - acc: 0.9983\n",
      "Epoch 13/20\n",
      "600/600 [==============================] - 8s 13ms/step - loss: 0.0216 - acc: 0.9933: 4s - loss\n",
      "Epoch 14/20\n",
      "600/600 [==============================] - 8s 13ms/step - loss: 0.0185 - acc: 0.9983\n",
      "Epoch 15/20\n",
      "600/600 [==============================] - 8s 14ms/step - loss: 0.0145 - acc: 0.9983\n",
      "Epoch 16/20\n",
      "600/600 [==============================] - 7s 12ms/step - loss: 0.0103 - acc: 0.9983\n",
      "Epoch 17/20\n",
      "600/600 [==============================] - 7s 12ms/step - loss: 0.0092 - acc: 0.9983\n",
      "Epoch 18/20\n",
      "600/600 [==============================] - 8s 14ms/step - loss: 0.0083 - acc: 1.0000\n",
      "Epoch 19/20\n",
      "600/600 [==============================] - 8s 13ms/step - loss: 0.0089 - acc: 0.9983\n",
      "Epoch 20/20\n",
      "600/600 [==============================] - 8s 13ms/step - loss: 0.0109 - acc: 0.9983: 1s - loss: 0.0105 - acc: \n"
     ]
    },
    {
     "data": {
      "text/plain": [
       "<keras.callbacks.History at 0x17823cbdb70>"
      ]
     },
     "execution_count": 13,
     "metadata": {},
     "output_type": "execute_result"
    }
   ],
   "source": [
    "### START CODE HERE ### (1 line)\n",
    "happyModel.fit(x=X_train, y=Y_train, batch_size=16, epochs=20)\n",
    "### END CODE HERE ###"
   ]
  },
  {
   "cell_type": "markdown",
   "metadata": {},
   "source": [
    "Note that if you run `fit()` again, the `model` will continue to train with the parameters it has already learnt instead of reinitializing them.\n",
    "\n",
    "**Exercise**: Implement step 4, i.e. test/evaluate the model."
   ]
  },
  {
   "cell_type": "code",
   "execution_count": 15,
   "metadata": {
    "scrolled": true
   },
   "outputs": [
    {
     "name": "stdout",
     "output_type": "stream",
     "text": [
      "150/150 [==============================] - 1s 4ms/step\n",
      "Loss = 0.0802116122841835\n",
      "Test Accuracy = 0.9533333309491475\n"
     ]
    }
   ],
   "source": [
    "### START CODE HERE ### (1 line)\n",
    "preds = happyModel.evaluate(x=X_test, y=Y_test)\n",
    "### END CODE HERE ###\n",
    "print (\"Loss = \" + str(preds[0]))\n",
    "print (\"Test Accuracy = \" + str(preds[1]))"
   ]
  },
  {
   "cell_type": "markdown",
   "metadata": {},
   "source": [
    "If your `happyModel()` function worked, you should have observed much better than random-guessing (50%) accuracy on the train and test sets. To pass this assignment, you have to get at least 75% accuracy. \n",
    "\n",
    "To give you a point of comparison, our model gets around **95% test accuracy in 40 epochs** (and 99% train accuracy) with a mini batch size of 16 and \"adam\" optimizer. But our model gets decent accuracy after just 2-5 epochs, so if you're comparing different models you can also train a variety of models on just a few epochs and see how they compare. \n",
    "\n",
    "If you have not yet achieved 75% accuracy, here're some things you can play around with to try to achieve it:\n",
    "\n",
    "- Try using blocks of CONV->BATCHNORM->RELU such as:\n",
    "```python\n",
    "X = Conv2D(32, (3, 3), strides = (1, 1), name = 'conv0')(X)\n",
    "X = BatchNormalization(axis = 3, name = 'bn0')(X)\n",
    "X = Activation('relu')(X)\n",
    "```\n",
    "until your height and width dimensions are quite low and your number of channels quite large (≈32 for example). You are encoding useful information in a volume with a lot of channels. You can then flatten the volume and use a fully-connected layer.\n",
    "- You can use MAXPOOL after such blocks. It will help you lower the dimension in height and width.\n",
    "- Change your optimizer. We find Adam works well. \n",
    "- If the model is struggling to run and you get memory issues, lower your batch_size (12 is usually a good compromise)\n",
    "- Run on more epochs, until you see the train accuracy plateauing. \n",
    "\n",
    "Even if you have achieved 75% accuracy, please feel free to keep playing with your model to try to get even better results. \n",
    "\n",
    "**Note**: If you perform hyperparameter tuning on your model, the test set actually becomes a dev set, and your model might end up overfitting to the test (dev) set. But just for the purpose of this assignment, we won't worry about that here.\n"
   ]
  },
  {
   "cell_type": "markdown",
   "metadata": {},
   "source": [
    "## 3 - Conclusion\n",
    "\n",
    "Congratulations, you have solved the Happy House challenge! \n",
    "\n",
    "Now, you just need to link this model to the front-door camera of your house. We unfortunately won't go into the details of how to do that here. "
   ]
  },
  {
   "cell_type": "markdown",
   "metadata": {},
   "source": [
    "<font color='blue'>\n",
    "**What we would like you to remember from this assignment:**\n",
    "- Keras is a tool we recommend for rapid prototyping. It allows you to quickly try out different model architectures. Are there any applications of deep learning to your daily life that you'd like to implement using Keras? \n",
    "- Remember how to code a model in Keras and the four steps leading to the evaluation of your model on the test set. Create->Compile->Fit/Train->Evaluate/Test."
   ]
  },
  {
   "cell_type": "markdown",
   "metadata": {},
   "source": [
    "## 4 - Test with your own image (Optional)\n",
    "\n",
    "Congratulations on finishing this assignment. You can now take a picture of your face and see if you could enter the Happy House. To do that:\n",
    "    1. Click on \"File\" in the upper bar of this notebook, then click \"Open\" to go on your Coursera Hub.\n",
    "    2. Add your image to this Jupyter Notebook's directory, in the \"images\" folder\n",
    "    3. Write your image's name in the following code\n",
    "    4. Run the code and check if the algorithm is right (0 is unhappy, 1 is happy)!\n",
    "    \n",
    "The training/test sets were quite similar; for example, all the pictures were taken against the same background (since a front door camera is always mounted in the same position). This makes the problem easier, but a model trained on this data may or may not work on your own data. But feel free to give it a try! "
   ]
  },
  {
   "cell_type": "code",
   "execution_count": 23,
   "metadata": {},
   "outputs": [
    {
     "name": "stdout",
     "output_type": "stream",
     "text": [
      "x.shape =  (64, 64, 3)\n",
      "expand_dims x.shape =  (1, 64, 64, 3)\n",
      "preprocess_input x.shape =  (1, 64, 64, 3)\n",
      "[[1.]]\n"
     ]
    },
    {
     "data": {
      "image/png": "[encoded data removed]",
      "text/plain": [
       "<matplotlib.figure.Figure at 0x20ae3908>"
      ]
     },
     "metadata": {},
     "output_type": "display_data"
    }
   ],
   "source": [
    "### START CODE HERE ###\n",
    "# img_path = 'images/my_image.jpg'\n",
    "# img_path = 'images/ok.jpg'\n",
    "# img_path = 'images/cartoon.jpg'\n",
    "img_path = 'images/cry.jpg'\n",
    "### END CODE HERE ###\n",
    "img = image.load_img(img_path, target_size=(64, 64))\n",
    "imshow(img)\n",
    "\n",
    "x = image.img_to_array(img)\n",
    "print(\"x.shape = \", x.shape)\n",
    "x = np.expand_dims(x, axis=0)\n",
    "print(\"expand_dims x.shape = \", x.shape)\n",
    "x = preprocess_input(x)\n",
    "print(\"preprocess_input x.shape = \", x.shape)\n",
    "\n",
    "print(happyModel.predict(x))"
   ]
  },
  {
   "cell_type": "markdown",
   "metadata": {},
   "source": [
    "## 5 - Other useful functions in Keras (Optional)\n",
    "\n",
    "Two other basic features of Keras that you'll find useful are:\n",
    "- `model.summary()`: prints the details of your layers in a table with the sizes of its inputs/outputs\n",
    "- `plot_model()`: plots your graph in a nice layout. You can even save it as \".png\" using SVG() if you'd like to share it on social media ;). It is saved in \"File\" then \"Open...\" in the upper bar of the notebook.\n",
    "\n",
    "Run the following code."
   ]
  },
  {
   "cell_type": "code",
   "execution_count": 24,
   "metadata": {
    "scrolled": false
   },
   "outputs": [
    {
     "name": "stdout",
     "output_type": "stream",
     "text": [
      "_________________________________________________________________\n",
      "Layer (type)                 Output Shape              Param #   \n",
      "=================================================================\n",
      "input_1 (InputLayer)         (None, 64, 64, 3)         0         \n",
      "_________________________________________________________________\n",
      "zero_padding2d_1 (ZeroPaddin (None, 66, 66, 3)         0         \n",
      "_________________________________________________________________\n",
      "conv2d_1 (Conv2D)            (None, 64, 64, 8)         224       \n",
      "_________________________________________________________________\n",
      "batch_normalization_1 (Batch (None, 64, 64, 8)         32        \n",
      "_________________________________________________________________\n",
      "activation_1 (Activation)    (None, 64, 64, 8)         0         \n",
      "_________________________________________________________________\n",
      "max_pooling2d_1 (MaxPooling2 (None, 32, 32, 8)         0         \n",
      "_________________________________________________________________\n",
      "zero_padding2d_2 (ZeroPaddin (None, 34, 34, 8)         0         \n",
      "_________________________________________________________________\n",
      "conv2d_2 (Conv2D)            (None, 32, 32, 16)        1168      \n",
      "_________________________________________________________________\n",
      "batch_normalization_2 (Batch (None, 32, 32, 16)        64        \n",
      "_________________________________________________________________\n",
      "activation_2 (Activation)    (None, 32, 32, 16)        0         \n",
      "_________________________________________________________________\n",
      "max_pooling2d_2 (MaxPooling2 (None, 16, 16, 16)        0         \n",
      "_________________________________________________________________\n",
      "zero_padding2d_3 (ZeroPaddin (None, 18, 18, 16)        0         \n",
      "_________________________________________________________________\n",
      "conv2d_3 (Conv2D)            (None, 16, 16, 32)        4640      \n",
      "_________________________________________________________________\n",
      "batch_normalization_3 (Batch (None, 16, 16, 32)        128       \n",
      "_________________________________________________________________\n",
      "activation_3 (Activation)    (None, 16, 16, 32)        0         \n",
      "_________________________________________________________________\n",
      "max_pooling2d_3 (MaxPooling2 (None, 8, 8, 32)          0         \n",
      "_________________________________________________________________\n",
      "flatten_1 (Flatten)          (None, 2048)              0         \n",
      "_________________________________________________________________\n",
      "dense_1 (Dense)              (None, 1)                 2049      \n",
      "=================================================================\n",
      "Total params: 8,305\n",
      "Trainable params: 8,193\n",
      "Non-trainable params: 112\n",
      "_________________________________________________________________\n"
     ]
    }
   ],
   "source": [
    "happyModel.summary()"
   ]
  },
  {
   "cell_type": "code",
   "execution_count": 25,
   "metadata": {},
   "outputs": [
    {
     "data": {
      "image/svg+xml": [
       "<svg height=\"1286pt\" viewBox=\"0.00 0.00 279.00 1286.00\" width=\"279pt\" xmlns=\"http://www.w3.org/2000/svg\" xmlns:xlink=\"http://www.w3.org/1999/xlink\">\n",
       "<g class=\"graph\" id=\"graph0\" transform=\"scale(1 1) rotate(0) translate(4 1282)\">\n",
       "<title>G</title>\n",
       "<polygon fill=\"white\" points=\"-4,4 -4,-1282 275,-1282 275,4 -4,4\" stroke=\"none\"/>\n",
       "<!-- 386825072 -->\n",
       "<g class=\"node\" id=\"node1\"><title>386825072</title>\n",
       "<polygon fill=\"none\" points=\"69,-1241.5 69,-1277.5 202,-1277.5 202,-1241.5 69,-1241.5\" stroke=\"black\"/>\n",
       "<text font-family=\"Times New Roman,serif\" font-size=\"14.00\" text-anchor=\"middle\" x=\"135.5\" y=\"-1255.8\">input_1: InputLayer</text>\n",
       "</g>\n",
       "<!-- 386547328 -->\n",
       "<g class=\"node\" id=\"node2\"><title>386547328</title>\n",
       "<polygon fill=\"none\" points=\"22.5,-1168.5 22.5,-1204.5 248.5,-1204.5 248.5,-1168.5 22.5,-1168.5\" stroke=\"black\"/>\n",
       "<text font-family=\"Times New Roman,serif\" font-size=\"14.00\" text-anchor=\"middle\" x=\"135.5\" y=\"-1182.8\">zero_padding2d_1: ZeroPadding2D</text>\n",
       "</g>\n",
       "<!-- 386825072&#45;&gt;386547328 -->\n",
       "<g class=\"edge\" id=\"edge1\"><title>386825072-&gt;386547328</title>\n",
       "<path d=\"M135.5,-1241.31C135.5,-1233.29 135.5,-1223.55 135.5,-1214.57\" fill=\"none\" stroke=\"black\"/>\n",
       "<polygon fill=\"black\" points=\"139,-1214.53 135.5,-1204.53 132,-1214.53 139,-1214.53\" stroke=\"black\"/>\n",
       "</g>\n",
       "<!-- 386620384 -->\n",
       "<g class=\"node\" id=\"node3\"><title>386620384</title>\n",
       "<polygon fill=\"none\" points=\"69,-1095.5 69,-1131.5 202,-1131.5 202,-1095.5 69,-1095.5\" stroke=\"black\"/>\n",
       "<text font-family=\"Times New Roman,serif\" font-size=\"14.00\" text-anchor=\"middle\" x=\"135.5\" y=\"-1109.8\">conv2d_1: Conv2D</text>\n",
       "</g>\n",
       "<!-- 386547328&#45;&gt;386620384 -->\n",
       "<g class=\"edge\" id=\"edge2\"><title>386547328-&gt;386620384</title>\n",
       "<path d=\"M135.5,-1168.31C135.5,-1160.29 135.5,-1150.55 135.5,-1141.57\" fill=\"none\" stroke=\"black\"/>\n",
       "<polygon fill=\"black\" points=\"139,-1141.53 135.5,-1131.53 132,-1141.53 139,-1141.53\" stroke=\"black\"/>\n",
       "</g>\n",
       "<!-- 386619152 -->\n",
       "<g class=\"node\" id=\"node4\"><title>386619152</title>\n",
       "<polygon fill=\"none\" points=\"0,-1022.5 0,-1058.5 271,-1058.5 271,-1022.5 0,-1022.5\" stroke=\"black\"/>\n",
       "<text font-family=\"Times New Roman,serif\" font-size=\"14.00\" text-anchor=\"middle\" x=\"135.5\" y=\"-1036.8\">batch_normalization_1: BatchNormalization</text>\n",
       "</g>\n",
       "<!-- 386620384&#45;&gt;386619152 -->\n",
       "<g class=\"edge\" id=\"edge3\"><title>386620384-&gt;386619152</title>\n",
       "<path d=\"M135.5,-1095.31C135.5,-1087.29 135.5,-1077.55 135.5,-1068.57\" fill=\"none\" stroke=\"black\"/>\n",
       "<polygon fill=\"black\" points=\"139,-1068.53 135.5,-1058.53 132,-1068.53 139,-1068.53\" stroke=\"black\"/>\n",
       "</g>\n",
       "<!-- 386621392 -->\n",
       "<g class=\"node\" id=\"node5\"><title>386621392</title>\n",
       "<polygon fill=\"none\" points=\"58,-949.5 58,-985.5 213,-985.5 213,-949.5 58,-949.5\" stroke=\"black\"/>\n",
       "<text font-family=\"Times New Roman,serif\" font-size=\"14.00\" text-anchor=\"middle\" x=\"135.5\" y=\"-963.8\">activation_1: Activation</text>\n",
       "</g>\n",
       "<!-- 386619152&#45;&gt;386621392 -->\n",
       "<g class=\"edge\" id=\"edge4\"><title>386619152-&gt;386621392</title>\n",
       "<path d=\"M135.5,-1022.31C135.5,-1014.29 135.5,-1004.55 135.5,-995.569\" fill=\"none\" stroke=\"black\"/>\n",
       "<polygon fill=\"black\" points=\"139,-995.529 135.5,-985.529 132,-995.529 139,-995.529\" stroke=\"black\"/>\n",
       "</g>\n",
       "<!-- 387169976 -->\n",
       "<g class=\"node\" id=\"node6\"><title>387169976</title>\n",
       "<polygon fill=\"none\" points=\"25,-876.5 25,-912.5 246,-912.5 246,-876.5 25,-876.5\" stroke=\"black\"/>\n",
       "<text font-family=\"Times New Roman,serif\" font-size=\"14.00\" text-anchor=\"middle\" x=\"135.5\" y=\"-890.8\">max_pooling2d_1: MaxPooling2D</text>\n",
       "</g>\n",
       "<!-- 386621392&#45;&gt;387169976 -->\n",
       "<g class=\"edge\" id=\"edge5\"><title>386621392-&gt;387169976</title>\n",
       "<path d=\"M135.5,-949.313C135.5,-941.289 135.5,-931.547 135.5,-922.569\" fill=\"none\" stroke=\"black\"/>\n",
       "<polygon fill=\"black\" points=\"139,-922.529 135.5,-912.529 132,-922.529 139,-922.529\" stroke=\"black\"/>\n",
       "</g>\n",
       "<!-- 386528256 -->\n",
       "<g class=\"node\" id=\"node7\"><title>386528256</title>\n",
       "<polygon fill=\"none\" points=\"22.5,-803.5 22.5,-839.5 248.5,-839.5 248.5,-803.5 22.5,-803.5\" stroke=\"black\"/>\n",
       "<text font-family=\"Times New Roman,serif\" font-size=\"14.00\" text-anchor=\"middle\" x=\"135.5\" y=\"-817.8\">zero_padding2d_2: ZeroPadding2D</text>\n",
       "</g>\n",
       "<!-- 387169976&#45;&gt;386528256 -->\n",
       "<g class=\"edge\" id=\"edge6\"><title>387169976-&gt;386528256</title>\n",
       "<path d=\"M135.5,-876.313C135.5,-868.289 135.5,-858.547 135.5,-849.569\" fill=\"none\" stroke=\"black\"/>\n",
       "<polygon fill=\"black\" points=\"139,-849.529 135.5,-839.529 132,-849.529 139,-849.529\" stroke=\"black\"/>\n",
       "</g>\n",
       "<!-- 386529432 -->\n",
       "<g class=\"node\" id=\"node8\"><title>386529432</title>\n",
       "<polygon fill=\"none\" points=\"69,-730.5 69,-766.5 202,-766.5 202,-730.5 69,-730.5\" stroke=\"black\"/>\n",
       "<text font-family=\"Times New Roman,serif\" font-size=\"14.00\" text-anchor=\"middle\" x=\"135.5\" y=\"-744.8\">conv2d_2: Conv2D</text>\n",
       "</g>\n",
       "<!-- 386528256&#45;&gt;386529432 -->\n",
       "<g class=\"edge\" id=\"edge7\"><title>386528256-&gt;386529432</title>\n",
       "<path d=\"M135.5,-803.313C135.5,-795.289 135.5,-785.547 135.5,-776.569\" fill=\"none\" stroke=\"black\"/>\n",
       "<polygon fill=\"black\" points=\"139,-776.529 135.5,-766.529 132,-776.529 139,-776.529\" stroke=\"black\"/>\n",
       "</g>\n",
       "<!-- 387815688 -->\n",
       "<g class=\"node\" id=\"node9\"><title>387815688</title>\n",
       "<polygon fill=\"none\" points=\"0,-657.5 0,-693.5 271,-693.5 271,-657.5 0,-657.5\" stroke=\"black\"/>\n",
       "<text font-family=\"Times New Roman,serif\" font-size=\"14.00\" text-anchor=\"middle\" x=\"135.5\" y=\"-671.8\">batch_normalization_2: BatchNormalization</text>\n",
       "</g>\n",
       "<!-- 386529432&#45;&gt;387815688 -->\n",
       "<g class=\"edge\" id=\"edge8\"><title>386529432-&gt;387815688</title>\n",
       "<path d=\"M135.5,-730.313C135.5,-722.289 135.5,-712.547 135.5,-703.569\" fill=\"none\" stroke=\"black\"/>\n",
       "<polygon fill=\"black\" points=\"139,-703.529 135.5,-693.529 132,-703.529 139,-703.529\" stroke=\"black\"/>\n",
       "</g>\n",
       "<!-- 387815184 -->\n",
       "<g class=\"node\" id=\"node10\"><title>387815184</title>\n",
       "<polygon fill=\"none\" points=\"58,-584.5 58,-620.5 213,-620.5 213,-584.5 58,-584.5\" stroke=\"black\"/>\n",
       "<text font-family=\"Times New Roman,serif\" font-size=\"14.00\" text-anchor=\"middle\" x=\"135.5\" y=\"-598.8\">activation_2: Activation</text>\n",
       "</g>\n",
       "<!-- 387815688&#45;&gt;387815184 -->\n",
       "<g class=\"edge\" id=\"edge9\"><title>387815688-&gt;387815184</title>\n",
       "<path d=\"M135.5,-657.313C135.5,-649.289 135.5,-639.547 135.5,-630.569\" fill=\"none\" stroke=\"black\"/>\n",
       "<polygon fill=\"black\" points=\"139,-630.529 135.5,-620.529 132,-630.529 139,-630.529\" stroke=\"black\"/>\n",
       "</g>\n",
       "<!-- 388152848 -->\n",
       "<g class=\"node\" id=\"node11\"><title>388152848</title>\n",
       "<polygon fill=\"none\" points=\"25,-511.5 25,-547.5 246,-547.5 246,-511.5 25,-511.5\" stroke=\"black\"/>\n",
       "<text font-family=\"Times New Roman,serif\" font-size=\"14.00\" text-anchor=\"middle\" x=\"135.5\" y=\"-525.8\">max_pooling2d_2: MaxPooling2D</text>\n",
       "</g>\n",
       "<!-- 387815184&#45;&gt;388152848 -->\n",
       "<g class=\"edge\" id=\"edge10\"><title>387815184-&gt;388152848</title>\n",
       "<path d=\"M135.5,-584.313C135.5,-576.289 135.5,-566.547 135.5,-557.569\" fill=\"none\" stroke=\"black\"/>\n",
       "<polygon fill=\"black\" points=\"139,-557.529 135.5,-547.529 132,-557.529 139,-557.529\" stroke=\"black\"/>\n",
       "</g>\n",
       "<!-- 387949512 -->\n",
       "<g class=\"node\" id=\"node12\"><title>387949512</title>\n",
       "<polygon fill=\"none\" points=\"22.5,-438.5 22.5,-474.5 248.5,-474.5 248.5,-438.5 22.5,-438.5\" stroke=\"black\"/>\n",
       "<text font-family=\"Times New Roman,serif\" font-size=\"14.00\" text-anchor=\"middle\" x=\"135.5\" y=\"-452.8\">zero_padding2d_3: ZeroPadding2D</text>\n",
       "</g>\n",
       "<!-- 388152848&#45;&gt;387949512 -->\n",
       "<g class=\"edge\" id=\"edge11\"><title>388152848-&gt;387949512</title>\n",
       "<path d=\"M135.5,-511.313C135.5,-503.289 135.5,-493.547 135.5,-484.569\" fill=\"none\" stroke=\"black\"/>\n",
       "<polygon fill=\"black\" points=\"139,-484.529 135.5,-474.529 132,-484.529 139,-484.529\" stroke=\"black\"/>\n",
       "</g>\n",
       "<!-- 387951976 -->\n",
       "<g class=\"node\" id=\"node13\"><title>387951976</title>\n",
       "<polygon fill=\"none\" points=\"69,-365.5 69,-401.5 202,-401.5 202,-365.5 69,-365.5\" stroke=\"black\"/>\n",
       "<text font-family=\"Times New Roman,serif\" font-size=\"14.00\" text-anchor=\"middle\" x=\"135.5\" y=\"-379.8\">conv2d_3: Conv2D</text>\n",
       "</g>\n",
       "<!-- 387949512&#45;&gt;387951976 -->\n",
       "<g class=\"edge\" id=\"edge12\"><title>387949512-&gt;387951976</title>\n",
       "<path d=\"M135.5,-438.313C135.5,-430.289 135.5,-420.547 135.5,-411.569\" fill=\"none\" stroke=\"black\"/>\n",
       "<polygon fill=\"black\" points=\"139,-411.529 135.5,-401.529 132,-411.529 139,-411.529\" stroke=\"black\"/>\n",
       "</g>\n",
       "<!-- 390720200 -->\n",
       "<g class=\"node\" id=\"node14\"><title>390720200</title>\n",
       "<polygon fill=\"none\" points=\"0,-292.5 0,-328.5 271,-328.5 271,-292.5 0,-292.5\" stroke=\"black\"/>\n",
       "<text font-family=\"Times New Roman,serif\" font-size=\"14.00\" text-anchor=\"middle\" x=\"135.5\" y=\"-306.8\">batch_normalization_3: BatchNormalization</text>\n",
       "</g>\n",
       "<!-- 387951976&#45;&gt;390720200 -->\n",
       "<g class=\"edge\" id=\"edge13\"><title>387951976-&gt;390720200</title>\n",
       "<path d=\"M135.5,-365.313C135.5,-357.289 135.5,-347.547 135.5,-338.569\" fill=\"none\" stroke=\"black\"/>\n",
       "<polygon fill=\"black\" points=\"139,-338.529 135.5,-328.529 132,-338.529 139,-338.529\" stroke=\"black\"/>\n",
       "</g>\n",
       "<!-- 390719976 -->\n",
       "<g class=\"node\" id=\"node15\"><title>390719976</title>\n",
       "<polygon fill=\"none\" points=\"58,-219.5 58,-255.5 213,-255.5 213,-219.5 58,-219.5\" stroke=\"black\"/>\n",
       "<text font-family=\"Times New Roman,serif\" font-size=\"14.00\" text-anchor=\"middle\" x=\"135.5\" y=\"-233.8\">activation_3: Activation</text>\n",
       "</g>\n",
       "<!-- 390720200&#45;&gt;390719976 -->\n",
       "<g class=\"edge\" id=\"edge14\"><title>390720200-&gt;390719976</title>\n",
       "<path d=\"M135.5,-292.313C135.5,-284.289 135.5,-274.547 135.5,-265.569\" fill=\"none\" stroke=\"black\"/>\n",
       "<polygon fill=\"black\" points=\"139,-265.529 135.5,-255.529 132,-265.529 139,-265.529\" stroke=\"black\"/>\n",
       "</g>\n",
       "<!-- 391056968 -->\n",
       "<g class=\"node\" id=\"node16\"><title>391056968</title>\n",
       "<polygon fill=\"none\" points=\"25,-146.5 25,-182.5 246,-182.5 246,-146.5 25,-146.5\" stroke=\"black\"/>\n",
       "<text font-family=\"Times New Roman,serif\" font-size=\"14.00\" text-anchor=\"middle\" x=\"135.5\" y=\"-160.8\">max_pooling2d_3: MaxPooling2D</text>\n",
       "</g>\n",
       "<!-- 390719976&#45;&gt;391056968 -->\n",
       "<g class=\"edge\" id=\"edge15\"><title>390719976-&gt;391056968</title>\n",
       "<path d=\"M135.5,-219.313C135.5,-211.289 135.5,-201.547 135.5,-192.569\" fill=\"none\" stroke=\"black\"/>\n",
       "<polygon fill=\"black\" points=\"139,-192.529 135.5,-182.529 132,-192.529 139,-192.529\" stroke=\"black\"/>\n",
       "</g>\n",
       "<!-- 390837248 -->\n",
       "<g class=\"node\" id=\"node17\"><title>390837248</title>\n",
       "<polygon fill=\"none\" points=\"79,-73.5 79,-109.5 192,-109.5 192,-73.5 79,-73.5\" stroke=\"black\"/>\n",
       "<text font-family=\"Times New Roman,serif\" font-size=\"14.00\" text-anchor=\"middle\" x=\"135.5\" y=\"-87.8\">flatten_1: Flatten</text>\n",
       "</g>\n",
       "<!-- 391056968&#45;&gt;390837248 -->\n",
       "<g class=\"edge\" id=\"edge16\"><title>391056968-&gt;390837248</title>\n",
       "<path d=\"M135.5,-146.313C135.5,-138.289 135.5,-128.547 135.5,-119.569\" fill=\"none\" stroke=\"black\"/>\n",
       "<polygon fill=\"black\" points=\"139,-119.529 135.5,-109.529 132,-119.529 139,-119.529\" stroke=\"black\"/>\n",
       "</g>\n",
       "<!-- 390954400 -->\n",
       "<g class=\"node\" id=\"node18\"><title>390954400</title>\n",
       "<polygon fill=\"none\" points=\"82,-0.5 82,-36.5 189,-36.5 189,-0.5 82,-0.5\" stroke=\"black\"/>\n",
       "<text font-family=\"Times New Roman,serif\" font-size=\"14.00\" text-anchor=\"middle\" x=\"135.5\" y=\"-14.8\">dense_1: Dense</text>\n",
       "</g>\n",
       "<!-- 390837248&#45;&gt;390954400 -->\n",
       "<g class=\"edge\" id=\"edge17\"><title>390837248-&gt;390954400</title>\n",
       "<path d=\"M135.5,-73.3129C135.5,-65.2895 135.5,-55.5475 135.5,-46.5691\" fill=\"none\" stroke=\"black\"/>\n",
       "<polygon fill=\"black\" points=\"139,-46.5288 135.5,-36.5288 132,-46.5289 139,-46.5288\" stroke=\"black\"/>\n",
       "</g>\n",
       "</g>\n",
       "</svg>"
      ],
      "text/plain": [
       "<IPython.core.display.SVG object>"
      ]
     },
     "execution_count": 25,
     "metadata": {},
     "output_type": "execute_result"
    }
   ],
   "source": [
    "plot_model(happyModel, to_file='HappyModel.png')\n",
    "SVG(model_to_dot(happyModel).create(prog='dot', format='svg')) #SVG 指可伸缩矢量图形 (Scalable Vector Graphics)"
   ]
  },
  {
   "cell_type": "code",
   "execution_count": null,
   "metadata": {
    "collapsed": true
   },
   "outputs": [],
   "source": []
  }
 ],
 "metadata": {
  "anaconda-cloud": {},
  "kernelspec": {
   "display_name": "Python 3",
   "language": "python",
   "name": "python3"
  },
  "language_info": {
   "codemirror_mode": {
    "name": "ipython",
    "version": 3
   },
   "file_extension": ".py",
   "mimetype": "text/x-python",
   "name": "python",
   "nbconvert_exporter": "python",
   "pygments_lexer": "ipython3",
   "version": "3.6.1"
  }
 },
 "nbformat": 4,
 "nbformat_minor": 2
}
