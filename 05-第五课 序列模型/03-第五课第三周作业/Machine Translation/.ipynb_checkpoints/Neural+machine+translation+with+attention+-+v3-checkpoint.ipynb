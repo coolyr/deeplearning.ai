{
 "cells": [
  {
   "cell_type": "markdown",
   "metadata": {},
   "source": [
    "# Neural Machine Translation\n",
    "\n",
    "Welcome to your first programming assignment for this week! \n",
    "\n",
    "You will build a Neural Machine Translation (NMT) model to translate human readable dates (\"25th of June, 2009\") into machine readable dates (\"2009-06-25\"). You will do this using an attention model, one of the most sophisticated sequence to sequence models. \n",
    "\n",
    "This notebook was produced together with NVIDIA's Deep Learning Institute. \n",
    "\n",
    "Let's load all the packages you will need for this assignment."
   ]
  },
  {
   "cell_type": "code",
   "execution_count": 20,
   "metadata": {},
   "outputs": [],
   "source": [
    "from keras.layers import Bidirectional, Concatenate, Permute, Dot, Input, LSTM, Multiply\n",
    "from keras.layers import RepeatVector, Dense, Activation, Lambda\n",
    "from keras.optimizers import Adam\n",
    "from keras.utils import to_categorical\n",
    "from keras.models import load_model, Model\n",
    "import keras.backend as K\n",
    "import numpy as np\n",
    "\n",
    "from faker import Faker\n",
    "import random\n",
    "from tqdm import tqdm\n",
    "from babel.dates import format_date\n",
    "from nmt_utils import *\n",
    "import matplotlib.pyplot as plt\n",
    "%matplotlib inline"
   ]
  },
  {
   "cell_type": "markdown",
   "metadata": {},
   "source": [
    "## 1 - Translating human readable dates into machine readable dates\n",
    "\n",
    "The model you will build here could be used to translate from one language to another, such as translating from English to Hindi. However, language translation requires massive datasets and usually takes days of training on GPUs. To give you a place to experiment with these models even without using massive datasets, we will instead use a simpler \"date translation\" task. \n",
    "\n",
    "The network will input a date written in a variety of possible formats (*e.g. \"the 29th of August 1958\", \"03/30/1968\", \"24 JUNE 1987\"*) and translate them into standardized, machine readable dates (*e.g. \"1958-08-29\", \"1968-03-30\", \"1987-06-24\"*). We will have the network learn to output dates in the common machine-readable format YYYY-MM-DD. \n",
    "\n",
    "\n",
    "\n",
    "<!-- \n",
    "Take a look at [nmt_utils.py](./nmt_utils.py) to see all the formatting. Count and figure out how the formats work, you will need this knowledge later. !--> "
   ]
  },
  {
   "cell_type": "markdown",
   "metadata": {},
   "source": [
    "### 1.1 - Dataset\n",
    "\n",
    "We will train the model on a dataset of 10000 human readable dates and their equivalent, standardized, machine readable dates. Let's run the following cells to load the dataset and print some examples. "
   ]
  },
  {
   "cell_type": "code",
   "execution_count": 21,
   "metadata": {},
   "outputs": [
    {
     "name": "stderr",
     "output_type": "stream",
     "text": [
      "100%|█████████████████████████████████| 10000/10000 [00:00<00:00, 22172.94it/s]\n"
     ]
    }
   ],
   "source": [
    "m = 10000\n",
    "dataset, human_vocab, machine_vocab, inv_machine_vocab = load_dataset(m)"
   ]
  },
  {
   "cell_type": "code",
   "execution_count": 22,
   "metadata": {},
   "outputs": [
    {
     "name": "stdout",
     "output_type": "stream",
     "text": [
      "dataset[:5] [('6 april 2003', '2003-04-06'), ('thursday may 26 1988', '1988-05-26'), ('friday april 14 2017', '2017-04-14'), ('11/2/13', '2013-11-02'), ('thursday december 3 1992', '1992-12-03')]\n",
      "human_vocab =  {' ': 0, '.': 1, '/': 2, '0': 3, '1': 4, '2': 5, '3': 6, '4': 7, '5': 8, '6': 9, '7': 10, '8': 11, '9': 12, 'a': 13, 'b': 14, 'c': 15, 'd': 16, 'e': 17, 'f': 18, 'g': 19, 'h': 20, 'i': 21, 'j': 22, 'l': 23, 'm': 24, 'n': 25, 'o': 26, 'p': 27, 'r': 28, 's': 29, 't': 30, 'u': 31, 'v': 32, 'w': 33, 'y': 34, '<unk>': 35, '<pad>': 36}\n",
      "machine_vocab =  {'-': 0, '0': 1, '1': 2, '2': 3, '3': 4, '4': 5, '5': 6, '6': 7, '7': 8, '8': 9, '9': 10}\n",
      "inv_machine_vocab =  {0: '-', 1: '0', 2: '1', 3: '2', 4: '3', 5: '4', 6: '5', 7: '6', 8: '7', 9: '8', 10: '9'}\n"
     ]
    }
   ],
   "source": [
    "print(\"dataset[:5]\", dataset[:5])\n",
    "print(\"human_vocab = \", human_vocab)\n",
    "print(\"machine_vocab = \", machine_vocab)\n",
    "print(\"inv_machine_vocab = \", inv_machine_vocab)"
   ]
  },
  {
   "cell_type": "markdown",
   "metadata": {},
   "source": [
    "You've loaded:\n",
    "- `dataset`: a list of tuples of (human readable date, machine readable date)\n",
    "- `human_vocab`: a python dictionary mapping all characters used in the human readable dates to an integer-valued index \n",
    "- `machine_vocab`: a python dictionary mapping all characters used in machine readable dates to an integer-valued index. These indices are not necessarily consistent with `human_vocab`. \n",
    "- `inv_machine_vocab`: the inverse dictionary of `machine_vocab`, mapping from indices back to characters. \n",
    "\n",
    "Let's preprocess the data and map the raw text data into the index values. We will also use Tx=30 (which we assume is the maximum length of the human readable date; if we get a longer input, we would have to truncate it) and Ty=10 (since \"YYYY-MM-DD\" is 10 characters long). "
   ]
  },
  {
   "cell_type": "code",
   "execution_count": 23,
   "metadata": {},
   "outputs": [
    {
     "name": "stdout",
     "output_type": "stream",
     "text": [
      "X.shape: (10000, 30)\n",
      "Y.shape: (10000, 10)\n",
      "Xoh.shape: (10000, 30, 37)\n",
      "Yoh.shape: (10000, 10, 11)\n",
      "X[0] =  [ 9  0 13 27 28 21 23  0  5  3  3  6 36 36 36 36 36 36 36 36 36 36 36 36\n",
      " 36 36 36 36 36 36]\n",
      "Y[0] =  [3 1 1 4 0 1 5 0 1 7]\n",
      "Xoh[0] =  [[0. 0. 0. ... 0. 0. 0.]\n",
      " [1. 0. 0. ... 0. 0. 0.]\n",
      " [0. 0. 0. ... 0. 0. 0.]\n",
      " ...\n",
      " [0. 0. 0. ... 0. 0. 1.]\n",
      " [0. 0. 0. ... 0. 0. 1.]\n",
      " [0. 0. 0. ... 0. 0. 1.]]\n",
      "Yoh[0] =  [[0. 0. 0. 1. 0. 0. 0. 0. 0. 0. 0.]\n",
      " [0. 1. 0. 0. 0. 0. 0. 0. 0. 0. 0.]\n",
      " [0. 1. 0. 0. 0. 0. 0. 0. 0. 0. 0.]\n",
      " [0. 0. 0. 0. 1. 0. 0. 0. 0. 0. 0.]\n",
      " [1. 0. 0. 0. 0. 0. 0. 0. 0. 0. 0.]\n",
      " [0. 1. 0. 0. 0. 0. 0. 0. 0. 0. 0.]\n",
      " [0. 0. 0. 0. 0. 1. 0. 0. 0. 0. 0.]\n",
      " [1. 0. 0. 0. 0. 0. 0. 0. 0. 0. 0.]\n",
      " [0. 1. 0. 0. 0. 0. 0. 0. 0. 0. 0.]\n",
      " [0. 0. 0. 0. 0. 0. 0. 1. 0. 0. 0.]]\n"
     ]
    }
   ],
   "source": [
    "Tx = 30\n",
    "Ty = 10\n",
    "X, Y, Xoh, Yoh = preprocess_data(dataset, human_vocab, machine_vocab, Tx, Ty)\n",
    "\n",
    "print(\"X.shape:\", X.shape)\n",
    "print(\"Y.shape:\", Y.shape)\n",
    "print(\"Xoh.shape:\", Xoh.shape)\n",
    "print(\"Yoh.shape:\", Yoh.shape)\n",
    "\n",
    "print(\"X[0] = \", X[0])\n",
    "print(\"Y[0] = \", Y[0])\n",
    "print(\"Xoh[0] = \", Xoh[0])\n",
    "print(\"Yoh[0] = \", Yoh[0])"
   ]
  },
  {
   "cell_type": "markdown",
   "metadata": {},
   "source": [
    "You now have:\n",
    "- `X`: a processed version of the human readable dates in the training set, where each character is replaced by an index mapped to the character via `human_vocab`. Each date is further padded to $T_x$ values with a special character (< pad >). `X.shape = (m, Tx)`\n",
    "- `Y`: a processed version of the machine readable dates in the training set, where each character is replaced by the index it is mapped to in `machine_vocab`. You should have `Y.shape = (m, Ty)`. \n",
    "- `Xoh`: one-hot version of `X`, the \"1\" entry's index is mapped to the character thanks to `human_vocab`. `Xoh.shape = (m, Tx, len(human_vocab))`\n",
    "- `Yoh`: one-hot version of `Y`, the \"1\" entry's index is mapped to the character thanks to `machine_vocab`. `Yoh.shape = (m, Tx, len(machine_vocab))`. Here, `len(machine_vocab) = 11` since there are 11 characters ('-' as well as 0-9). \n"
   ]
  },
  {
   "cell_type": "markdown",
   "metadata": {},
   "source": [
    "Lets also look at some examples of preprocessed training examples. Feel free to play with `index` in the cell below to navigate the dataset and see how source/target dates are preprocessed. "
   ]
  },
  {
   "cell_type": "code",
   "execution_count": 24,
   "metadata": {},
   "outputs": [
    {
     "name": "stdout",
     "output_type": "stream",
     "text": [
      "Source date: 6 april 2003\n",
      "Target date: 2003-04-06\n",
      "\n",
      "Source after preprocessing (indices): [ 9  0 13 27 28 21 23  0  5  3  3  6 36 36 36 36 36 36 36 36 36 36 36 36\n",
      " 36 36 36 36 36 36]\n",
      "Target after preprocessing (indices): [3 1 1 4 0 1 5 0 1 7]\n",
      "\n",
      "Source after preprocessing (one-hot): [[0. 0. 0. ... 0. 0. 0.]\n",
      " [1. 0. 0. ... 0. 0. 0.]\n",
      " [0. 0. 0. ... 0. 0. 0.]\n",
      " ...\n",
      " [0. 0. 0. ... 0. 0. 1.]\n",
      " [0. 0. 0. ... 0. 0. 1.]\n",
      " [0. 0. 0. ... 0. 0. 1.]]\n",
      "Target after preprocessing (one-hot): [[0. 0. 0. 1. 0. 0. 0. 0. 0. 0. 0.]\n",
      " [0. 1. 0. 0. 0. 0. 0. 0. 0. 0. 0.]\n",
      " [0. 1. 0. 0. 0. 0. 0. 0. 0. 0. 0.]\n",
      " [0. 0. 0. 0. 1. 0. 0. 0. 0. 0. 0.]\n",
      " [1. 0. 0. 0. 0. 0. 0. 0. 0. 0. 0.]\n",
      " [0. 1. 0. 0. 0. 0. 0. 0. 0. 0. 0.]\n",
      " [0. 0. 0. 0. 0. 1. 0. 0. 0. 0. 0.]\n",
      " [1. 0. 0. 0. 0. 0. 0. 0. 0. 0. 0.]\n",
      " [0. 1. 0. 0. 0. 0. 0. 0. 0. 0. 0.]\n",
      " [0. 0. 0. 0. 0. 0. 0. 1. 0. 0. 0.]]\n"
     ]
    }
   ],
   "source": [
    "index = 0\n",
    "print(\"Source date:\", dataset[index][0])\n",
    "print(\"Target date:\", dataset[index][1])\n",
    "print()\n",
    "print(\"Source after preprocessing (indices):\", X[index])\n",
    "print(\"Target after preprocessing (indices):\", Y[index])\n",
    "print()\n",
    "print(\"Source after preprocessing (one-hot):\", Xoh[index])\n",
    "print(\"Target after preprocessing (one-hot):\", Yoh[index])"
   ]
  },
  {
   "cell_type": "markdown",
   "metadata": {},
   "source": [
    "## 2 - Neural machine translation with attention\n",
    "\n",
    "If you had to translate a book's paragraph from French to English, you would not read the whole paragraph, then close the book and translate. Even during the translation process, you would read/re-read and focus on the parts of the French paragraph corresponding to the parts of the English you are writing down. \n",
    "\n",
    "The attention mechanism tells a Neural Machine Translation model where it should pay attention to at any step. \n",
    "\n",
    "\n",
    "### 2.1 - Attention mechanism\n",
    "\n",
    "In this part, you will implement the attention mechanism presented in the lecture videos. Here is a figure to remind you how the model works. The diagram on the left shows the attention model. The diagram on the right shows what one \"Attention\" step does to calculate the attention variables $\\alpha^{\\langle t, t' \\rangle}$, which are used to compute the context variable $context^{\\langle t \\rangle}$ for each timestep in the output ($t=1, \\ldots, T_y$). \n",
    "\n",
    "<table>\n",
    "<td> \n",
    "<img src=\"images/attn_model.png\" style=\"width:500;height:500px;\"> <br>\n",
    "</td> \n",
    "<td> \n",
    "<img src=\"images/attn_mechanism.png\" style=\"width:500;height:500px;\"> <br>\n",
    "</td> \n",
    "</table>\n",
    "<caption><center> **Figure 1**: Neural machine translation with attention</center></caption>\n"
   ]
  },
  {
   "cell_type": "markdown",
   "metadata": {},
   "source": [
    "\n",
    "Here are some properties of the model that you may notice: \n",
    "\n",
    "- There are two separate LSTMs in this model (see diagram on the left). Because the one at the bottom of the picture is a Bi-directional LSTM and comes *before* the attention mechanism, we will call it *pre-attention* Bi-LSTM. The LSTM at the top of the diagram comes *after* the attention mechanism, so we will call it the *post-attention* LSTM. The pre-attention Bi-LSTM goes through $T_x$ time steps; the post-attention LSTM goes through $T_y$ time steps. \n",
    "\n",
    "- The post-attention LSTM passes $s^{\\langle t \\rangle}, c^{\\langle t \\rangle}$ from one time step to the next. In the lecture videos, we were using only a basic RNN for the post-activation sequence model, so the state captured by the RNN output activations $s^{\\langle t\\rangle}$. But since we are using an LSTM here, the LSTM has both the output activation $s^{\\langle t\\rangle}$ and the hidden cell state $c^{\\langle t\\rangle}$. However, unlike previous text generation examples (such as Dinosaurus in week 1), in this model the post-activation LSTM at time $t$ does will not take the specific generated $y^{\\langle t-1 \\rangle}$ as input; it only takes $s^{\\langle t\\rangle}$ and $c^{\\langle t\\rangle}$ as input. We have designed the model this way, because (unlike language generation where adjacent characters are highly correlated) there isn't as strong a dependency between the previous character and the next character in a YYYY-MM-DD date. \n",
    "\n",
    "- We use $a^{\\langle t \\rangle} = [\\overrightarrow{a}^{\\langle t \\rangle}; \\overleftarrow{a}^{\\langle t \\rangle}]$ to represent the concatenation of the activations of both the forward-direction and backward-directions of the pre-attention Bi-LSTM. \n",
    "\n",
    "- The diagram on the right uses a `RepeatVector` node to copy $s^{\\langle t-1 \\rangle}$'s value $T_x$ times, and then `Concatenation` to concatenate $s^{\\langle t-1 \\rangle}$ and $a^{\\langle t \\rangle}$ to compute $e^{\\langle t, t'}$, which is then passed through a softmax to compute $\\alpha^{\\langle t, t' \\rangle}$. We'll explain how to use `RepeatVector` and `Concatenation` in Keras below. \n",
    "\n",
    "Lets implement this model. You will start by implementing two functions: `one_step_attention()` and `model()`.\n",
    "\n",
    "**1) `one_step_attention()`**: At step $t$, given all the hidden states of the Bi-LSTM ($[a^{<1>},a^{<2>}, ..., a^{<T_x>}]$) and the previous hidden state of the second LSTM ($s^{<t-1>}$), `one_step_attention()` will compute the attention weights ($[\\alpha^{<t,1>},\\alpha^{<t,2>}, ..., \\alpha^{<t,T_x>}]$) and output the context vector (see Figure  1 (right) for details):\n",
    "$$context^{<t>} = \\sum_{t' = 0}^{T_x} \\alpha^{<t,t'>}a^{<t'>}\\tag{1}$$ \n",
    "\n",
    "Note that we are denoting the attention in this notebook $context^{\\langle t \\rangle}$. In the lecture videos, the context was denoted $c^{\\langle t \\rangle}$, but here we are calling it $context^{\\langle t \\rangle}$ to avoid confusion with the (post-attention) LSTM's internal memory cell variable, which is sometimes also denoted $c^{\\langle t \\rangle}$. \n",
    "  \n",
    "**2) `model()`**: Implements the entire model. It first runs the input through a Bi-LSTM to get back $[a^{<1>},a^{<2>}, ..., a^{<T_x>}]$. Then, it calls `one_step_attention()` $T_y$ times (`for` loop). At each iteration of this loop, it gives the computed context vector $c^{<t>}$ to the second LSTM, and runs the output of the LSTM through a dense layer with softmax activation to generate a prediction $\\hat{y}^{<t>}$. \n",
    "\n",
    "\n",
    "\n",
    "**Exercise**: Implement `one_step_attention()`. The function `model()` will call the layers in `one_step_attention()` $T_y$ using a for-loop, and it is important that all $T_y$ copies have the same weights. I.e., it should not re-initiaiize the weights every time. In other words, all $T_y$ steps should have shared weights. Here's how you can implement layers with shareable weights in Keras:\n",
    "1. Define the layer objects (as global variables for examples).\n",
    "2. Call these objects when propagating the input.\n",
    "\n",
    "We have defined the layers you need as global variables. Please run the following cells to create them. Please check the Keras documentation to make sure you understand what these layers are: [RepeatVector()](https://keras.io/layers/core/#repeatvector), [Concatenate()](https://keras.io/layers/merge/#concatenate), [Dense()](https://keras.io/layers/core/#dense), [Activation()](https://keras.io/layers/core/#activation), [Dot()](https://keras.io/layers/merge/#dot)."
   ]
  },
  {
   "cell_type": "code",
   "execution_count": 25,
   "metadata": {
    "collapsed": true
   },
   "outputs": [],
   "source": [
    "# Defined shared layers as global variables\n",
    "repeator = RepeatVector(Tx)\n",
    "concatenator = Concatenate(axis=-1)\n",
    "densor1 = Dense(10, activation = \"tanh\")\n",
    "densor2 = Dense(1, activation = \"relu\")\n",
    "activator = Activation(softmax, name='attention_weights') # We are using a custom softmax(axis = 1) loaded in this notebook\n",
    "dotor = Dot(axes = 1)"
   ]
  },
  {
   "cell_type": "markdown",
   "metadata": {},
   "source": [
    "Now you can use these layers to implement `one_step_attention()`. In order to propagate a Keras tensor object X through one of these layers, use `layer(X)` (or `layer([X,Y])` if it requires multiple inputs.), e.g. `densor(X)` will propagate X through the `Dense(1)` layer defined above."
   ]
  },
  {
   "cell_type": "code",
   "execution_count": 26,
   "metadata": {},
   "outputs": [],
   "source": [
    "# GRADED FUNCTION: one_step_attention\n",
    "\n",
    "def one_step_attention(a, s_prev):\n",
    "    \"\"\"\n",
    "    Performs one step of attention: Outputs a context vector computed as a dot product of the attention weights\n",
    "    \"alphas\" and the hidden states \"a\" of the Bi-LSTM.\n",
    "    \n",
    "    Arguments:\n",
    "    a -- hidden state output of the Bi-LSTM, numpy-array of shape (m, Tx, 2*n_a)\n",
    "    s_prev -- previous hidden state of the (post-attention) LSTM, numpy-array of shape (m, n_s)\n",
    "    \n",
    "    Returns:\n",
    "    context -- context vector, input of the next (post-attetion) LSTM cell\n",
    "    \"\"\"\n",
    "#     s_prev.shape =  (?, 30, 64)\n",
    "#     concat.shape =  (?, 30, 128)\n",
    "#     e.shape =  (?, 30, 10)\n",
    "#     energies.shape =  (?, 30, 1)\n",
    "#     a.shape =  (?, ?, 64)\n",
    "#     alphas.shape =  (?, 30, 1)\n",
    "#     context.shape =  (?, 1, 64)\n",
    "    \n",
    "    \n",
    "    ### START CODE HERE ###\n",
    "    # Use repeator to repeat s_prev to be of shape (m, Tx, n_s) so that you can concatenate it with all hidden states \"a\" (≈ 1 line)\n",
    "    s_prev = repeator(s_prev) #(m, Tx, n_s)\n",
    "#     print(\"s_prev.shape = \", s_prev.shape)\n",
    "    # Use concatenator to concatenate a and s_prev on the last axis (≈ 1 line)\n",
    "    concat = concatenator([a,s_prev]) #(m, Tx, n_s+2*n_a)\n",
    "#     print(\"concat.shape = \", concat.shape)\n",
    "    # Use densor1 to propagate concat through a small fully-connected neural network to compute the \"intermediate energies\" variable e. (≈1 lines)\n",
    "    e = densor1(concat)  # output:10维特向  tanh激活函数  (m, Tx, 10)\n",
    "#     print(\"e.shape = \", e.shape)\n",
    "    # Use densor2 to propagate e through a small fully-connected neural network to compute the \"energies\" variable energies. (≈1 lines)\n",
    "    energies = densor2(e) # output:1维特向  relu激活函数  (m, Tx, 1)\n",
    "#     print(\"energies.shape = \", energies.shape)\n",
    "    # Use \"activator\" on \"energies\" to compute the attention weights \"alphas\" (≈ 1 line)\n",
    "    alphas = activator(energies) # softmax (m, Tx, 1)\n",
    "#     print(\"alphas.shape = \", alphas.shape)\n",
    "#     print(\"a.shape = \", a.shape) # (m, Tx, 2*n_a)\n",
    "    # Use dotor together with \"alphas\" and \"a\" to compute the context vector to be given to the next (post-attention) LSTM-cell (≈ 1 line)\n",
    "    context = dotor([alphas, a]) # 点成求和 (m, 1, n_s)  ##?维度有问题？\n",
    "#     print(\"context.shape = \", context.shape)\n",
    "    ### END CODE HERE ###\n",
    "    \n",
    "    return context"
   ]
  },
  {
   "cell_type": "markdown",
   "metadata": {},
   "source": [
    "You will be able to check the expected output of `one_step_attention()` after you've coded the `model()` function."
   ]
  },
  {
   "cell_type": "markdown",
   "metadata": {},
   "source": [
    "**Exercise**: Implement `model()` as explained in figure 2 and the text above. Again, we have defined global layers that will share weights to be used in `model()`."
   ]
  },
  {
   "cell_type": "code",
   "execution_count": 27,
   "metadata": {
    "collapsed": true
   },
   "outputs": [],
   "source": [
    "n_a = 32\n",
    "n_s = 64\n",
    "post_activation_LSTM_cell = LSTM(n_s, return_state = True)\n",
    "output_layer = Dense(len(machine_vocab), activation=softmax)"
   ]
  },
  {
   "cell_type": "markdown",
   "metadata": {},
   "source": [
    "Now you can use these layers $T_y$ times in a `for` loop to generate the outputs, and their parameters will not be reinitialized. You will have to carry out the following steps: \n",
    "\n",
    "1. Propagate the input into a [Bidirectional](https://keras.io/layers/wrappers/#bidirectional) [LSTM](https://keras.io/layers/recurrent/#lstm)\n",
    "2. Iterate for $t = 0, \\dots, T_y-1$: \n",
    "    1. Call `one_step_attention()` on $[\\alpha^{<t,1>},\\alpha^{<t,2>}, ..., \\alpha^{<t,T_x>}]$ and $s^{<t-1>}$ to get the context vector $context^{<t>}$.\n",
    "    2. Give $context^{<t>}$ to the post-attention LSTM cell. Remember pass in the previous hidden-state $s^{\\langle t-1\\rangle}$ and cell-states $c^{\\langle t-1\\rangle}$ of this LSTM using `initial_state= [previous hidden state, previous cell state]`. Get back the new hidden state $s^{<t>}$ and the new cell state $c^{<t>}$.\n",
    "    3. Apply a softmax layer to $s^{<t>}$, get the output. \n",
    "    4. Save the output by adding it to the list of outputs.\n",
    "\n",
    "3. Create your Keras model instance, it should have three inputs (\"inputs\", $s^{<0>}$ and $c^{<0>}$) and output the list of \"outputs\"."
   ]
  },
  {
   "cell_type": "code",
   "execution_count": 28,
   "metadata": {
    "collapsed": true
   },
   "outputs": [],
   "source": [
    "# GRADED FUNCTION: model\n",
    "\n",
    "def model(Tx, Ty, n_a, n_s, human_vocab_size, machine_vocab_size):\n",
    "    \"\"\"\n",
    "    Arguments:\n",
    "    Tx -- length of the input sequence\n",
    "    Ty -- length of the output sequence\n",
    "    n_a -- hidden state size of the Bi-LSTM\n",
    "    n_s -- hidden state size of the post-attention LSTM\n",
    "    human_vocab_size -- size of the python dictionary \"human_vocab\"\n",
    "    machine_vocab_size -- size of the python dictionary \"machine_vocab\"\n",
    "\n",
    "    Returns:\n",
    "    model -- Keras model instance\n",
    "    \"\"\"\n",
    "    \n",
    "    # Define the inputs of your model with a shape (Tx,)\n",
    "    # Define s0 and c0, initial hidden state for the decoder LSTM of shape (n_s,)\n",
    "    X = Input(shape=(Tx, human_vocab_size))\n",
    "    s0 = Input(shape=(n_s,), name='s0')\n",
    "    c0 = Input(shape=(n_s,), name='c0')\n",
    "    s = s0\n",
    "    c = c0\n",
    "    \n",
    "    # Initialize empty list of outputs\n",
    "    outputs = []\n",
    "    \n",
    "    ### START CODE HERE ###\n",
    "    \n",
    "    # Step 1: Define your pre-attention Bi-LSTM. Remember to use return_sequences=True. (≈ 1 line)\n",
    "    a = Bidirectional(LSTM(n_a, return_sequences=True),input_shape=(m, Tx, n_a*2))(X)\n",
    "#     print(\"a.shape = \", a.shape)  #a.shape =  (?, ?, 64)\n",
    "    # Step 2: Iterate for Ty steps\n",
    "    for t in range(Ty):\n",
    "    \n",
    "        # Step 2.A: Perform one step of the attention mechanism to get back the context vector at step t (≈ 1 line)\n",
    "        context = one_step_attention(a, s)\n",
    "        \n",
    "        # Step 2.B: Apply the post-attention LSTM cell to the \"context\" vector.\n",
    "        # Don't forget to pass: initial_state = [hidden state, cell state] (≈ 1 line)\n",
    "        s, _, c = post_activation_LSTM_cell(context, initial_state = [s, c] )\n",
    "        \n",
    "        # Step 2.C: Apply Dense layer to the hidden state output of the post-attention LSTM (≈ 1 line)\n",
    "        out = output_layer(s)\n",
    "        \n",
    "        # Step 2.D: Append \"out\" to the \"outputs\" list (≈ 1 line)\n",
    "        outputs.append(out)\n",
    "    \n",
    "    # Step 3: Create model instance taking three inputs and returning the list of outputs. (≈ 1 line)\n",
    "    model = Model(inputs=[X,s0,c0], outputs=outputs)\n",
    "    \n",
    "    ### END CODE HERE ###\n",
    "    \n",
    "    return model"
   ]
  },
  {
   "cell_type": "markdown",
   "metadata": {},
   "source": [
    "Run the following cell to create your model."
   ]
  },
  {
   "cell_type": "code",
   "execution_count": 29,
   "metadata": {
    "collapsed": true
   },
   "outputs": [],
   "source": [
    "model = model(Tx, Ty, n_a, n_s, len(human_vocab), len(machine_vocab))"
   ]
  },
  {
   "cell_type": "markdown",
   "metadata": {},
   "source": [
    "Let's get a summary of the model to check if it matches the expected output."
   ]
  },
  {
   "cell_type": "code",
   "execution_count": 30,
   "metadata": {},
   "outputs": [
    {
     "name": "stdout",
     "output_type": "stream",
     "text": [
      "__________________________________________________________________________________________________\n",
      "Layer (type)                    Output Shape         Param #     Connected to                     \n",
      "==================================================================================================\n",
      "input_2 (InputLayer)            (None, 30, 37)       0                                            \n",
      "__________________________________________________________________________________________________\n",
      "s0 (InputLayer)                 (None, 64)           0                                            \n",
      "__________________________________________________________________________________________________\n",
      "bidirectional_2 (Bidirectional) (None, 30, 64)       17920       input_2[0][0]                    \n",
      "__________________________________________________________________________________________________\n",
      "repeat_vector_2 (RepeatVector)  (None, 30, 64)       0           s0[0][0]                         \n",
      "                                                                 lstm_3[0][0]                     \n",
      "                                                                 lstm_3[1][0]                     \n",
      "                                                                 lstm_3[2][0]                     \n",
      "                                                                 lstm_3[3][0]                     \n",
      "                                                                 lstm_3[4][0]                     \n",
      "                                                                 lstm_3[5][0]                     \n",
      "                                                                 lstm_3[6][0]                     \n",
      "                                                                 lstm_3[7][0]                     \n",
      "                                                                 lstm_3[8][0]                     \n",
      "__________________________________________________________________________________________________\n",
      "concatenate_2 (Concatenate)     (None, 30, 128)      0           bidirectional_2[0][0]            \n",
      "                                                                 repeat_vector_2[0][0]            \n",
      "                                                                 bidirectional_2[0][0]            \n",
      "                                                                 repeat_vector_2[1][0]            \n",
      "                                                                 bidirectional_2[0][0]            \n",
      "                                                                 repeat_vector_2[2][0]            \n",
      "                                                                 bidirectional_2[0][0]            \n",
      "                                                                 repeat_vector_2[3][0]            \n",
      "                                                                 bidirectional_2[0][0]            \n",
      "                                                                 repeat_vector_2[4][0]            \n",
      "                                                                 bidirectional_2[0][0]            \n",
      "                                                                 repeat_vector_2[5][0]            \n",
      "                                                                 bidirectional_2[0][0]            \n",
      "                                                                 repeat_vector_2[6][0]            \n",
      "                                                                 bidirectional_2[0][0]            \n",
      "                                                                 repeat_vector_2[7][0]            \n",
      "                                                                 bidirectional_2[0][0]            \n",
      "                                                                 repeat_vector_2[8][0]            \n",
      "                                                                 bidirectional_2[0][0]            \n",
      "                                                                 repeat_vector_2[9][0]            \n",
      "__________________________________________________________________________________________________\n",
      "dense_4 (Dense)                 (None, 30, 10)       1290        concatenate_2[0][0]              \n",
      "                                                                 concatenate_2[1][0]              \n",
      "                                                                 concatenate_2[2][0]              \n",
      "                                                                 concatenate_2[3][0]              \n",
      "                                                                 concatenate_2[4][0]              \n",
      "                                                                 concatenate_2[5][0]              \n",
      "                                                                 concatenate_2[6][0]              \n",
      "                                                                 concatenate_2[7][0]              \n",
      "                                                                 concatenate_2[8][0]              \n",
      "                                                                 concatenate_2[9][0]              \n",
      "__________________________________________________________________________________________________\n",
      "dense_5 (Dense)                 (None, 30, 1)        11          dense_4[0][0]                    \n",
      "                                                                 dense_4[1][0]                    \n",
      "                                                                 dense_4[2][0]                    \n",
      "                                                                 dense_4[3][0]                    \n",
      "                                                                 dense_4[4][0]                    \n",
      "                                                                 dense_4[5][0]                    \n",
      "                                                                 dense_4[6][0]                    \n",
      "                                                                 dense_4[7][0]                    \n",
      "                                                                 dense_4[8][0]                    \n",
      "                                                                 dense_4[9][0]                    \n",
      "__________________________________________________________________________________________________\n",
      "attention_weights (Activation)  (None, 30, 1)        0           dense_5[0][0]                    \n",
      "                                                                 dense_5[1][0]                    \n",
      "                                                                 dense_5[2][0]                    \n",
      "                                                                 dense_5[3][0]                    \n",
      "                                                                 dense_5[4][0]                    \n",
      "                                                                 dense_5[5][0]                    \n",
      "                                                                 dense_5[6][0]                    \n",
      "                                                                 dense_5[7][0]                    \n",
      "                                                                 dense_5[8][0]                    \n",
      "                                                                 dense_5[9][0]                    \n",
      "__________________________________________________________________________________________________\n",
      "dot_2 (Dot)                     (None, 1, 64)        0           attention_weights[0][0]          \n",
      "                                                                 bidirectional_2[0][0]            \n",
      "                                                                 attention_weights[1][0]          \n",
      "                                                                 bidirectional_2[0][0]            \n",
      "                                                                 attention_weights[2][0]          \n",
      "                                                                 bidirectional_2[0][0]            \n",
      "                                                                 attention_weights[3][0]          \n",
      "                                                                 bidirectional_2[0][0]            \n"
     ]
    },
    {
     "name": "stdout",
     "output_type": "stream",
     "text": [
      "                                                                 attention_weights[4][0]          \n",
      "                                                                 bidirectional_2[0][0]            \n",
      "                                                                 attention_weights[5][0]          \n",
      "                                                                 bidirectional_2[0][0]            \n",
      "                                                                 attention_weights[6][0]          \n",
      "                                                                 bidirectional_2[0][0]            \n",
      "                                                                 attention_weights[7][0]          \n",
      "                                                                 bidirectional_2[0][0]            \n",
      "                                                                 attention_weights[8][0]          \n",
      "                                                                 bidirectional_2[0][0]            \n",
      "                                                                 attention_weights[9][0]          \n",
      "                                                                 bidirectional_2[0][0]            \n",
      "__________________________________________________________________________________________________\n",
      "c0 (InputLayer)                 (None, 64)           0                                            \n",
      "__________________________________________________________________________________________________\n",
      "lstm_3 (LSTM)                   [(None, 64), (None,  33024       dot_2[0][0]                      \n",
      "                                                                 s0[0][0]                         \n",
      "                                                                 c0[0][0]                         \n",
      "                                                                 dot_2[1][0]                      \n",
      "                                                                 lstm_3[0][0]                     \n",
      "                                                                 lstm_3[0][2]                     \n",
      "                                                                 dot_2[2][0]                      \n",
      "                                                                 lstm_3[1][0]                     \n",
      "                                                                 lstm_3[1][2]                     \n",
      "                                                                 dot_2[3][0]                      \n",
      "                                                                 lstm_3[2][0]                     \n",
      "                                                                 lstm_3[2][2]                     \n",
      "                                                                 dot_2[4][0]                      \n",
      "                                                                 lstm_3[3][0]                     \n",
      "                                                                 lstm_3[3][2]                     \n",
      "                                                                 dot_2[5][0]                      \n",
      "                                                                 lstm_3[4][0]                     \n",
      "                                                                 lstm_3[4][2]                     \n",
      "                                                                 dot_2[6][0]                      \n",
      "                                                                 lstm_3[5][0]                     \n",
      "                                                                 lstm_3[5][2]                     \n",
      "                                                                 dot_2[7][0]                      \n",
      "                                                                 lstm_3[6][0]                     \n",
      "                                                                 lstm_3[6][2]                     \n",
      "                                                                 dot_2[8][0]                      \n",
      "                                                                 lstm_3[7][0]                     \n",
      "                                                                 lstm_3[7][2]                     \n",
      "                                                                 dot_2[9][0]                      \n",
      "                                                                 lstm_3[8][0]                     \n",
      "                                                                 lstm_3[8][2]                     \n",
      "__________________________________________________________________________________________________\n",
      "dense_6 (Dense)                 (None, 11)           715         lstm_3[0][0]                     \n",
      "                                                                 lstm_3[1][0]                     \n",
      "                                                                 lstm_3[2][0]                     \n",
      "                                                                 lstm_3[3][0]                     \n",
      "                                                                 lstm_3[4][0]                     \n",
      "                                                                 lstm_3[5][0]                     \n",
      "                                                                 lstm_3[6][0]                     \n",
      "                                                                 lstm_3[7][0]                     \n",
      "                                                                 lstm_3[8][0]                     \n",
      "                                                                 lstm_3[9][0]                     \n",
      "==================================================================================================\n",
      "Total params: 52,960\n",
      "Trainable params: 52,960\n",
      "Non-trainable params: 0\n",
      "__________________________________________________________________________________________________\n"
     ]
    }
   ],
   "source": [
    "model.summary()"
   ]
  },
  {
   "cell_type": "markdown",
   "metadata": {},
   "source": [
    "**Expected Output**:\n",
    "\n",
    "Here is the summary you should see\n",
    "<table>\n",
    "    <tr>\n",
    "        <td>\n",
    "            **Total params:**\n",
    "        </td>\n",
    "        <td>\n",
    "         185,484\n",
    "        </td>\n",
    "    </tr>\n",
    "        <tr>\n",
    "        <td>\n",
    "            **Trainable params:**\n",
    "        </td>\n",
    "        <td>\n",
    "         185,484\n",
    "        </td>\n",
    "    </tr>\n",
    "            <tr>\n",
    "        <td>\n",
    "            **Non-trainable params:**\n",
    "        </td>\n",
    "        <td>\n",
    "         0\n",
    "        </td>\n",
    "    </tr>\n",
    "                    <tr>\n",
    "        <td>\n",
    "            **bidirectional_1's output shape **\n",
    "        </td>\n",
    "        <td>\n",
    "         (None, 30, 128)  \n",
    "        </td>\n",
    "    </tr>\n",
    "    <tr>\n",
    "        <td>\n",
    "            **repeat_vector_1's output shape **\n",
    "        </td>\n",
    "        <td>\n",
    "         (None, 30, 128)  \n",
    "        </td>\n",
    "    </tr>\n",
    "                <tr>\n",
    "        <td>\n",
    "            **concatenate_1's output shape **\n",
    "        </td>\n",
    "        <td>\n",
    "         (None, 30, 256) \n",
    "        </td>\n",
    "    </tr>\n",
    "            <tr>\n",
    "        <td>\n",
    "            **attention_weights's output shape **\n",
    "        </td>\n",
    "        <td>\n",
    "         (None, 30, 1)  \n",
    "        </td>\n",
    "    </tr>\n",
    "        <tr>\n",
    "        <td>\n",
    "            **dot_1's output shape **\n",
    "        </td>\n",
    "        <td>\n",
    "         (None, 1, 128) \n",
    "        </td>\n",
    "    </tr>\n",
    "           <tr>\n",
    "        <td>\n",
    "            **dense_2's output shape **\n",
    "        </td>\n",
    "        <td>\n",
    "         (None, 11) \n",
    "        </td>\n",
    "    </tr>\n",
    "</table>\n"
   ]
  },
  {
   "cell_type": "markdown",
   "metadata": {},
   "source": [
    "As usual, after creating your model in Keras, you need to compile it and define what loss, optimizer and metrics your are want to use. Compile your model using `categorical_crossentropy` loss, a custom [Adam](https://keras.io/optimizers/#adam) [optimizer](https://keras.io/optimizers/#usage-of-optimizers) (`learning rate = 0.005`, $\\beta_1 = 0.9$, $\\beta_2 = 0.999$, `decay = 0.01`)  and `['accuracy']` metrics:"
   ]
  },
  {
   "cell_type": "code",
   "execution_count": 31,
   "metadata": {
    "collapsed": true
   },
   "outputs": [],
   "source": [
    "### START CODE HERE ### (≈2 lines)\n",
    "opt = Adam(lr=0.005, beta_1=0.9, beta_2=0.999,decay=0.01)\n",
    "model.compile(loss='categorical_crossentropy', optimizer=opt,metrics=['accuracy'])\n",
    "### END CODE HERE ###"
   ]
  },
  {
   "cell_type": "markdown",
   "metadata": {},
   "source": [
    "The last step is to define all your inputs and outputs to fit the model:\n",
    "- You already have X of shape $(m = 10000, T_x = 30)$ containing the training examples.\n",
    "- You need to create `s0` and `c0` to initialize your `post_activation_LSTM_cell` with 0s.\n",
    "- Given the `model()` you coded, you need the \"outputs\" to be a list of 11 elements of shape (m, T_y). So that: `outputs[i][0], ..., outputs[i][Ty]` represent the true labels (characters) corresponding to the $i^{th}$ training example (`X[i]`). More generally, `outputs[i][j]` is the true label of the $j^{th}$ character in the $i^{th}$ training example."
   ]
  },
  {
   "cell_type": "code",
   "execution_count": 32,
   "metadata": {
    "collapsed": true
   },
   "outputs": [],
   "source": [
    "s0 = np.zeros((m, n_s))\n",
    "c0 = np.zeros((m, n_s))\n",
    "outputs = list(Yoh.swapaxes(0,1))"
   ]
  },
  {
   "cell_type": "markdown",
   "metadata": {},
   "source": [
    "Let's now fit the model and run it for one epoch."
   ]
  },
  {
   "cell_type": "code",
   "execution_count": 33,
   "metadata": {},
   "outputs": [
    {
     "name": "stdout",
     "output_type": "stream",
     "text": [
      "Epoch 1/1\n"
     ]
    },
    {
     "name": "stdout",
     "output_type": "stream",
     "text": [
      " 2900/10000 [=======>......................] - ETA: 11:43 - loss: 23.9545 - dense_6_loss: 2.3921 - dense_6_acc: 0.0000e+00 - dense_6_acc_1: 0.2900 - dense_6_acc_2: 0.0800 - dense_6_acc_3: 0.0800 - dense_6_acc_4: 0.0000e+00 - dense_6_acc_5: 0.6500 - dense_6_acc_6: 0.0700 - dense_6_acc_7: 0.0000e+00 - dense_6_acc_8: 0.2900 - dense_6_acc_9: 0.15 - ETA: 5:52 - loss: 23.7711 - dense_6_loss: 2.4034 - dense_6_acc: 0.0050 - dense_6_acc_1: 0.3700 - dense_6_acc_2: 0.1600 - dense_6_acc_3: 0.0850 - dense_6_acc_4: 0.0050 - dense_6_acc_5: 0.7550 - dense_6_acc_6: 0.0550 - dense_6_acc_7: 0.0050 - dense_6_acc_8: 0.3250 - dense_6_acc_9: 0.1150             - ETA: 3:55 - loss: 23.5527 - dense_6_loss: 2.4328 - dense_6_acc: 0.0033 - dense_6_acc_1: 0.4033 - dense_6_acc_2: 0.2067 - dense_6_acc_3: 0.1067 - dense_6_acc_4: 0.0100 - dense_6_acc_5: 0.7567 - dense_6_acc_6: 0.0533 - dense_6_acc_7: 0.0100 - dense_6_acc_8: 0.3300 - dense_6_acc_9: 0.093 - ETA: 2:57 - loss: 23.2574 - dense_6_loss: 2.4644 - dense_6_acc: 0.0025 - dense_6_acc_1: 0.4100 - dense_6_acc_2: 0.2250 - dense_6_acc_3: 0.1050 - dense_6_acc_4: 0.0350 - dense_6_acc_5: 0.7250 - dense_6_acc_6: 0.0425 - dense_6_acc_7: 0.2375 - dense_6_acc_8: 0.2525 - dense_6_acc_9: 0.070 - ETA: 2:22 - loss: 23.0211 - dense_6_loss: 2.5918 - dense_6_acc: 0.0020 - dense_6_acc_1: 0.4100 - dense_6_acc_2: 0.2220 - dense_6_acc_3: 0.0860 - dense_6_acc_4: 0.2280 - dense_6_acc_5: 0.5800 - dense_6_acc_6: 0.0340 - dense_6_acc_7: 0.3900 - dense_6_acc_8: 0.2020 - dense_6_acc_9: 0.056 - ETA: 1:58 - loss: 22.8324 - dense_6_loss: 2.6752 - dense_6_acc: 0.0017 - dense_6_acc_1: 0.4050 - dense_6_acc_2: 0.1850 - dense_6_acc_3: 0.0717 - dense_6_acc_4: 0.3567 - dense_6_acc_5: 0.4833 - dense_6_acc_6: 0.0283 - dense_6_acc_7: 0.4917 - dense_6_acc_8: 0.1683 - dense_6_acc_9: 0.046 - ETA: 1:42 - loss: 22.6548 - dense_6_loss: 2.7489 - dense_6_acc: 0.0014 - dense_6_acc_1: 0.4000 - dense_6_acc_2: 0.1586 - dense_6_acc_3: 0.0614 - dense_6_acc_4: 0.4486 - dense_6_acc_5: 0.4143 - dense_6_acc_6: 0.0243 - dense_6_acc_7: 0.5643 - dense_6_acc_8: 0.1443 - dense_6_acc_9: 0.040 - ETA: 1:29 - loss: 22.4792 - dense_6_loss: 2.7661 - dense_6_acc: 0.0062 - dense_6_acc_1: 0.4050 - dense_6_acc_2: 0.1387 - dense_6_acc_3: 0.0538 - dense_6_acc_4: 0.5175 - dense_6_acc_5: 0.3625 - dense_6_acc_6: 0.0212 - dense_6_acc_7: 0.6188 - dense_6_acc_8: 0.1263 - dense_6_acc_9: 0.035 - ETA: 1:19 - loss: 22.3684 - dense_6_loss: 2.7812 - dense_6_acc: 0.0100 - dense_6_acc_1: 0.4056 - dense_6_acc_2: 0.1467 - dense_6_acc_3: 0.0478 - dense_6_acc_4: 0.5711 - dense_6_acc_5: 0.3222 - dense_6_acc_6: 0.0189 - dense_6_acc_7: 0.6611 - dense_6_acc_8: 0.1122 - dense_6_acc_9: 0.031 - ETA: 1:11 - loss: 22.2685 - dense_6_loss: 2.7980 - dense_6_acc: 0.0090 - dense_6_acc_1: 0.3970 - dense_6_acc_2: 0.1510 - dense_6_acc_3: 0.0430 - dense_6_acc_4: 0.6140 - dense_6_acc_5: 0.2900 - dense_6_acc_6: 0.0170 - dense_6_acc_7: 0.6950 - dense_6_acc_8: 0.1010 - dense_6_acc_9: 0.028 - ETA: 1:05 - loss: 22.1783 - dense_6_loss: 2.8044 - dense_6_acc: 0.0082 - dense_6_acc_1: 0.3945 - dense_6_acc_2: 0.1536 - dense_6_acc_3: 0.0391 - dense_6_acc_4: 0.6491 - dense_6_acc_5: 0.2636 - dense_6_acc_6: 0.0155 - dense_6_acc_7: 0.7227 - dense_6_acc_8: 0.0918 - dense_6_acc_9: 0.025 - ETA: 59s - loss: 22.1041 - dense_6_loss: 2.8118 - dense_6_acc: 0.0075 - dense_6_acc_1: 0.3925 - dense_6_acc_2: 0.1583 - dense_6_acc_3: 0.0358 - dense_6_acc_4: 0.6783 - dense_6_acc_5: 0.2417 - dense_6_acc_6: 0.0142 - dense_6_acc_7: 0.7458 - dense_6_acc_8: 0.0842 - dense_6_acc_9: 0.023 - ETA: 55s - loss: 22.0275 - dense_6_loss: 2.8104 - dense_6_acc: 0.0069 - dense_6_acc_1: 0.3838 - dense_6_acc_2: 0.1585 - dense_6_acc_3: 0.0377 - dense_6_acc_4: 0.7031 - dense_6_acc_5: 0.2231 - dense_6_acc_6: 0.0131 - dense_6_acc_7: 0.7654 - dense_6_acc_8: 0.0777 - dense_6_acc_9: 0.02 - ETA: 51s - loss: 21.9505 - dense_6_loss: 2.8072 - dense_6_acc: 0.0064 - dense_6_acc_1: 0.3864 - dense_6_acc_2: 0.1643 - dense_6_acc_3: 0.0443 - dense_6_acc_4: 0.7243 - dense_6_acc_5: 0.2071 - dense_6_acc_6: 0.0121 - dense_6_acc_7: 0.7821 - dense_6_acc_8: 0.0721 - dense_6_acc_9: 0.02 - ETA: 47s - loss: 21.8802 - dense_6_loss: 2.8100 - dense_6_acc: 0.0060 - dense_6_acc_1: 0.3853 - dense_6_acc_2: 0.1660 - dense_6_acc_3: 0.0500 - dense_6_acc_4: 0.7427 - dense_6_acc_5: 0.1933 - dense_6_acc_6: 0.0113 - dense_6_acc_7: 0.7967 - dense_6_acc_8: 0.0673 - dense_6_acc_9: 0.01 - ETA: 44s - loss: 21.8035 - dense_6_loss: 2.8127 - dense_6_acc: 0.0056 - dense_6_acc_1: 0.3844 - dense_6_acc_2: 0.1675 - dense_6_acc_3: 0.0544 - dense_6_acc_4: 0.7587 - dense_6_acc_5: 0.1812 - dense_6_acc_6: 0.0106 - dense_6_acc_7: 0.8094 - dense_6_acc_8: 0.0631 - dense_6_acc_9: 0.01 - ETA: 41s - loss: 21.7459 - dense_6_loss: 2.8128 - dense_6_acc: 0.0053 - dense_6_acc_1: 0.3829 - dense_6_acc_2: 0.1682 - dense_6_acc_3: 0.0535 - dense_6_acc_4: 0.7729 - dense_6_acc_5: 0.1706 - dense_6_acc_6: 0.0100 - dense_6_acc_7: 0.8206 - dense_6_acc_8: 0.0594 - dense_6_acc_9: 0.01 - ETA: 39s - loss: 21.6723 - dense_6_loss: 2.8087 - dense_6_acc: 0.0050 - dense_6_acc_1: 0.3878 - dense_6_acc_2: 0.1689 - dense_6_acc_3: 0.0594 - dense_6_acc_4: 0.7856 - dense_6_acc_5: 0.1611 - dense_6_acc_6: 0.0094 - dense_6_acc_7: 0.8306 - dense_6_acc_8: 0.0561 - dense_6_acc_9: 0.01 - ETA: 37s - loss: 21.5963 - dense_6_loss: 2.8034 - dense_6_acc: 0.0047 - dense_6_acc_1: 0.4068 - dense_6_acc_2: 0.1716 - dense_6_acc_3: 0.0637 - dense_6_acc_4: 0.7968 - dense_6_acc_5: 0.1526 - dense_6_acc_6: 0.0089 - dense_6_acc_7: 0.8395 - dense_6_acc_8: 0.0532 - dense_6_acc_9: 0.01 - ETA: 35s - loss: 21.5344 - dense_6_loss: 2.7981 - dense_6_acc: 0.0045 - dense_6_acc_1: 0.4170 - dense_6_acc_2: 0.1725 - dense_6_acc_3: 0.0670 - dense_6_acc_4: 0.8070 - dense_6_acc_5: 0.1450 - dense_6_acc_6: 0.0085 - dense_6_acc_7: 0.8475 - dense_6_acc_8: 0.0505 - dense_6_acc_9: 0.01 - ETA: 33s - loss: 21.4643 - dense_6_loss: 2.7968 - dense_6_acc: 0.0043 - dense_6_acc_1: 0.4233 - dense_6_acc_2: 0.1757 - dense_6_acc_3: 0.0681 - dense_6_acc_4: 0.8162 - dense_6_acc_5: 0.1381 - dense_6_acc_6: 0.0081 - dense_6_acc_7: 0.8548 - dense_6_acc_8: 0.0481 - dense_6_acc_9: 0.01 - ETA: 32s - loss: 21.3918 - dense_6_loss: 2.7868 - dense_6_acc: 0.0041 - dense_6_acc_1: 0.4323 - dense_6_acc_2: 0.1786 - dense_6_acc_3: 0.0700 - dense_6_acc_4: 0.8245 - dense_6_acc_5: 0.1318 - dense_6_acc_6: 0.0077 - dense_6_acc_7: 0.8614 - dense_6_acc_8: 0.0459 - dense_6_acc_9: 0.01 - ETA: 30s - loss: 21.3349 - dense_6_loss: 2.7865 - dense_6_acc: 0.0039 - dense_6_acc_1: 0.4417 - dense_6_acc_2: 0.1817 - dense_6_acc_3: 0.0722 - dense_6_acc_4: 0.8322 - dense_6_acc_5: 0.1261 - dense_6_acc_6: 0.0074 - dense_6_acc_7: 0.8674 - dense_6_acc_8: 0.0439 - dense_6_acc_9: 0.01 - ETA: 29s - loss: 21.2802 - dense_6_loss: 2.7875 - dense_6_acc: 0.0037 - dense_6_acc_1: 0.4517 - dense_6_acc_2: 0.1896 - dense_6_acc_3: 0.0696 - dense_6_acc_4: 0.8392 - dense_6_acc_5: 0.1208 - dense_6_acc_6: 0.0071 - dense_6_acc_7: 0.8729 - dense_6_acc_8: 0.0421 - dense_6_acc_9: 0.01 - ETA: 28s - loss: 21.2248 - dense_6_loss: 2.7845 - dense_6_acc: 0.0036 - dense_6_acc_1: 0.4584 - dense_6_acc_2: 0.1952 - dense_6_acc_3: 0.0668 - dense_6_acc_4: 0.8456 - dense_6_acc_5: 0.1160 - dense_6_acc_6: 0.0068 - dense_6_acc_7: 0.8780 - dense_6_acc_8: 0.0544 - dense_6_acc_9: 0.01 - ETA: 26s - loss: 21.1703 - dense_6_loss: 2.7845 - dense_6_acc: 0.0035 - dense_6_acc_1: 0.4677 - dense_6_acc_2: 0.1958 - dense_6_acc_3: 0.0642 - dense_6_acc_4: 0.8515 - dense_6_acc_5: 0.1115 - dense_6_acc_6: 0.0065 - dense_6_acc_7: 0.8827 - dense_6_acc_8: 0.0635 - dense_6_acc_9: 0.02 - ETA: 25s - loss: 21.1184 - dense_6_loss: 2.7813 - dense_6_acc: 0.0033 - dense_6_acc_1: 0.4722 - dense_6_acc_2: 0.2011 - dense_6_acc_3: 0.0619 - dense_6_acc_4: 0.8570 - dense_6_acc_5: 0.1074 - dense_6_acc_6: 0.0063 - dense_6_acc_7: 0.8870 - dense_6_acc_8: 0.0696 - dense_6_acc_9: 0.02 - ETA: 24s - loss: 21.0544 - dense_6_loss: 2.7738 - dense_6_acc: 0.0032 - dense_6_acc_1: 0.4786 - dense_6_acc_2: 0.2029 - dense_6_acc_3: 0.0618 - dense_6_acc_4: 0.8621 - dense_6_acc_5: 0.1036 - dense_6_acc_6: 0.0061 - dense_6_acc_7: 0.8911 - dense_6_acc_8: 0.0675 - dense_6_acc_9: 0.02 - ETA: 23s - loss: 20.9965 - dense_6_loss: 2.7694 - dense_6_acc: 0.0031 - dense_6_acc_1: 0.4838 - dense_6_acc_2: 0.2069 - dense_6_acc_3: 0.0631 - dense_6_acc_4: 0.8669 - dense_6_acc_5: 0.1000 - dense_6_acc_6: 0.0059 - dense_6_acc_7: 0.8941 - dense_6_acc_8: 0.0717 - dense_6_acc_9: 0.0324\b\b\b\b\b\b\b\b\b\b\b\b\b\b\b\b\b\b\b\b\b\b\b\b\b\b\b\b\b\b\b\b\b\b\b\b\b\b\b\b\b\b\b\b\b\b\b\b\b\b\b\b\b\b\b\b\b\b\b\b\b\b\b\b\b\b\b\b\b\b\b\b\b\b\b\b\b\b\b\b\b\b\b\b\b\b\b\b\b\b\b\b\b\b\b\b\b\b\b\b\b\b\b\b\b\b\b\b\b\b\b\b\b\b\b\b\b\b\b\b\b\b\b\b\b\b\b\b\b\b\b\b\b\b\b\b\b\b\b\b\b\b\b\b\b\b\b\b\b\b\b\b\b\b\b\b\b\b\b\b\b\b\b\b\b\b\b\b\b\b\b\b\b\b\b\b\b\b\b\b\b\b\b\b\b\b\b\b\b\b\b\b\b\b\b\b\b\b\b\b\b\b\b\b\b\b\b\b\b\b\b\b\b\b\b\b\b\b\b\b\b\b\b\b\b\b\b\b\b\b\b\b\b\b\b\b\b\b\b\b\b\b\b\b\b\b\b\b\b\b\b\b\b\b\b\b\b\b\b\b\b\b\b\b\b\b\b\b\b\b\b\b\b\b\b\b\b\b\b\b\b\b\b\b\b\b\b\b\b\b\b\b\b\b\b\b\b\b\b\b\b\b\b\b\b\b\b\b\b\b\b\b\b\b\b\b\b\b\b\b\b\b\b\b\b\b\b\b\b\b\b\b"
     ]
    },
    {
     "name": "stdout",
     "output_type": "stream",
     "text": [
      " 5800/10000 [================>.............] - ETA: 22s - loss: 20.9432 - dense_6_loss: 2.7690 - dense_6_acc: 0.0030 - dense_6_acc_1: 0.4863 - dense_6_acc_2: 0.2100 - dense_6_acc_3: 0.0657 - dense_6_acc_4: 0.8713 - dense_6_acc_5: 0.0967 - dense_6_acc_6: 0.0057 - dense_6_acc_7: 0.8977 - dense_6_acc_8: 0.0810 - dense_6_acc_9: 0.03 - ETA: 22s - loss: 20.8884 - dense_6_loss: 2.7711 - dense_6_acc: 0.0061 - dense_6_acc_1: 0.4910 - dense_6_acc_2: 0.2116 - dense_6_acc_3: 0.0639 - dense_6_acc_4: 0.8755 - dense_6_acc_5: 0.0935 - dense_6_acc_6: 0.0055 - dense_6_acc_7: 0.9010 - dense_6_acc_8: 0.0884 - dense_6_acc_9: 0.03 - ETA: 21s - loss: 20.8324 - dense_6_loss: 2.7684 - dense_6_acc: 0.0272 - dense_6_acc_1: 0.4969 - dense_6_acc_2: 0.2100 - dense_6_acc_3: 0.0619 - dense_6_acc_4: 0.8794 - dense_6_acc_5: 0.0906 - dense_6_acc_6: 0.0053 - dense_6_acc_7: 0.9041 - dense_6_acc_8: 0.0928 - dense_6_acc_9: 0.03 - ETA: 20s - loss: 20.7773 - dense_6_loss: 2.7663 - dense_6_acc: 0.0458 - dense_6_acc_1: 0.5012 - dense_6_acc_2: 0.2130 - dense_6_acc_3: 0.0600 - dense_6_acc_4: 0.8830 - dense_6_acc_5: 0.0879 - dense_6_acc_6: 0.0052 - dense_6_acc_7: 0.9070 - dense_6_acc_8: 0.0976 - dense_6_acc_9: 0.04 - ETA: 19s - loss: 20.7156 - dense_6_loss: 2.7614 - dense_6_acc: 0.0635 - dense_6_acc_1: 0.5056 - dense_6_acc_2: 0.2191 - dense_6_acc_3: 0.0591 - dense_6_acc_4: 0.8865 - dense_6_acc_5: 0.0853 - dense_6_acc_6: 0.0050 - dense_6_acc_7: 0.9097 - dense_6_acc_8: 0.1015 - dense_6_acc_9: 0.04 - ETA: 19s - loss: 20.6548 - dense_6_loss: 2.7590 - dense_6_acc: 0.0806 - dense_6_acc_1: 0.5100 - dense_6_acc_2: 0.2214 - dense_6_acc_3: 0.0606 - dense_6_acc_4: 0.8897 - dense_6_acc_5: 0.0829 - dense_6_acc_6: 0.0049 - dense_6_acc_7: 0.9123 - dense_6_acc_8: 0.1057 - dense_6_acc_9: 0.05 - ETA: 18s - loss: 20.5999 - dense_6_loss: 2.7583 - dense_6_acc: 0.0969 - dense_6_acc_1: 0.5144 - dense_6_acc_2: 0.2242 - dense_6_acc_3: 0.0608 - dense_6_acc_4: 0.8928 - dense_6_acc_5: 0.0806 - dense_6_acc_6: 0.0047 - dense_6_acc_7: 0.9136 - dense_6_acc_8: 0.1106 - dense_6_acc_9: 0.05 - ETA: 17s - loss: 20.5537 - dense_6_loss: 2.7614 - dense_6_acc: 0.1092 - dense_6_acc_1: 0.5154 - dense_6_acc_2: 0.2273 - dense_6_acc_3: 0.0608 - dense_6_acc_4: 0.8957 - dense_6_acc_5: 0.0784 - dense_6_acc_6: 0.0049 - dense_6_acc_7: 0.9089 - dense_6_acc_8: 0.1157 - dense_6_acc_9: 0.05 - ETA: 17s - loss: 20.4970 - dense_6_loss: 2.7629 - dense_6_acc: 0.1245 - dense_6_acc_1: 0.5200 - dense_6_acc_2: 0.2287 - dense_6_acc_3: 0.0603 - dense_6_acc_4: 0.8984 - dense_6_acc_5: 0.0763 - dense_6_acc_6: 0.0047 - dense_6_acc_7: 0.9092 - dense_6_acc_8: 0.1174 - dense_6_acc_9: 0.05 - ETA: 16s - loss: 20.4440 - dense_6_loss: 2.7655 - dense_6_acc: 0.1359 - dense_6_acc_1: 0.5213 - dense_6_acc_2: 0.2318 - dense_6_acc_3: 0.0587 - dense_6_acc_4: 0.9010 - dense_6_acc_5: 0.0744 - dense_6_acc_6: 0.0049 - dense_6_acc_7: 0.9082 - dense_6_acc_8: 0.1203 - dense_6_acc_9: 0.05 - ETA: 16s - loss: 20.3814 - dense_6_loss: 2.7670 - dense_6_acc: 0.1485 - dense_6_acc_1: 0.5242 - dense_6_acc_2: 0.2360 - dense_6_acc_3: 0.0577 - dense_6_acc_4: 0.9035 - dense_6_acc_5: 0.0735 - dense_6_acc_6: 0.0047 - dense_6_acc_7: 0.9030 - dense_6_acc_8: 0.1273 - dense_6_acc_9: 0.05 - ETA: 15s - loss: 20.3249 - dense_6_loss: 2.7676 - dense_6_acc: 0.1610 - dense_6_acc_1: 0.5276 - dense_6_acc_2: 0.2383 - dense_6_acc_3: 0.0571 - dense_6_acc_4: 0.9044 - dense_6_acc_5: 0.0766 - dense_6_acc_6: 0.0054 - dense_6_acc_7: 0.8949 - dense_6_acc_8: 0.1322 - dense_6_acc_9: 0.06 - ETA: 15s - loss: 20.2627 - dense_6_loss: 2.7689 - dense_6_acc: 0.1731 - dense_6_acc_1: 0.5310 - dense_6_acc_2: 0.2410 - dense_6_acc_3: 0.0586 - dense_6_acc_4: 0.9060 - dense_6_acc_5: 0.0793 - dense_6_acc_6: 0.0062 - dense_6_acc_7: 0.8888 - dense_6_acc_8: 0.1362 - dense_6_acc_9: 0.06 - ETA: 14s - loss: 20.2058 - dense_6_loss: 2.7679 - dense_6_acc: 0.1833 - dense_6_acc_1: 0.5328 - dense_6_acc_2: 0.2416 - dense_6_acc_3: 0.0595 - dense_6_acc_4: 0.9077 - dense_6_acc_5: 0.0812 - dense_6_acc_6: 0.0070 - dense_6_acc_7: 0.8870 - dense_6_acc_8: 0.1384 - dense_6_acc_9: 0.06 - ETA: 14s - loss: 20.1490 - dense_6_loss: 2.7662 - dense_6_acc: 0.1941 - dense_6_acc_1: 0.5357 - dense_6_acc_2: 0.2436 - dense_6_acc_3: 0.0589 - dense_6_acc_4: 0.9098 - dense_6_acc_5: 0.0811 - dense_6_acc_6: 0.0068 - dense_6_acc_7: 0.8866 - dense_6_acc_8: 0.1455 - dense_6_acc_9: 0.06 - ETA: 13s - loss: 20.0821 - dense_6_loss: 2.7630 - dense_6_acc: 0.2049 - dense_6_acc_1: 0.5396 - dense_6_acc_2: 0.2471 - dense_6_acc_3: 0.0576 - dense_6_acc_4: 0.9118 - dense_6_acc_5: 0.0800 - dense_6_acc_6: 0.0069 - dense_6_acc_7: 0.8849 - dense_6_acc_8: 0.1531 - dense_6_acc_9: 0.06 - ETA: 13s - loss: 20.0187 - dense_6_loss: 2.7598 - dense_6_acc: 0.2152 - dense_6_acc_1: 0.5426 - dense_6_acc_2: 0.2496 - dense_6_acc_3: 0.0576 - dense_6_acc_4: 0.9137 - dense_6_acc_5: 0.0793 - dense_6_acc_6: 0.0070 - dense_6_acc_7: 0.8850 - dense_6_acc_8: 0.1580 - dense_6_acc_9: 0.06 - ETA: 12s - loss: 19.9566 - dense_6_loss: 2.7561 - dense_6_acc: 0.2234 - dense_6_acc_1: 0.5440 - dense_6_acc_2: 0.2511 - dense_6_acc_3: 0.0579 - dense_6_acc_4: 0.9155 - dense_6_acc_5: 0.0847 - dense_6_acc_6: 0.0083 - dense_6_acc_7: 0.8823 - dense_6_acc_8: 0.1574 - dense_6_acc_9: 0.06 - ETA: 12s - loss: 19.8936 - dense_6_loss: 2.7526 - dense_6_acc: 0.2306 - dense_6_acc_1: 0.5458 - dense_6_acc_2: 0.2527 - dense_6_acc_3: 0.0569 - dense_6_acc_4: 0.9173 - dense_6_acc_5: 0.0975 - dense_6_acc_6: 0.0085 - dense_6_acc_7: 0.8767 - dense_6_acc_8: 0.1585 - dense_6_acc_9: 0.07 - ETA: 12s - loss: 19.8298 - dense_6_loss: 2.7538 - dense_6_acc: 0.2382 - dense_6_acc_1: 0.5484 - dense_6_acc_2: 0.2549 - dense_6_acc_3: 0.0563 - dense_6_acc_4: 0.9190 - dense_6_acc_5: 0.1090 - dense_6_acc_6: 0.0090 - dense_6_acc_7: 0.8751 - dense_6_acc_8: 0.1637 - dense_6_acc_9: 0.07 - ETA: 11s - loss: 19.7644 - dense_6_loss: 2.7511 - dense_6_acc: 0.2456 - dense_6_acc_1: 0.5498 - dense_6_acc_2: 0.2578 - dense_6_acc_3: 0.0568 - dense_6_acc_4: 0.9206 - dense_6_acc_5: 0.1158 - dense_6_acc_6: 0.0100 - dense_6_acc_7: 0.8770 - dense_6_acc_8: 0.1678 - dense_6_acc_9: 0.07 - ETA: 11s - loss: 19.6985 - dense_6_loss: 2.7505 - dense_6_acc: 0.2525 - dense_6_acc_1: 0.5533 - dense_6_acc_2: 0.2584 - dense_6_acc_3: 0.0575 - dense_6_acc_4: 0.9222 - dense_6_acc_5: 0.1275 - dense_6_acc_6: 0.0110 - dense_6_acc_7: 0.8794 - dense_6_acc_8: 0.1692 - dense_6_acc_9: 0.07 - ETA: 10s - loss: 19.6277 - dense_6_loss: 2.7464 - dense_6_acc: 0.2594 - dense_6_acc_1: 0.5583 - dense_6_acc_2: 0.2623 - dense_6_acc_3: 0.0583 - dense_6_acc_4: 0.9237 - dense_6_acc_5: 0.1408 - dense_6_acc_6: 0.0117 - dense_6_acc_7: 0.8817 - dense_6_acc_8: 0.1685 - dense_6_acc_9: 0.07 - ETA: 10s - loss: 19.5493 - dense_6_loss: 2.7451 - dense_6_acc: 0.2681 - dense_6_acc_1: 0.5634 - dense_6_acc_2: 0.2647 - dense_6_acc_3: 0.0589 - dense_6_acc_4: 0.9251 - dense_6_acc_5: 0.1526 - dense_6_acc_6: 0.0128 - dense_6_acc_7: 0.8840 - dense_6_acc_8: 0.1702 - dense_6_acc_9: 0.07 - ETA: 10s - loss: 19.4800 - dense_6_loss: 2.7420 - dense_6_acc: 0.2754 - dense_6_acc_1: 0.5665 - dense_6_acc_2: 0.2661 - dense_6_acc_3: 0.0578 - dense_6_acc_4: 0.9265 - dense_6_acc_5: 0.1613 - dense_6_acc_6: 0.0150 - dense_6_acc_7: 0.8861 - dense_6_acc_8: 0.1737 - dense_6_acc_9: 0.08 - ETA: 9s - loss: 19.4036 - dense_6_loss: 2.7379 - dense_6_acc: 0.2822 - dense_6_acc_1: 0.5689 - dense_6_acc_2: 0.2676 - dense_6_acc_3: 0.0567 - dense_6_acc_4: 0.9278 - dense_6_acc_5: 0.1720 - dense_6_acc_6: 0.0160 - dense_6_acc_7: 0.8882 - dense_6_acc_8: 0.1769 - dense_6_acc_9: 0.0813 - ETA: 9s - loss: 19.3273 - dense_6_loss: 2.7343 - dense_6_acc: 0.2879 - dense_6_acc_1: 0.5702 - dense_6_acc_2: 0.2700 - dense_6_acc_3: 0.0564 - dense_6_acc_4: 0.9291 - dense_6_acc_5: 0.1832 - dense_6_acc_6: 0.0166 - dense_6_acc_7: 0.8902 - dense_6_acc_8: 0.1807 - dense_6_acc_9: 0.082 - ETA: 9s - loss: 19.2480 - dense_6_loss: 2.7285 - dense_6_acc: 0.2940 - dense_6_acc_1: 0.5740 - dense_6_acc_2: 0.2709 - dense_6_acc_3: 0.0560 - dense_6_acc_4: 0.9304 - dense_6_acc_5: 0.1939 - dense_6_acc_6: 0.0175 - dense_6_acc_7: 0.8921 - dense_6_acc_8: 0.1830 - dense_6_acc_9: 0.083 - ETA: 8s - loss: 19.1677 - dense_6_loss: 2.7262 - dense_6_acc: 0.2995 - dense_6_acc_1: 0.5764 - dense_6_acc_2: 0.2729 - dense_6_acc_3: 0.0564 - dense_6_acc_4: 0.9316 - dense_6_acc_5: 0.2031 - dense_6_acc_6: 0.0184 - dense_6_acc_7: 0.8940 - dense_6_acc_8: 0.1871 - dense_6_acc_9: 0.0843"
     ]
    },
    {
     "name": "stdout",
     "output_type": "stream",
     "text": [
      " 8700/10000 [=========================>....] - ETA: 8s - loss: 19.0838 - dense_6_loss: 2.7215 - dense_6_acc: 0.3046 - dense_6_acc_1: 0.5792 - dense_6_acc_2: 0.2747 - dense_6_acc_3: 0.0569 - dense_6_acc_4: 0.9327 - dense_6_acc_5: 0.2108 - dense_6_acc_6: 0.0203 - dense_6_acc_7: 0.8958 - dense_6_acc_8: 0.1903 - dense_6_acc_9: 0.085 - ETA: 8s - loss: 18.9945 - dense_6_loss: 2.7177 - dense_6_acc: 0.3085 - dense_6_acc_1: 0.5825 - dense_6_acc_2: 0.2775 - dense_6_acc_3: 0.0573 - dense_6_acc_4: 0.9338 - dense_6_acc_5: 0.2188 - dense_6_acc_6: 0.0217 - dense_6_acc_7: 0.8975 - dense_6_acc_8: 0.1943 - dense_6_acc_9: 0.085 - ETA: 8s - loss: 18.9048 - dense_6_loss: 2.7123 - dense_6_acc: 0.3134 - dense_6_acc_1: 0.5869 - dense_6_acc_2: 0.2800 - dense_6_acc_3: 0.0584 - dense_6_acc_4: 0.9349 - dense_6_acc_5: 0.2256 - dense_6_acc_6: 0.0236 - dense_6_acc_7: 0.8992 - dense_6_acc_8: 0.1975 - dense_6_acc_9: 0.086 - ETA: 7s - loss: 18.8126 - dense_6_loss: 2.7078 - dense_6_acc: 0.3187 - dense_6_acc_1: 0.5915 - dense_6_acc_2: 0.2821 - dense_6_acc_3: 0.0598 - dense_6_acc_4: 0.9360 - dense_6_acc_5: 0.2323 - dense_6_acc_6: 0.0250 - dense_6_acc_7: 0.9008 - dense_6_acc_8: 0.2011 - dense_6_acc_9: 0.087 - ETA: 7s - loss: 18.7256 - dense_6_loss: 2.7029 - dense_6_acc: 0.3235 - dense_6_acc_1: 0.5959 - dense_6_acc_2: 0.2837 - dense_6_acc_3: 0.0608 - dense_6_acc_4: 0.9370 - dense_6_acc_5: 0.2367 - dense_6_acc_6: 0.0260 - dense_6_acc_7: 0.9024 - dense_6_acc_8: 0.2051 - dense_6_acc_9: 0.088 - ETA: 7s - loss: 18.6349 - dense_6_loss: 2.6987 - dense_6_acc: 0.3283 - dense_6_acc_1: 0.6006 - dense_6_acc_2: 0.2864 - dense_6_acc_3: 0.0614 - dense_6_acc_4: 0.9380 - dense_6_acc_5: 0.2419 - dense_6_acc_6: 0.0269 - dense_6_acc_7: 0.9039 - dense_6_acc_8: 0.2086 - dense_6_acc_9: 0.087 - ETA: 7s - loss: 18.5493 - dense_6_loss: 2.6929 - dense_6_acc: 0.3325 - dense_6_acc_1: 0.6049 - dense_6_acc_2: 0.2871 - dense_6_acc_3: 0.0618 - dense_6_acc_4: 0.9389 - dense_6_acc_5: 0.2491 - dense_6_acc_6: 0.0266 - dense_6_acc_7: 0.9054 - dense_6_acc_8: 0.2109 - dense_6_acc_9: 0.087 - ETA: 6s - loss: 18.4617 - dense_6_loss: 2.6881 - dense_6_acc: 0.3361 - dense_6_acc_1: 0.6091 - dense_6_acc_2: 0.2891 - dense_6_acc_3: 0.0629 - dense_6_acc_4: 0.9398 - dense_6_acc_5: 0.2573 - dense_6_acc_6: 0.0274 - dense_6_acc_7: 0.9068 - dense_6_acc_8: 0.2145 - dense_6_acc_9: 0.088 - ETA: 6s - loss: 18.3732 - dense_6_loss: 2.6835 - dense_6_acc: 0.3409 - dense_6_acc_1: 0.6133 - dense_6_acc_2: 0.2907 - dense_6_acc_3: 0.0645 - dense_6_acc_4: 0.9407 - dense_6_acc_5: 0.2655 - dense_6_acc_6: 0.0275 - dense_6_acc_7: 0.9082 - dense_6_acc_8: 0.2155 - dense_6_acc_9: 0.088 - ETA: 6s - loss: 18.2902 - dense_6_loss: 2.6797 - dense_6_acc: 0.3457 - dense_6_acc_1: 0.6179 - dense_6_acc_2: 0.2924 - dense_6_acc_3: 0.0635 - dense_6_acc_4: 0.9416 - dense_6_acc_5: 0.2726 - dense_6_acc_6: 0.0279 - dense_6_acc_7: 0.9096 - dense_6_acc_8: 0.2184 - dense_6_acc_9: 0.088 - ETA: 6s - loss: 18.2045 - dense_6_loss: 2.6748 - dense_6_acc: 0.3501 - dense_6_acc_1: 0.6214 - dense_6_acc_2: 0.2957 - dense_6_acc_3: 0.0641 - dense_6_acc_4: 0.9425 - dense_6_acc_5: 0.2788 - dense_6_acc_6: 0.0293 - dense_6_acc_7: 0.9109 - dense_6_acc_8: 0.2193 - dense_6_acc_9: 0.088 - ETA: 5s - loss: 18.1188 - dense_6_loss: 2.6703 - dense_6_acc: 0.3561 - dense_6_acc_1: 0.6256 - dense_6_acc_2: 0.2987 - dense_6_acc_3: 0.0647 - dense_6_acc_4: 0.9433 - dense_6_acc_5: 0.2850 - dense_6_acc_6: 0.0307 - dense_6_acc_7: 0.9121 - dense_6_acc_8: 0.2209 - dense_6_acc_9: 0.089 - ETA: 5s - loss: 18.0378 - dense_6_loss: 2.6652 - dense_6_acc: 0.3618 - dense_6_acc_1: 0.6292 - dense_6_acc_2: 0.3000 - dense_6_acc_3: 0.0652 - dense_6_acc_4: 0.9441 - dense_6_acc_5: 0.2911 - dense_6_acc_6: 0.0314 - dense_6_acc_7: 0.9134 - dense_6_acc_8: 0.2221 - dense_6_acc_9: 0.089 - ETA: 5s - loss: 17.9523 - dense_6_loss: 2.6608 - dense_6_acc: 0.3678 - dense_6_acc_1: 0.6321 - dense_6_acc_2: 0.3012 - dense_6_acc_3: 0.0657 - dense_6_acc_4: 0.9449 - dense_6_acc_5: 0.2981 - dense_6_acc_6: 0.0331 - dense_6_acc_7: 0.9146 - dense_6_acc_8: 0.2246 - dense_6_acc_9: 0.089 - ETA: 5s - loss: 17.8716 - dense_6_loss: 2.6558 - dense_6_acc: 0.3737 - dense_6_acc_1: 0.6355 - dense_6_acc_2: 0.3025 - dense_6_acc_3: 0.0652 - dense_6_acc_4: 0.9456 - dense_6_acc_5: 0.3040 - dense_6_acc_6: 0.0352 - dense_6_acc_7: 0.9158 - dense_6_acc_8: 0.2274 - dense_6_acc_9: 0.089 - ETA: 4s - loss: 17.7892 - dense_6_loss: 2.6507 - dense_6_acc: 0.3782 - dense_6_acc_1: 0.6384 - dense_6_acc_2: 0.3032 - dense_6_acc_3: 0.0658 - dense_6_acc_4: 0.9464 - dense_6_acc_5: 0.3100 - dense_6_acc_6: 0.0368 - dense_6_acc_7: 0.9169 - dense_6_acc_8: 0.2289 - dense_6_acc_9: 0.090 - ETA: 4s - loss: 17.7069 - dense_6_loss: 2.6460 - dense_6_acc: 0.3836 - dense_6_acc_1: 0.6421 - dense_6_acc_2: 0.3045 - dense_6_acc_3: 0.0661 - dense_6_acc_4: 0.9471 - dense_6_acc_5: 0.3155 - dense_6_acc_6: 0.0380 - dense_6_acc_7: 0.9180 - dense_6_acc_8: 0.2293 - dense_6_acc_9: 0.091 - ETA: 4s - loss: 17.6259 - dense_6_loss: 2.6414 - dense_6_acc: 0.3900 - dense_6_acc_1: 0.6462 - dense_6_acc_2: 0.3059 - dense_6_acc_3: 0.0666 - dense_6_acc_4: 0.9478 - dense_6_acc_5: 0.3211 - dense_6_acc_6: 0.0391 - dense_6_acc_7: 0.9191 - dense_6_acc_8: 0.2313 - dense_6_acc_9: 0.092 - ETA: 4s - loss: 17.5473 - dense_6_loss: 2.6370 - dense_6_acc: 0.3956 - dense_6_acc_1: 0.6491 - dense_6_acc_2: 0.3086 - dense_6_acc_3: 0.0670 - dense_6_acc_4: 0.9484 - dense_6_acc_5: 0.3266 - dense_6_acc_6: 0.0396 - dense_6_acc_7: 0.9201 - dense_6_acc_8: 0.2331 - dense_6_acc_9: 0.092 - ETA: 4s - loss: 17.4676 - dense_6_loss: 2.6325 - dense_6_acc: 0.4003 - dense_6_acc_1: 0.6521 - dense_6_acc_2: 0.3110 - dense_6_acc_3: 0.0685 - dense_6_acc_4: 0.9491 - dense_6_acc_5: 0.3323 - dense_6_acc_6: 0.0412 - dense_6_acc_7: 0.9212 - dense_6_acc_8: 0.2349 - dense_6_acc_9: 0.093 - ETA: 3s - loss: 17.3905 - dense_6_loss: 2.6283 - dense_6_acc: 0.4068 - dense_6_acc_1: 0.6561 - dense_6_acc_2: 0.3122 - dense_6_acc_3: 0.0691 - dense_6_acc_4: 0.9497 - dense_6_acc_5: 0.3376 - dense_6_acc_6: 0.0427 - dense_6_acc_7: 0.9222 - dense_6_acc_8: 0.2362 - dense_6_acc_9: 0.094 - ETA: 3s - loss: 17.3122 - dense_6_loss: 2.6243 - dense_6_acc: 0.4130 - dense_6_acc_1: 0.6595 - dense_6_acc_2: 0.3131 - dense_6_acc_3: 0.0699 - dense_6_acc_4: 0.9504 - dense_6_acc_5: 0.3424 - dense_6_acc_6: 0.0456 - dense_6_acc_7: 0.9231 - dense_6_acc_8: 0.2384 - dense_6_acc_9: 0.094 - ETA: 3s - loss: 17.2351 - dense_6_loss: 2.6211 - dense_6_acc: 0.4188 - dense_6_acc_1: 0.6632 - dense_6_acc_2: 0.3148 - dense_6_acc_3: 0.0702 - dense_6_acc_4: 0.9510 - dense_6_acc_5: 0.3470 - dense_6_acc_6: 0.0481 - dense_6_acc_7: 0.9241 - dense_6_acc_8: 0.2391 - dense_6_acc_9: 0.094 - ETA: 3s - loss: 17.1627 - dense_6_loss: 2.6180 - dense_6_acc: 0.4240 - dense_6_acc_1: 0.6663 - dense_6_acc_2: 0.3156 - dense_6_acc_3: 0.0705 - dense_6_acc_4: 0.9516 - dense_6_acc_5: 0.3506 - dense_6_acc_6: 0.0501 - dense_6_acc_7: 0.9250 - dense_6_acc_8: 0.2400 - dense_6_acc_9: 0.094 - ETA: 3s - loss: 17.0886 - dense_6_loss: 2.6144 - dense_6_acc: 0.4295 - dense_6_acc_1: 0.6694 - dense_6_acc_2: 0.3188 - dense_6_acc_3: 0.0718 - dense_6_acc_4: 0.9522 - dense_6_acc_5: 0.3560 - dense_6_acc_6: 0.0511 - dense_6_acc_7: 0.9259 - dense_6_acc_8: 0.2413 - dense_6_acc_9: 0.094 - ETA: 2s - loss: 17.0163 - dense_6_loss: 2.6102 - dense_6_acc: 0.4358 - dense_6_acc_1: 0.6726 - dense_6_acc_2: 0.3202 - dense_6_acc_3: 0.0719 - dense_6_acc_4: 0.9527 - dense_6_acc_5: 0.3608 - dense_6_acc_6: 0.0523 - dense_6_acc_7: 0.9268 - dense_6_acc_8: 0.2426 - dense_6_acc_9: 0.095 - ETA: 2s - loss: 16.9473 - dense_6_loss: 2.6073 - dense_6_acc: 0.4401 - dense_6_acc_1: 0.6745 - dense_6_acc_2: 0.3219 - dense_6_acc_3: 0.0728 - dense_6_acc_4: 0.9533 - dense_6_acc_5: 0.3659 - dense_6_acc_6: 0.0541 - dense_6_acc_7: 0.9276 - dense_6_acc_8: 0.2440 - dense_6_acc_9: 0.095 - ETA: 2s - loss: 16.8767 - dense_6_loss: 2.6037 - dense_6_acc: 0.4458 - dense_6_acc_1: 0.6778 - dense_6_acc_2: 0.3234 - dense_6_acc_3: 0.0729 - dense_6_acc_4: 0.9538 - dense_6_acc_5: 0.3706 - dense_6_acc_6: 0.0556 - dense_6_acc_7: 0.9285 - dense_6_acc_8: 0.2452 - dense_6_acc_9: 0.095 - ETA: 2s - loss: 16.8081 - dense_6_loss: 2.5998 - dense_6_acc: 0.4515 - dense_6_acc_1: 0.6805 - dense_6_acc_2: 0.3254 - dense_6_acc_3: 0.0733 - dense_6_acc_4: 0.9544 - dense_6_acc_5: 0.3754 - dense_6_acc_6: 0.0563 - dense_6_acc_7: 0.9293 - dense_6_acc_8: 0.2477 - dense_6_acc_9: 0.0956"
     ]
    },
    {
     "name": "stdout",
     "output_type": "stream",
     "text": [
      "10000/10000 [==============================] - ETA: 2s - loss: 16.7395 - dense_6_loss: 2.5959 - dense_6_acc: 0.4567 - dense_6_acc_1: 0.6835 - dense_6_acc_2: 0.3276 - dense_6_acc_3: 0.0739 - dense_6_acc_4: 0.9549 - dense_6_acc_5: 0.3798 - dense_6_acc_6: 0.0578 - dense_6_acc_7: 0.9301 - dense_6_acc_8: 0.2488 - dense_6_acc_9: 0.096 - ETA: 1s - loss: 16.6763 - dense_6_loss: 2.5926 - dense_6_acc: 0.4610 - dense_6_acc_1: 0.6855 - dense_6_acc_2: 0.3288 - dense_6_acc_3: 0.0745 - dense_6_acc_4: 0.9554 - dense_6_acc_5: 0.3839 - dense_6_acc_6: 0.0598 - dense_6_acc_7: 0.9309 - dense_6_acc_8: 0.2501 - dense_6_acc_9: 0.096 - ETA: 1s - loss: 16.6094 - dense_6_loss: 2.5894 - dense_6_acc: 0.4666 - dense_6_acc_1: 0.6886 - dense_6_acc_2: 0.3294 - dense_6_acc_3: 0.0753 - dense_6_acc_4: 0.9559 - dense_6_acc_5: 0.3877 - dense_6_acc_6: 0.0613 - dense_6_acc_7: 0.9317 - dense_6_acc_8: 0.2516 - dense_6_acc_9: 0.096 - ETA: 1s - loss: 16.5468 - dense_6_loss: 2.5864 - dense_6_acc: 0.4722 - dense_6_acc_1: 0.6918 - dense_6_acc_2: 0.3301 - dense_6_acc_3: 0.0756 - dense_6_acc_4: 0.9564 - dense_6_acc_5: 0.3907 - dense_6_acc_6: 0.0631 - dense_6_acc_7: 0.9324 - dense_6_acc_8: 0.2527 - dense_6_acc_9: 0.096 - ETA: 1s - loss: 16.4845 - dense_6_loss: 2.5837 - dense_6_acc: 0.4768 - dense_6_acc_1: 0.6940 - dense_6_acc_2: 0.3315 - dense_6_acc_3: 0.0762 - dense_6_acc_4: 0.9568 - dense_6_acc_5: 0.3945 - dense_6_acc_6: 0.0637 - dense_6_acc_7: 0.9332 - dense_6_acc_8: 0.2538 - dense_6_acc_9: 0.096 - ETA: 1s - loss: 16.4223 - dense_6_loss: 2.5802 - dense_6_acc: 0.4817 - dense_6_acc_1: 0.6967 - dense_6_acc_2: 0.3326 - dense_6_acc_3: 0.0769 - dense_6_acc_4: 0.9573 - dense_6_acc_5: 0.3984 - dense_6_acc_6: 0.0654 - dense_6_acc_7: 0.9339 - dense_6_acc_8: 0.2553 - dense_6_acc_9: 0.097 - ETA: 1s - loss: 16.3614 - dense_6_loss: 2.5773 - dense_6_acc: 0.4865 - dense_6_acc_1: 0.6996 - dense_6_acc_2: 0.3339 - dense_6_acc_3: 0.0777 - dense_6_acc_4: 0.9578 - dense_6_acc_5: 0.4019 - dense_6_acc_6: 0.0677 - dense_6_acc_7: 0.9346 - dense_6_acc_8: 0.2567 - dense_6_acc_9: 0.097 - ETA: 0s - loss: 16.2983 - dense_6_loss: 2.5741 - dense_6_acc: 0.4913 - dense_6_acc_1: 0.7023 - dense_6_acc_2: 0.3351 - dense_6_acc_3: 0.0784 - dense_6_acc_4: 0.9582 - dense_6_acc_5: 0.4049 - dense_6_acc_6: 0.0697 - dense_6_acc_7: 0.9353 - dense_6_acc_8: 0.2584 - dense_6_acc_9: 0.096 - ETA: 0s - loss: 16.2369 - dense_6_loss: 2.5708 - dense_6_acc: 0.4963 - dense_6_acc_1: 0.7053 - dense_6_acc_2: 0.3364 - dense_6_acc_3: 0.0793 - dense_6_acc_4: 0.9586 - dense_6_acc_5: 0.4089 - dense_6_acc_6: 0.0706 - dense_6_acc_7: 0.9359 - dense_6_acc_8: 0.2591 - dense_6_acc_9: 0.097 - ETA: 0s - loss: 16.1795 - dense_6_loss: 2.5680 - dense_6_acc: 0.5008 - dense_6_acc_1: 0.7080 - dense_6_acc_2: 0.3374 - dense_6_acc_3: 0.0794 - dense_6_acc_4: 0.9591 - dense_6_acc_5: 0.4126 - dense_6_acc_6: 0.0719 - dense_6_acc_7: 0.9366 - dense_6_acc_8: 0.2606 - dense_6_acc_9: 0.097 - ETA: 0s - loss: 16.1219 - dense_6_loss: 2.5654 - dense_6_acc: 0.5047 - dense_6_acc_1: 0.7104 - dense_6_acc_2: 0.3394 - dense_6_acc_3: 0.0796 - dense_6_acc_4: 0.9595 - dense_6_acc_5: 0.4152 - dense_6_acc_6: 0.0732 - dense_6_acc_7: 0.9372 - dense_6_acc_8: 0.2613 - dense_6_acc_9: 0.097 - ETA: 0s - loss: 16.0659 - dense_6_loss: 2.5627 - dense_6_acc: 0.5089 - dense_6_acc_1: 0.7128 - dense_6_acc_2: 0.3407 - dense_6_acc_3: 0.0804 - dense_6_acc_4: 0.9599 - dense_6_acc_5: 0.4186 - dense_6_acc_6: 0.0745 - dense_6_acc_7: 0.9379 - dense_6_acc_8: 0.2631 - dense_6_acc_9: 0.097 - 16s 2ms/step - loss: 16.0091 - dense_6_loss: 2.5603 - dense_6_acc: 0.5137 - dense_6_acc_1: 0.7155 - dense_6_acc_2: 0.3425 - dense_6_acc_3: 0.0807 - dense_6_acc_4: 0.9603 - dense_6_acc_5: 0.4219 - dense_6_acc_6: 0.0760 - dense_6_acc_7: 0.9385 - dense_6_acc_8: 0.2642 - dense_6_acc_9: 0.0975\n"
     ]
    },
    {
     "data": {
      "text/plain": [
       "<keras.callbacks.History at 0x1583d550>"
      ]
     },
     "execution_count": 33,
     "metadata": {},
     "output_type": "execute_result"
    }
   ],
   "source": [
    "model.fit([Xoh, s0, c0], outputs, epochs=1, batch_size=100)"
   ]
  },
  {
   "cell_type": "markdown",
   "metadata": {},
   "source": [
    "While training you can see the loss as well as the accuracy on each of the 10 positions of the output. The table below gives you an example of what the accuracies could be if the batch had 2 examples: \n",
    "\n",
    "<img src=\"images/table.png\" style=\"width:700;height:200px;\"> <br>\n",
    "<caption><center>Thus, `dense_2_acc_8: 0.89` means that you are predicting the 7th character of the output correctly 89% of the time in the current batch of data. </center></caption>\n",
    "\n",
    "\n",
    "We have run this model for longer, and saved the weights. Run the next cell to load our weights. (By training a model for several minutes, you should be able to obtain a model of similar accuracy, but loading our model will save you time.) "
   ]
  },
  {
   "cell_type": "code",
   "execution_count": 34,
   "metadata": {
    "collapsed": true
   },
   "outputs": [],
   "source": [
    "model.load_weights('models/model.h5')"
   ]
  },
  {
   "cell_type": "markdown",
   "metadata": {},
   "source": [
    "You can now see the results on new examples."
   ]
  },
  {
   "cell_type": "code",
   "execution_count": 36,
   "metadata": {},
   "outputs": [],
   "source": [
    "# EXAMPLES = ['3 May 1979', '5 April 09', '21th of August 2016', 'Tue 10 Jul 2007', 'Saturday May 9 2018', 'March 3 2001', 'March 3rd 2001', '1 March 2001']\n",
    "# for example in EXAMPLES:\n",
    "    \n",
    "#     source = string_to_int(example, Tx, human_vocab)\n",
    "#     source = np.array(list(map(lambda x: to_categorical(x, num_classes=len(human_vocab)), source))).swapaxes(0,1)\n",
    "#     prediction = model.predict([source, s0, c0])\n",
    "#     prediction = np.argmax(prediction, axis = -1)\n",
    "#     output = [inv_machine_vocab[int(i)] for i in prediction]\n",
    "    \n",
    "#     print(\"source:\", example)\n",
    "#     print(\"output:\", ''.join(output))"
   ]
  },
  {
   "cell_type": "markdown",
   "metadata": {},
   "source": [
    "You can also change these examples to test with your own examples. The next part will give you a better sense on what the attention mechanism is doing--i.e., what part of the input the network is paying attention to when generating a particular output character. "
   ]
  },
  {
   "cell_type": "markdown",
   "metadata": {},
   "source": [
    "## 3 - Visualizing Attention (Optional / Ungraded)\n",
    "\n",
    "Since the problem has a fixed output length of 10, it is also possible to carry out this task using 10 different softmax units to generate the 10 characters of the output. But one advantage of the attention model is that each part of the output (say the month) knows it needs to depend only on a small part of the input (the characters in the input giving the month). We can  visualize what part of the output is looking at what part of the input.\n",
    "\n",
    "Consider the task of translating \"Saturday 9 May 2018\" to \"2018-05-09\". If we visualize the computed $\\alpha^{\\langle t, t' \\rangle}$ we get this: \n",
    "\n",
    "<img src=\"images/date_attention.png\" style=\"width:600;height:300px;\"> <br>\n",
    "<caption><center> **Figure 8**: Full Attention Map</center></caption>\n",
    "\n",
    "Notice how the output ignores the \"Saturday\" portion of the input. None of the output timesteps are paying much attention to that portion of the input. We see also that 9 has been translated as 09 and May has been correctly translated into 05, with the output paying attention to the parts of the input it needs to to make the translation. The year mostly requires it to pay attention to the input's \"18\" in order to generate \"2018.\" \n",
    "\n"
   ]
  },
  {
   "cell_type": "markdown",
   "metadata": {},
   "source": [
    "### 3.1 - Getting the activations from the network\n",
    "\n",
    "Lets now visualize the attention values in your network. We'll propagate an example through the network, then visualize the values of $\\alpha^{\\langle t, t' \\rangle}$. \n",
    "\n",
    "To figure out where the attention values are located, let's start by printing a summary of the model ."
   ]
  },
  {
   "cell_type": "code",
   "execution_count": 37,
   "metadata": {},
   "outputs": [
    {
     "name": "stdout",
     "output_type": "stream",
     "text": [
      "__________________________________________________________________________________________________\n",
      "Layer (type)                    Output Shape         Param #     Connected to                     \n",
      "==================================================================================================\n",
      "input_2 (InputLayer)            (None, 30, 37)       0                                            \n",
      "__________________________________________________________________________________________________\n",
      "s0 (InputLayer)                 (None, 64)           0                                            \n",
      "__________________________________________________________________________________________________\n",
      "bidirectional_2 (Bidirectional) (None, 30, 64)       17920       input_2[0][0]                    \n",
      "__________________________________________________________________________________________________\n",
      "repeat_vector_2 (RepeatVector)  (None, 30, 64)       0           s0[0][0]                         \n",
      "                                                                 lstm_3[0][0]                     \n",
      "                                                                 lstm_3[1][0]                     \n",
      "                                                                 lstm_3[2][0]                     \n",
      "                                                                 lstm_3[3][0]                     \n",
      "                                                                 lstm_3[4][0]                     \n",
      "                                                                 lstm_3[5][0]                     \n",
      "                                                                 lstm_3[6][0]                     \n",
      "                                                                 lstm_3[7][0]                     \n",
      "                                                                 lstm_3[8][0]                     \n",
      "__________________________________________________________________________________________________\n",
      "concatenate_2 (Concatenate)     (None, 30, 128)      0           bidirectional_2[0][0]            \n",
      "                                                                 repeat_vector_2[0][0]            \n",
      "                                                                 bidirectional_2[0][0]            \n",
      "                                                                 repeat_vector_2[1][0]            \n",
      "                                                                 bidirectional_2[0][0]            \n",
      "                                                                 repeat_vector_2[2][0]            \n",
      "                                                                 bidirectional_2[0][0]            \n",
      "                                                                 repeat_vector_2[3][0]            \n",
      "                                                                 bidirectional_2[0][0]            \n",
      "                                                                 repeat_vector_2[4][0]            \n",
      "                                                                 bidirectional_2[0][0]            \n",
      "                                                                 repeat_vector_2[5][0]            \n",
      "                                                                 bidirectional_2[0][0]            \n",
      "                                                                 repeat_vector_2[6][0]            \n",
      "                                                                 bidirectional_2[0][0]            \n",
      "                                                                 repeat_vector_2[7][0]            \n",
      "                                                                 bidirectional_2[0][0]            \n",
      "                                                                 repeat_vector_2[8][0]            \n",
      "                                                                 bidirectional_2[0][0]            \n",
      "                                                                 repeat_vector_2[9][0]            \n",
      "__________________________________________________________________________________________________\n",
      "dense_4 (Dense)                 (None, 30, 10)       1290        concatenate_2[0][0]              \n",
      "                                                                 concatenate_2[1][0]              \n",
      "                                                                 concatenate_2[2][0]              \n",
      "                                                                 concatenate_2[3][0]              \n",
      "                                                                 concatenate_2[4][0]              \n",
      "                                                                 concatenate_2[5][0]              \n",
      "                                                                 concatenate_2[6][0]              \n",
      "                                                                 concatenate_2[7][0]              \n",
      "                                                                 concatenate_2[8][0]              \n",
      "                                                                 concatenate_2[9][0]              \n",
      "__________________________________________________________________________________________________\n",
      "dense_5 (Dense)                 (None, 30, 1)        11          dense_4[0][0]                    \n",
      "                                                                 dense_4[1][0]                    \n",
      "                                                                 dense_4[2][0]                    \n",
      "                                                                 dense_4[3][0]                    \n",
      "                                                                 dense_4[4][0]                    \n",
      "                                                                 dense_4[5][0]                    \n",
      "                                                                 dense_4[6][0]                    \n",
      "                                                                 dense_4[7][0]                    \n",
      "                                                                 dense_4[8][0]                    \n",
      "                                                                 dense_4[9][0]                    \n",
      "__________________________________________________________________________________________________\n",
      "attention_weights (Activation)  (None, 30, 1)        0           dense_5[0][0]                    \n",
      "                                                                 dense_5[1][0]                    \n",
      "                                                                 dense_5[2][0]                    \n",
      "                                                                 dense_5[3][0]                    \n",
      "                                                                 dense_5[4][0]                    \n",
      "                                                                 dense_5[5][0]                    \n",
      "                                                                 dense_5[6][0]                    \n",
      "                                                                 dense_5[7][0]                    \n",
      "                                                                 dense_5[8][0]                    \n",
      "                                                                 dense_5[9][0]                    \n",
      "__________________________________________________________________________________________________\n",
      "dot_2 (Dot)                     (None, 1, 64)        0           attention_weights[0][0]          \n",
      "                                                                 bidirectional_2[0][0]            \n",
      "                                                                 attention_weights[1][0]          \n",
      "                                                                 bidirectional_2[0][0]            \n",
      "                                                                 attention_weights[2][0]          \n",
      "                                                                 bidirectional_2[0][0]            \n",
      "                                                                 attention_weights[3][0]          \n",
      "                                                                 bidirectional_2[0][0]            \n"
     ]
    },
    {
     "name": "stdout",
     "output_type": "stream",
     "text": [
      "                                                                 attention_weights[4][0]          \n",
      "                                                                 bidirectional_2[0][0]            \n",
      "                                                                 attention_weights[5][0]          \n",
      "                                                                 bidirectional_2[0][0]            \n",
      "                                                                 attention_weights[6][0]          \n",
      "                                                                 bidirectional_2[0][0]            \n",
      "                                                                 attention_weights[7][0]          \n",
      "                                                                 bidirectional_2[0][0]            \n",
      "                                                                 attention_weights[8][0]          \n",
      "                                                                 bidirectional_2[0][0]            \n",
      "                                                                 attention_weights[9][0]          \n",
      "                                                                 bidirectional_2[0][0]            \n",
      "__________________________________________________________________________________________________\n",
      "c0 (InputLayer)                 (None, 64)           0                                            \n",
      "__________________________________________________________________________________________________\n",
      "lstm_3 (LSTM)                   [(None, 64), (None,  33024       dot_2[0][0]                      \n",
      "                                                                 s0[0][0]                         \n",
      "                                                                 c0[0][0]                         \n",
      "                                                                 dot_2[1][0]                      \n",
      "                                                                 lstm_3[0][0]                     \n",
      "                                                                 lstm_3[0][2]                     \n",
      "                                                                 dot_2[2][0]                      \n",
      "                                                                 lstm_3[1][0]                     \n",
      "                                                                 lstm_3[1][2]                     \n",
      "                                                                 dot_2[3][0]                      \n",
      "                                                                 lstm_3[2][0]                     \n",
      "                                                                 lstm_3[2][2]                     \n",
      "                                                                 dot_2[4][0]                      \n",
      "                                                                 lstm_3[3][0]                     \n",
      "                                                                 lstm_3[3][2]                     \n",
      "                                                                 dot_2[5][0]                      \n",
      "                                                                 lstm_3[4][0]                     \n",
      "                                                                 lstm_3[4][2]                     \n",
      "                                                                 dot_2[6][0]                      \n",
      "                                                                 lstm_3[5][0]                     \n",
      "                                                                 lstm_3[5][2]                     \n",
      "                                                                 dot_2[7][0]                      \n",
      "                                                                 lstm_3[6][0]                     \n",
      "                                                                 lstm_3[6][2]                     \n",
      "                                                                 dot_2[8][0]                      \n",
      "                                                                 lstm_3[7][0]                     \n",
      "                                                                 lstm_3[7][2]                     \n",
      "                                                                 dot_2[9][0]                      \n",
      "                                                                 lstm_3[8][0]                     \n",
      "                                                                 lstm_3[8][2]                     \n",
      "__________________________________________________________________________________________________\n",
      "dense_6 (Dense)                 (None, 11)           715         lstm_3[0][0]                     \n",
      "                                                                 lstm_3[1][0]                     \n",
      "                                                                 lstm_3[2][0]                     \n",
      "                                                                 lstm_3[3][0]                     \n",
      "                                                                 lstm_3[4][0]                     \n",
      "                                                                 lstm_3[5][0]                     \n",
      "                                                                 lstm_3[6][0]                     \n",
      "                                                                 lstm_3[7][0]                     \n",
      "                                                                 lstm_3[8][0]                     \n",
      "                                                                 lstm_3[9][0]                     \n",
      "==================================================================================================\n",
      "Total params: 52,960\n",
      "Trainable params: 52,960\n",
      "Non-trainable params: 0\n",
      "__________________________________________________________________________________________________\n"
     ]
    }
   ],
   "source": [
    "model.summary()"
   ]
  },
  {
   "cell_type": "markdown",
   "metadata": {},
   "source": [
    "Navigate through the output of `model.summary()` above. You can see that the layer named `attention_weights` outputs the `alphas` of shape (m, 30, 1) before `dot_2` computes the context vector for every time step $t = 0, \\ldots, T_y-1$. Lets get the activations from this layer.\n",
    "\n",
    "The function `attention_map()` pulls out the attention values from your model and plots them."
   ]
  },
  {
   "cell_type": "code",
   "execution_count": 38,
   "metadata": {
    "collapsed": true,
    "scrolled": false
   },
   "outputs": [],
   "source": [
    "# attention_map = plot_attention_map(model, human_vocab, inv_machine_vocab, \"Tuesday 09 Oct 1993\", num = 7, n_s = 64)"
   ]
  },
  {
   "cell_type": "markdown",
   "metadata": {},
   "source": [
    "On the generated plot you can observe the values of the attention weights for each character of the predicted output. Examine this plot and check that where the network is paying attention makes sense to you.\n",
    "\n",
    "In the date translation application, you will observe that most of the time attention helps predict the year, and hasn't much impact on predicting the day/month."
   ]
  },
  {
   "cell_type": "markdown",
   "metadata": {},
   "source": [
    "### Congratulations!\n",
    "\n",
    "\n",
    "You have come to the end of this assignment \n",
    "\n",
    "<font color='blue'> **Here's what you should remember from this notebook**:\n",
    "\n",
    "- Machine translation models can be used to map from one sequence to another. They are useful not just for translating human languages (like French->English) but also for tasks like date format translation. \n",
    "- An attention mechanism allows a network to focus on the most relevant parts of the input when producing a specific part of the output. \n",
    "- A network using an attention mechanism can translate from inputs of length $T_x$ to outputs of length $T_y$, where $T_x$ and $T_y$ can be different. \n",
    "- You can visualize attention weights $\\alpha^{\\langle t,t' \\rangle}$ to see what the network is paying attention to while generating each output."
   ]
  },
  {
   "cell_type": "markdown",
   "metadata": {},
   "source": [
    "Congratulations on finishing this assignment! You are now able to implement an attention model and use it to learn complex mappings from one sequence to another. "
   ]
  }
 ],
 "metadata": {
  "coursera": {
   "course_slug": "nlp-sequence-models",
   "graded_item_id": "n16CQ",
   "launcher_item_id": "npjGi"
  },
  "kernelspec": {
   "display_name": "Python 3",
   "language": "python",
   "name": "python3"
  },
  "language_info": {
   "codemirror_mode": {
    "name": "ipython",
    "version": 3
   },
   "file_extension": ".py",
   "mimetype": "text/x-python",
   "name": "python",
   "nbconvert_exporter": "python",
   "pygments_lexer": "ipython3",
   "version": "3.6.1"
  }
 },
 "nbformat": 4,
 "nbformat_minor": 2
}
