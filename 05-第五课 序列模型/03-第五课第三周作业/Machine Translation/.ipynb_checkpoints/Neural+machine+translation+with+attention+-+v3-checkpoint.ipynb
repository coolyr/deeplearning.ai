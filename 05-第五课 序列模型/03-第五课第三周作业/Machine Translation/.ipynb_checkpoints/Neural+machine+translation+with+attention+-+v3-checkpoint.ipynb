{
 "cells": [
  {
   "cell_type": "markdown",
   "metadata": {},
   "source": [
    "# Neural Machine Translation\n",
    "\n",
    "Welcome to your first programming assignment for this week! \n",
    "\n",
    "You will build a Neural Machine Translation (NMT) model to translate human readable dates (\"25th of June, 2009\") into machine readable dates (\"2009-06-25\"). You will do this using an attention model, one of the most sophisticated sequence to sequence models. \n",
    "\n",
    "This notebook was produced together with NVIDIA's Deep Learning Institute. \n",
    "\n",
    "Let's load all the packages you will need for this assignment."
   ]
  },
  {
   "cell_type": "code",
   "execution_count": 6,
   "metadata": {},
   "outputs": [],
   "source": [
    "from keras.layers import Bidirectional, Concatenate, Permute, Dot, Input, LSTM, Multiply\n",
    "from keras.layers import RepeatVector, Dense, Activation, Lambda\n",
    "from keras.optimizers import Adam\n",
    "from keras.utils import to_categorical\n",
    "from keras.models import load_model, Model\n",
    "import keras.backend as K\n",
    "import numpy as np\n",
    "\n",
    "from faker import Faker\n",
    "import random\n",
    "from tqdm import tqdm\n",
    "from babel.dates import format_date\n",
    "from nmt_utils import *\n",
    "import matplotlib.pyplot as plt\n",
    "%matplotlib inline"
   ]
  },
  {
   "cell_type": "markdown",
   "metadata": {},
   "source": [
    "## 1 - Translating human readable dates into machine readable dates\n",
    "\n",
    "The model you will build here could be used to translate from one language to another, such as translating from English to Hindi. However, language translation requires massive datasets and usually takes days of training on GPUs. To give you a place to experiment with these models even without using massive datasets, we will instead use a simpler \"date translation\" task. \n",
    "\n",
    "The network will input a date written in a variety of possible formats (*e.g. \"the 29th of August 1958\", \"03/30/1968\", \"24 JUNE 1987\"*) and translate them into standardized, machine readable dates (*e.g. \"1958-08-29\", \"1968-03-30\", \"1987-06-24\"*). We will have the network learn to output dates in the common machine-readable format YYYY-MM-DD. \n",
    "\n",
    "\n",
    "\n",
    "<!-- \n",
    "Take a look at [nmt_utils.py](./nmt_utils.py) to see all the formatting. Count and figure out how the formats work, you will need this knowledge later. !--> "
   ]
  },
  {
   "cell_type": "markdown",
   "metadata": {},
   "source": [
    "### 1.1 - Dataset\n",
    "\n",
    "We will train the model on a dataset of 10000 human readable dates and their equivalent, standardized, machine readable dates. Let's run the following cells to load the dataset and print some examples. "
   ]
  },
  {
   "cell_type": "code",
   "execution_count": 11,
   "metadata": {},
   "outputs": [
    {
     "name": "stderr",
     "output_type": "stream",
     "text": [
      "100%|█████████████████████████████████████████████████████████████████████████| 10000/10000 [00:00<00:00, 14390.57it/s]\n"
     ]
    }
   ],
   "source": [
    "m = 10000\n",
    "dataset, human_vocab, machine_vocab, inv_machine_vocab = load_dataset(m)"
   ]
  },
  {
   "cell_type": "code",
   "execution_count": 25,
   "metadata": {},
   "outputs": [
    {
     "name": "stdout",
     "output_type": "stream",
     "text": [
      "dataset[:5] [('thursday july 18 2013', '2013-07-18'), ('30 jun 1997', '1997-06-30'), ('8 december 1998', '1998-12-08'), ('monday july 16 1984', '1984-07-16'), ('30.01.94', '1994-01-30')]\n",
      "human_vocab =  {' ': 0, '.': 1, '/': 2, '0': 3, '1': 4, '2': 5, '3': 6, '4': 7, '5': 8, '6': 9, '7': 10, '8': 11, '9': 12, 'a': 13, 'b': 14, 'c': 15, 'd': 16, 'e': 17, 'f': 18, 'g': 19, 'h': 20, 'i': 21, 'j': 22, 'l': 23, 'm': 24, 'n': 25, 'o': 26, 'p': 27, 'r': 28, 's': 29, 't': 30, 'u': 31, 'v': 32, 'w': 33, 'y': 34, '<unk>': 35, '<pad>': 36}\n",
      "machine_vocab =  {'-': 0, '0': 1, '1': 2, '2': 3, '3': 4, '4': 5, '5': 6, '6': 7, '7': 8, '8': 9, '9': 10}\n",
      "inv_machine_vocab =  {0: '-', 1: '0', 2: '1', 3: '2', 4: '3', 5: '4', 6: '5', 7: '6', 8: '7', 9: '8', 10: '9'}\n"
     ]
    }
   ],
   "source": [
    "print(\"dataset[:5]\", dataset[:5])\n",
    "print(\"human_vocab = \", human_vocab)\n",
    "print(\"machine_vocab = \", machine_vocab)\n",
    "print(\"inv_machine_vocab = \", inv_machine_vocab)"
   ]
  },
  {
   "cell_type": "markdown",
   "metadata": {},
   "source": [
    "You've loaded:\n",
    "- `dataset`: a list of tuples of (human readable date, machine readable date)\n",
    "- `human_vocab`: a python dictionary mapping all characters used in the human readable dates to an integer-valued index \n",
    "- `machine_vocab`: a python dictionary mapping all characters used in machine readable dates to an integer-valued index. These indices are not necessarily consistent with `human_vocab`. \n",
    "- `inv_machine_vocab`: the inverse dictionary of `machine_vocab`, mapping from indices back to characters. \n",
    "\n",
    "Let's preprocess the data and map the raw text data into the index values. We will also use Tx=30 (which we assume is the maximum length of the human readable date; if we get a longer input, we would have to truncate it) and Ty=10 (since \"YYYY-MM-DD\" is 10 characters long). "
   ]
  },
  {
   "cell_type": "code",
   "execution_count": 26,
   "metadata": {},
   "outputs": [
    {
     "name": "stdout",
     "output_type": "stream",
     "text": [
      "X.shape: (10000, 30)\n",
      "Y.shape: (10000, 10)\n",
      "Xoh.shape: (10000, 30, 37)\n",
      "Yoh.shape: (10000, 10, 11)\n",
      "X[0] =  [30 20 31 28 29 16 13 34  0 22 31 23 34  0  4 11  0  5  3  4  6 36 36 36\n",
      " 36 36 36 36 36 36]\n",
      "Y[0] =  [3 1 2 4 0 1 8 0 2 9]\n",
      "Xoh[0] =  [[0. 0. 0. ... 0. 0. 0.]\n",
      " [0. 0. 0. ... 0. 0. 0.]\n",
      " [0. 0. 0. ... 0. 0. 0.]\n",
      " ...\n",
      " [0. 0. 0. ... 0. 0. 1.]\n",
      " [0. 0. 0. ... 0. 0. 1.]\n",
      " [0. 0. 0. ... 0. 0. 1.]]\n",
      "Yoh[0] =  [[0. 0. 0. 1. 0. 0. 0. 0. 0. 0. 0.]\n",
      " [0. 1. 0. 0. 0. 0. 0. 0. 0. 0. 0.]\n",
      " [0. 0. 1. 0. 0. 0. 0. 0. 0. 0. 0.]\n",
      " [0. 0. 0. 0. 1. 0. 0. 0. 0. 0. 0.]\n",
      " [1. 0. 0. 0. 0. 0. 0. 0. 0. 0. 0.]\n",
      " [0. 1. 0. 0. 0. 0. 0. 0. 0. 0. 0.]\n",
      " [0. 0. 0. 0. 0. 0. 0. 0. 1. 0. 0.]\n",
      " [1. 0. 0. 0. 0. 0. 0. 0. 0. 0. 0.]\n",
      " [0. 0. 1. 0. 0. 0. 0. 0. 0. 0. 0.]\n",
      " [0. 0. 0. 0. 0. 0. 0. 0. 0. 1. 0.]]\n"
     ]
    }
   ],
   "source": [
    "Tx = 30\n",
    "Ty = 10\n",
    "X, Y, Xoh, Yoh = preprocess_data(dataset, human_vocab, machine_vocab, Tx, Ty)\n",
    "\n",
    "print(\"X.shape:\", X.shape)\n",
    "print(\"Y.shape:\", Y.shape)\n",
    "print(\"Xoh.shape:\", Xoh.shape)\n",
    "print(\"Yoh.shape:\", Yoh.shape)\n",
    "\n",
    "print(\"X[0] = \", X[0])\n",
    "print(\"Y[0] = \", Y[0])\n",
    "print(\"Xoh[0] = \", Xoh[0])\n",
    "print(\"Yoh[0] = \", Yoh[0])"
   ]
  },
  {
   "cell_type": "markdown",
   "metadata": {},
   "source": [
    "You now have:\n",
    "- `X`: a processed version of the human readable dates in the training set, where each character is replaced by an index mapped to the character via `human_vocab`. Each date is further padded to $T_x$ values with a special character (< pad >). `X.shape = (m, Tx)`\n",
    "- `Y`: a processed version of the machine readable dates in the training set, where each character is replaced by the index it is mapped to in `machine_vocab`. You should have `Y.shape = (m, Ty)`. \n",
    "- `Xoh`: one-hot version of `X`, the \"1\" entry's index is mapped to the character thanks to `human_vocab`. `Xoh.shape = (m, Tx, len(human_vocab))`\n",
    "- `Yoh`: one-hot version of `Y`, the \"1\" entry's index is mapped to the character thanks to `machine_vocab`. `Yoh.shape = (m, Tx, len(machine_vocab))`. Here, `len(machine_vocab) = 11` since there are 11 characters ('-' as well as 0-9). \n"
   ]
  },
  {
   "cell_type": "markdown",
   "metadata": {},
   "source": [
    "Lets also look at some examples of preprocessed training examples. Feel free to play with `index` in the cell below to navigate the dataset and see how source/target dates are preprocessed. "
   ]
  },
  {
   "cell_type": "code",
   "execution_count": 27,
   "metadata": {},
   "outputs": [
    {
     "name": "stdout",
     "output_type": "stream",
     "text": [
      "Source date: thursday july 18 2013\n",
      "Target date: 2013-07-18\n",
      "\n",
      "Source after preprocessing (indices): [30 20 31 28 29 16 13 34  0 22 31 23 34  0  4 11  0  5  3  4  6 36 36 36\n",
      " 36 36 36 36 36 36]\n",
      "Target after preprocessing (indices): [3 1 2 4 0 1 8 0 2 9]\n",
      "\n",
      "Source after preprocessing (one-hot): [[0. 0. 0. ... 0. 0. 0.]\n",
      " [0. 0. 0. ... 0. 0. 0.]\n",
      " [0. 0. 0. ... 0. 0. 0.]\n",
      " ...\n",
      " [0. 0. 0. ... 0. 0. 1.]\n",
      " [0. 0. 0. ... 0. 0. 1.]\n",
      " [0. 0. 0. ... 0. 0. 1.]]\n",
      "Target after preprocessing (one-hot): [[0. 0. 0. 1. 0. 0. 0. 0. 0. 0. 0.]\n",
      " [0. 1. 0. 0. 0. 0. 0. 0. 0. 0. 0.]\n",
      " [0. 0. 1. 0. 0. 0. 0. 0. 0. 0. 0.]\n",
      " [0. 0. 0. 0. 1. 0. 0. 0. 0. 0. 0.]\n",
      " [1. 0. 0. 0. 0. 0. 0. 0. 0. 0. 0.]\n",
      " [0. 1. 0. 0. 0. 0. 0. 0. 0. 0. 0.]\n",
      " [0. 0. 0. 0. 0. 0. 0. 0. 1. 0. 0.]\n",
      " [1. 0. 0. 0. 0. 0. 0. 0. 0. 0. 0.]\n",
      " [0. 0. 1. 0. 0. 0. 0. 0. 0. 0. 0.]\n",
      " [0. 0. 0. 0. 0. 0. 0. 0. 0. 1. 0.]]\n"
     ]
    }
   ],
   "source": [
    "index = 0\n",
    "print(\"Source date:\", dataset[index][0])\n",
    "print(\"Target date:\", dataset[index][1])\n",
    "print()\n",
    "print(\"Source after preprocessing (indices):\", X[index])\n",
    "print(\"Target after preprocessing (indices):\", Y[index])\n",
    "print()\n",
    "print(\"Source after preprocessing (one-hot):\", Xoh[index])\n",
    "print(\"Target after preprocessing (one-hot):\", Yoh[index])"
   ]
  },
  {
   "cell_type": "markdown",
   "metadata": {},
   "source": [
    "## 2 - Neural machine translation with attention\n",
    "\n",
    "If you had to translate a book's paragraph from French to English, you would not read the whole paragraph, then close the book and translate. Even during the translation process, you would read/re-read and focus on the parts of the French paragraph corresponding to the parts of the English you are writing down. \n",
    "\n",
    "The attention mechanism tells a Neural Machine Translation model where it should pay attention to at any step. \n",
    "\n",
    "\n",
    "### 2.1 - Attention mechanism\n",
    "\n",
    "In this part, you will implement the attention mechanism presented in the lecture videos. Here is a figure to remind you how the model works. The diagram on the left shows the attention model. The diagram on the right shows what one \"Attention\" step does to calculate the attention variables $\\alpha^{\\langle t, t' \\rangle}$, which are used to compute the context variable $context^{\\langle t \\rangle}$ for each timestep in the output ($t=1, \\ldots, T_y$). \n",
    "\n",
    "<table>\n",
    "<td> \n",
    "<img src=\"images/attn_model.png\" style=\"width:500;height:500px;\"> <br>\n",
    "</td> \n",
    "<td> \n",
    "<img src=\"images/attn_mechanism.png\" style=\"width:500;height:500px;\"> <br>\n",
    "</td> \n",
    "</table>\n",
    "<caption><center> **Figure 1**: Neural machine translation with attention</center></caption>\n"
   ]
  },
  {
   "cell_type": "markdown",
   "metadata": {},
   "source": [
    "\n",
    "Here are some properties of the model that you may notice: \n",
    "\n",
    "- There are two separate LSTMs in this model (see diagram on the left). Because the one at the bottom of the picture is a Bi-directional LSTM and comes *before* the attention mechanism, we will call it *pre-attention* Bi-LSTM. The LSTM at the top of the diagram comes *after* the attention mechanism, so we will call it the *post-attention* LSTM. The pre-attention Bi-LSTM goes through $T_x$ time steps; the post-attention LSTM goes through $T_y$ time steps. \n",
    "\n",
    "- The post-attention LSTM passes $s^{\\langle t \\rangle}, c^{\\langle t \\rangle}$ from one time step to the next. In the lecture videos, we were using only a basic RNN for the post-activation sequence model, so the state captured by the RNN output activations $s^{\\langle t\\rangle}$. But since we are using an LSTM here, the LSTM has both the output activation $s^{\\langle t\\rangle}$ and the hidden cell state $c^{\\langle t\\rangle}$. However, unlike previous text generation examples (such as Dinosaurus in week 1), in this model the post-activation LSTM at time $t$ does will not take the specific generated $y^{\\langle t-1 \\rangle}$ as input; it only takes $s^{\\langle t\\rangle}$ and $c^{\\langle t\\rangle}$ as input. We have designed the model this way, because (unlike language generation where adjacent characters are highly correlated) there isn't as strong a dependency between the previous character and the next character in a YYYY-MM-DD date. \n",
    "\n",
    "- We use $a^{\\langle t \\rangle} = [\\overrightarrow{a}^{\\langle t \\rangle}; \\overleftarrow{a}^{\\langle t \\rangle}]$ to represent the concatenation of the activations of both the forward-direction and backward-directions of the pre-attention Bi-LSTM. \n",
    "\n",
    "- The diagram on the right uses a `RepeatVector` node to copy $s^{\\langle t-1 \\rangle}$'s value $T_x$ times, and then `Concatenation` to concatenate $s^{\\langle t-1 \\rangle}$ and $a^{\\langle t \\rangle}$ to compute $e^{\\langle t, t'}$, which is then passed through a softmax to compute $\\alpha^{\\langle t, t' \\rangle}$. We'll explain how to use `RepeatVector` and `Concatenation` in Keras below. \n",
    "\n",
    "Lets implement this model. You will start by implementing two functions: `one_step_attention()` and `model()`.\n",
    "\n",
    "**1) `one_step_attention()`**: At step $t$, given all the hidden states of the Bi-LSTM ($[a^{<1>},a^{<2>}, ..., a^{<T_x>}]$) and the previous hidden state of the second LSTM ($s^{<t-1>}$), `one_step_attention()` will compute the attention weights ($[\\alpha^{<t,1>},\\alpha^{<t,2>}, ..., \\alpha^{<t,T_x>}]$) and output the context vector (see Figure  1 (right) for details):\n",
    "$$context^{<t>} = \\sum_{t' = 0}^{T_x} \\alpha^{<t,t'>}a^{<t'>}\\tag{1}$$ \n",
    "\n",
    "Note that we are denoting the attention in this notebook $context^{\\langle t \\rangle}$. In the lecture videos, the context was denoted $c^{\\langle t \\rangle}$, but here we are calling it $context^{\\langle t \\rangle}$ to avoid confusion with the (post-attention) LSTM's internal memory cell variable, which is sometimes also denoted $c^{\\langle t \\rangle}$. \n",
    "  \n",
    "**2) `model()`**: Implements the entire model. It first runs the input through a Bi-LSTM to get back $[a^{<1>},a^{<2>}, ..., a^{<T_x>}]$. Then, it calls `one_step_attention()` $T_y$ times (`for` loop). At each iteration of this loop, it gives the computed context vector $c^{<t>}$ to the second LSTM, and runs the output of the LSTM through a dense layer with softmax activation to generate a prediction $\\hat{y}^{<t>}$. \n",
    "\n",
    "\n",
    "\n",
    "**Exercise**: Implement `one_step_attention()`. The function `model()` will call the layers in `one_step_attention()` $T_y$ using a for-loop, and it is important that all $T_y$ copies have the same weights. I.e., it should not re-initiaiize the weights every time. In other words, all $T_y$ steps should have shared weights. Here's how you can implement layers with shareable weights in Keras:\n",
    "1. Define the layer objects (as global variables for examples).\n",
    "2. Call these objects when propagating the input.\n",
    "\n",
    "We have defined the layers you need as global variables. Please run the following cells to create them. Please check the Keras documentation to make sure you understand what these layers are: [RepeatVector()](https://keras.io/layers/core/#repeatvector), [Concatenate()](https://keras.io/layers/merge/#concatenate), [Dense()](https://keras.io/layers/core/#dense), [Activation()](https://keras.io/layers/core/#activation), [Dot()](https://keras.io/layers/merge/#dot)."
   ]
  },
  {
   "cell_type": "code",
   "execution_count": 30,
   "metadata": {
    "collapsed": true
   },
   "outputs": [],
   "source": [
    "# Defined shared layers as global variables\n",
    "repeator = RepeatVector(Tx)\n",
    "concatenator = Concatenate(axis=-1)\n",
    "densor1 = Dense(10, activation = \"tanh\")\n",
    "densor2 = Dense(1, activation = \"relu\")\n",
    "activator = Activation(softmax, name='attention_weights') # We are using a custom softmax(axis = 1) loaded in this notebook\n",
    "dotor = Dot(axes = 1)"
   ]
  },
  {
   "cell_type": "markdown",
   "metadata": {},
   "source": [
    "Now you can use these layers to implement `one_step_attention()`. In order to propagate a Keras tensor object X through one of these layers, use `layer(X)` (or `layer([X,Y])` if it requires multiple inputs.), e.g. `densor(X)` will propagate X through the `Dense(1)` layer defined above."
   ]
  },
  {
   "cell_type": "code",
   "execution_count": 46,
   "metadata": {
    "collapsed": true
   },
   "outputs": [],
   "source": [
    "# GRADED FUNCTION: one_step_attention\n",
    "\n",
    "def one_step_attention(a, s_prev):\n",
    "    \"\"\"\n",
    "    Performs one step of attention: Outputs a context vector computed as a dot product of the attention weights\n",
    "    \"alphas\" and the hidden states \"a\" of the Bi-LSTM.\n",
    "    \n",
    "    Arguments:\n",
    "    a -- hidden state output of the Bi-LSTM, numpy-array of shape (m, Tx, 2*n_a)\n",
    "    s_prev -- previous hidden state of the (post-attention) LSTM, numpy-array of shape (m, n_s)\n",
    "    \n",
    "    Returns:\n",
    "    context -- context vector, input of the next (post-attetion) LSTM cell\n",
    "    \"\"\"\n",
    "#     s_prev.shape =  (?, 30, 64)\n",
    "#     concat.shape =  (?, 30, 128)\n",
    "#     e.shape =  (?, 30, 10)\n",
    "#     energies.shape =  (?, 30, 1)\n",
    "#     a.shape =  (?, ?, 64)\n",
    "#     alphas.shape =  (?, 30, 1)\n",
    "#     context.shape =  (?, 1, 64)\n",
    "    \n",
    "    \n",
    "    ### START CODE HERE ###\n",
    "    # Use repeator to repeat s_prev to be of shape (m, Tx, n_s) so that you can concatenate it with all hidden states \"a\" (≈ 1 line)\n",
    "    s_prev = repeator(s_prev) #(m, Tx, n_s)\n",
    "#     print(\"s_prev.shape = \", s_prev.shape)\n",
    "    # Use concatenator to concatenate a and s_prev on the last axis (≈ 1 line)\n",
    "    concat = concatenator([s_prev, a]) #(m, Tx, n_s+2*n_a)\n",
    "#     print(\"concat.shape = \", concat.shape)\n",
    "    # Use densor1 to propagate concat through a small fully-connected neural network to compute the \"intermediate energies\" variable e. (≈1 lines)\n",
    "    e = densor1(concat)  # output:10维特向  tanh激活函数  (m, Tx, 10)\n",
    "#     print(\"e.shape = \", e.shape)\n",
    "    # Use densor2 to propagate e through a small fully-connected neural network to compute the \"energies\" variable energies. (≈1 lines)\n",
    "    energies = densor2(e) # output:1维特向  relu激活函数  (m, Tx, 1)\n",
    "#     print(\"energies.shape = \", energies.shape)\n",
    "    # Use \"activator\" on \"energies\" to compute the attention weights \"alphas\" (≈ 1 line)\n",
    "    alphas = activator(energies) # softmax (m, Tx, 1)\n",
    "#     print(\"alphas.shape = \", alphas.shape)\n",
    "#     print(\"a.shape = \", a.shape) # (m, Tx, 2*n_a)\n",
    "    # Use dotor together with \"alphas\" and \"a\" to compute the context vector to be given to the next (post-attention) LSTM-cell (≈ 1 line)\n",
    "    context = dotor([alphas, a]) # 点成求和 (m, 1, n_s)  ##?维度有问题？\n",
    "#     print(\"context.shape = \", context.shape)\n",
    "    ### END CODE HERE ###\n",
    "    \n",
    "    return context"
   ]
  },
  {
   "cell_type": "markdown",
   "metadata": {},
   "source": [
    "You will be able to check the expected output of `one_step_attention()` after you've coded the `model()` function."
   ]
  },
  {
   "cell_type": "markdown",
   "metadata": {},
   "source": [
    "**Exercise**: Implement `model()` as explained in figure 2 and the text above. Again, we have defined global layers that will share weights to be used in `model()`."
   ]
  },
  {
   "cell_type": "code",
   "execution_count": 47,
   "metadata": {
    "collapsed": true
   },
   "outputs": [],
   "source": [
    "n_a = 32\n",
    "n_s = 64\n",
    "post_activation_LSTM_cell = LSTM(n_s, return_state = True)\n",
    "output_layer = Dense(len(machine_vocab), activation=softmax)"
   ]
  },
  {
   "cell_type": "markdown",
   "metadata": {},
   "source": [
    "Now you can use these layers $T_y$ times in a `for` loop to generate the outputs, and their parameters will not be reinitialized. You will have to carry out the following steps: \n",
    "\n",
    "1. Propagate the input into a [Bidirectional](https://keras.io/layers/wrappers/#bidirectional) [LSTM](https://keras.io/layers/recurrent/#lstm)\n",
    "2. Iterate for $t = 0, \\dots, T_y-1$: \n",
    "    1. Call `one_step_attention()` on $[\\alpha^{<t,1>},\\alpha^{<t,2>}, ..., \\alpha^{<t,T_x>}]$ and $s^{<t-1>}$ to get the context vector $context^{<t>}$.\n",
    "    2. Give $context^{<t>}$ to the post-attention LSTM cell. Remember pass in the previous hidden-state $s^{\\langle t-1\\rangle}$ and cell-states $c^{\\langle t-1\\rangle}$ of this LSTM using `initial_state= [previous hidden state, previous cell state]`. Get back the new hidden state $s^{<t>}$ and the new cell state $c^{<t>}$.\n",
    "    3. Apply a softmax layer to $s^{<t>}$, get the output. \n",
    "    4. Save the output by adding it to the list of outputs.\n",
    "\n",
    "3. Create your Keras model instance, it should have three inputs (\"inputs\", $s^{<0>}$ and $c^{<0>}$) and output the list of \"outputs\"."
   ]
  },
  {
   "cell_type": "code",
   "execution_count": 48,
   "metadata": {
    "collapsed": true
   },
   "outputs": [],
   "source": [
    "# GRADED FUNCTION: model\n",
    "\n",
    "def model(Tx, Ty, n_a, n_s, human_vocab_size, machine_vocab_size):\n",
    "    \"\"\"\n",
    "    Arguments:\n",
    "    Tx -- length of the input sequence\n",
    "    Ty -- length of the output sequence\n",
    "    n_a -- hidden state size of the Bi-LSTM\n",
    "    n_s -- hidden state size of the post-attention LSTM\n",
    "    human_vocab_size -- size of the python dictionary \"human_vocab\"\n",
    "    machine_vocab_size -- size of the python dictionary \"machine_vocab\"\n",
    "\n",
    "    Returns:\n",
    "    model -- Keras model instance\n",
    "    \"\"\"\n",
    "    \n",
    "    # Define the inputs of your model with a shape (Tx,)\n",
    "    # Define s0 and c0, initial hidden state for the decoder LSTM of shape (n_s,)\n",
    "    X = Input(shape=(Tx, human_vocab_size))\n",
    "    s0 = Input(shape=(n_s,), name='s0')\n",
    "    c0 = Input(shape=(n_s,), name='c0')\n",
    "    s = s0\n",
    "    c = c0\n",
    "    \n",
    "    # Initialize empty list of outputs\n",
    "    outputs = []\n",
    "    \n",
    "    ### START CODE HERE ###\n",
    "    \n",
    "    # Step 1: Define your pre-attention Bi-LSTM. Remember to use return_sequences=True. (≈ 1 line)\n",
    "    a = Bidirectional(LSTM(n_a, return_sequences=True),input_shape=(m, Tx, n_a*2))(X)\n",
    "#     print(\"a.shape = \", a.shape)  #a.shape =  (?, ?, 64)\n",
    "    # Step 2: Iterate for Ty steps\n",
    "    for t in range(Ty):\n",
    "    \n",
    "        # Step 2.A: Perform one step of the attention mechanism to get back the context vector at step t (≈ 1 line)\n",
    "        context = one_step_attention(a, s)\n",
    "        \n",
    "        # Step 2.B: Apply the post-attention LSTM cell to the \"context\" vector.\n",
    "        # Don't forget to pass: initial_state = [hidden state, cell state] (≈ 1 line)\n",
    "        s, _, c = post_activation_LSTM_cell(context, initial_state = [s, c] )\n",
    "        \n",
    "        # Step 2.C: Apply Dense layer to the hidden state output of the post-attention LSTM (≈ 1 line)\n",
    "        out = output_layer(s)\n",
    "        \n",
    "        # Step 2.D: Append \"out\" to the \"outputs\" list (≈ 1 line)\n",
    "        outputs.append(out)\n",
    "    \n",
    "    # Step 3: Create model instance taking three inputs and returning the list of outputs. (≈ 1 line)\n",
    "    model = Model(inputs=[X,s0,c0], outputs=outputs)\n",
    "    \n",
    "    ### END CODE HERE ###\n",
    "    \n",
    "    return model"
   ]
  },
  {
   "cell_type": "markdown",
   "metadata": {},
   "source": [
    "Run the following cell to create your model."
   ]
  },
  {
   "cell_type": "code",
   "execution_count": 49,
   "metadata": {},
   "outputs": [],
   "source": [
    "model = model(Tx, Ty, n_a, n_s, len(human_vocab), len(machine_vocab))"
   ]
  },
  {
   "cell_type": "markdown",
   "metadata": {},
   "source": [
    "Let's get a summary of the model to check if it matches the expected output."
   ]
  },
  {
   "cell_type": "code",
   "execution_count": 50,
   "metadata": {},
   "outputs": [
    {
     "name": "stdout",
     "output_type": "stream",
     "text": [
      "__________________________________________________________________________________________________\n",
      "Layer (type)                    Output Shape         Param #     Connected to                     \n",
      "==================================================================================================\n",
      "s0 (InputLayer)                 (None, 64)           0                                            \n",
      "__________________________________________________________________________________________________\n",
      "input_5 (InputLayer)            (None, 30, 37)       0                                            \n",
      "__________________________________________________________________________________________________\n",
      "repeat_vector_3 (RepeatVector)  (None, 30, 64)       0           s0[0][0]                         \n",
      "                                                                 lstm_8[0][0]                     \n",
      "                                                                 lstm_8[1][0]                     \n",
      "                                                                 lstm_8[2][0]                     \n",
      "                                                                 lstm_8[3][0]                     \n",
      "                                                                 lstm_8[4][0]                     \n",
      "                                                                 lstm_8[5][0]                     \n",
      "                                                                 lstm_8[6][0]                     \n",
      "                                                                 lstm_8[7][0]                     \n",
      "                                                                 lstm_8[8][0]                     \n",
      "__________________________________________________________________________________________________\n",
      "bidirectional_5 (Bidirectional) (None, 30, 64)       17920       input_5[0][0]                    \n",
      "__________________________________________________________________________________________________\n",
      "concatenate_3 (Concatenate)     (None, 30, 128)      0           repeat_vector_3[40][0]           \n",
      "                                                                 bidirectional_5[0][0]            \n",
      "                                                                 repeat_vector_3[41][0]           \n",
      "                                                                 bidirectional_5[0][0]            \n",
      "                                                                 repeat_vector_3[42][0]           \n",
      "                                                                 bidirectional_5[0][0]            \n",
      "                                                                 repeat_vector_3[43][0]           \n",
      "                                                                 bidirectional_5[0][0]            \n",
      "                                                                 repeat_vector_3[44][0]           \n",
      "                                                                 bidirectional_5[0][0]            \n",
      "                                                                 repeat_vector_3[45][0]           \n",
      "                                                                 bidirectional_5[0][0]            \n",
      "                                                                 repeat_vector_3[46][0]           \n",
      "                                                                 bidirectional_5[0][0]            \n",
      "                                                                 repeat_vector_3[47][0]           \n",
      "                                                                 bidirectional_5[0][0]            \n",
      "                                                                 repeat_vector_3[48][0]           \n",
      "                                                                 bidirectional_5[0][0]            \n",
      "                                                                 repeat_vector_3[49][0]           \n",
      "                                                                 bidirectional_5[0][0]            \n",
      "__________________________________________________________________________________________________\n",
      "dense_5 (Dense)                 (None, 30, 10)       1290        concatenate_3[40][0]             \n",
      "                                                                 concatenate_3[41][0]             \n",
      "                                                                 concatenate_3[42][0]             \n",
      "                                                                 concatenate_3[43][0]             \n",
      "                                                                 concatenate_3[44][0]             \n",
      "                                                                 concatenate_3[45][0]             \n",
      "                                                                 concatenate_3[46][0]             \n",
      "                                                                 concatenate_3[47][0]             \n",
      "                                                                 concatenate_3[48][0]             \n",
      "                                                                 concatenate_3[49][0]             \n",
      "__________________________________________________________________________________________________\n",
      "dense_6 (Dense)                 (None, 30, 1)        11          dense_5[40][0]                   \n",
      "                                                                 dense_5[41][0]                   \n",
      "                                                                 dense_5[42][0]                   \n",
      "                                                                 dense_5[43][0]                   \n",
      "                                                                 dense_5[44][0]                   \n",
      "                                                                 dense_5[45][0]                   \n",
      "                                                                 dense_5[46][0]                   \n",
      "                                                                 dense_5[47][0]                   \n",
      "                                                                 dense_5[48][0]                   \n",
      "                                                                 dense_5[49][0]                   \n",
      "__________________________________________________________________________________________________\n",
      "attention_weights (Activation)  (None, 30, 1)        0           dense_6[40][0]                   \n",
      "                                                                 dense_6[41][0]                   \n",
      "                                                                 dense_6[42][0]                   \n",
      "                                                                 dense_6[43][0]                   \n",
      "                                                                 dense_6[44][0]                   \n",
      "                                                                 dense_6[45][0]                   \n",
      "                                                                 dense_6[46][0]                   \n",
      "                                                                 dense_6[47][0]                   \n",
      "                                                                 dense_6[48][0]                   \n",
      "                                                                 dense_6[49][0]                   \n",
      "__________________________________________________________________________________________________\n",
      "dot_3 (Dot)                     (None, 1, 64)        0           attention_weights[40][0]         \n",
      "                                                                 bidirectional_5[0][0]            \n",
      "                                                                 attention_weights[41][0]         \n",
      "                                                                 bidirectional_5[0][0]            \n",
      "                                                                 attention_weights[42][0]         \n",
      "                                                                 bidirectional_5[0][0]            \n",
      "                                                                 attention_weights[43][0]         \n",
      "                                                                 bidirectional_5[0][0]            \n"
     ]
    },
    {
     "name": "stdout",
     "output_type": "stream",
     "text": [
      "                                                                 attention_weights[44][0]         \n",
      "                                                                 bidirectional_5[0][0]            \n",
      "                                                                 attention_weights[45][0]         \n",
      "                                                                 bidirectional_5[0][0]            \n",
      "                                                                 attention_weights[46][0]         \n",
      "                                                                 bidirectional_5[0][0]            \n",
      "                                                                 attention_weights[47][0]         \n",
      "                                                                 bidirectional_5[0][0]            \n",
      "                                                                 attention_weights[48][0]         \n",
      "                                                                 bidirectional_5[0][0]            \n",
      "                                                                 attention_weights[49][0]         \n",
      "                                                                 bidirectional_5[0][0]            \n",
      "__________________________________________________________________________________________________\n",
      "c0 (InputLayer)                 (None, 64)           0                                            \n",
      "__________________________________________________________________________________________________\n",
      "lstm_8 (LSTM)                   [(None, 64), (None,  33024       dot_3[40][0]                     \n",
      "                                                                 s0[0][0]                         \n",
      "                                                                 c0[0][0]                         \n",
      "                                                                 dot_3[41][0]                     \n",
      "                                                                 lstm_8[0][0]                     \n",
      "                                                                 lstm_8[0][2]                     \n",
      "                                                                 dot_3[42][0]                     \n",
      "                                                                 lstm_8[1][0]                     \n",
      "                                                                 lstm_8[1][2]                     \n",
      "                                                                 dot_3[43][0]                     \n",
      "                                                                 lstm_8[2][0]                     \n",
      "                                                                 lstm_8[2][2]                     \n",
      "                                                                 dot_3[44][0]                     \n",
      "                                                                 lstm_8[3][0]                     \n",
      "                                                                 lstm_8[3][2]                     \n",
      "                                                                 dot_3[45][0]                     \n",
      "                                                                 lstm_8[4][0]                     \n",
      "                                                                 lstm_8[4][2]                     \n",
      "                                                                 dot_3[46][0]                     \n",
      "                                                                 lstm_8[5][0]                     \n",
      "                                                                 lstm_8[5][2]                     \n",
      "                                                                 dot_3[47][0]                     \n",
      "                                                                 lstm_8[6][0]                     \n",
      "                                                                 lstm_8[6][2]                     \n",
      "                                                                 dot_3[48][0]                     \n",
      "                                                                 lstm_8[7][0]                     \n",
      "                                                                 lstm_8[7][2]                     \n",
      "                                                                 dot_3[49][0]                     \n",
      "                                                                 lstm_8[8][0]                     \n",
      "                                                                 lstm_8[8][2]                     \n",
      "__________________________________________________________________________________________________\n",
      "dense_10 (Dense)                (None, 11)           715         lstm_8[0][0]                     \n",
      "                                                                 lstm_8[1][0]                     \n",
      "                                                                 lstm_8[2][0]                     \n",
      "                                                                 lstm_8[3][0]                     \n",
      "                                                                 lstm_8[4][0]                     \n",
      "                                                                 lstm_8[5][0]                     \n",
      "                                                                 lstm_8[6][0]                     \n",
      "                                                                 lstm_8[7][0]                     \n",
      "                                                                 lstm_8[8][0]                     \n",
      "                                                                 lstm_8[9][0]                     \n",
      "==================================================================================================\n",
      "Total params: 52,960\n",
      "Trainable params: 52,960\n",
      "Non-trainable params: 0\n",
      "__________________________________________________________________________________________________\n"
     ]
    }
   ],
   "source": [
    "model.summary()"
   ]
  },
  {
   "cell_type": "markdown",
   "metadata": {},
   "source": [
    "**Expected Output**:\n",
    "\n",
    "Here is the summary you should see\n",
    "<table>\n",
    "    <tr>\n",
    "        <td>\n",
    "            **Total params:**\n",
    "        </td>\n",
    "        <td>\n",
    "         185,484\n",
    "        </td>\n",
    "    </tr>\n",
    "        <tr>\n",
    "        <td>\n",
    "            **Trainable params:**\n",
    "        </td>\n",
    "        <td>\n",
    "         185,484\n",
    "        </td>\n",
    "    </tr>\n",
    "            <tr>\n",
    "        <td>\n",
    "            **Non-trainable params:**\n",
    "        </td>\n",
    "        <td>\n",
    "         0\n",
    "        </td>\n",
    "    </tr>\n",
    "                    <tr>\n",
    "        <td>\n",
    "            **bidirectional_1's output shape **\n",
    "        </td>\n",
    "        <td>\n",
    "         (None, 30, 128)  \n",
    "        </td>\n",
    "    </tr>\n",
    "    <tr>\n",
    "        <td>\n",
    "            **repeat_vector_1's output shape **\n",
    "        </td>\n",
    "        <td>\n",
    "         (None, 30, 128)  \n",
    "        </td>\n",
    "    </tr>\n",
    "                <tr>\n",
    "        <td>\n",
    "            **concatenate_1's output shape **\n",
    "        </td>\n",
    "        <td>\n",
    "         (None, 30, 256) \n",
    "        </td>\n",
    "    </tr>\n",
    "            <tr>\n",
    "        <td>\n",
    "            **attention_weights's output shape **\n",
    "        </td>\n",
    "        <td>\n",
    "         (None, 30, 1)  \n",
    "        </td>\n",
    "    </tr>\n",
    "        <tr>\n",
    "        <td>\n",
    "            **dot_1's output shape **\n",
    "        </td>\n",
    "        <td>\n",
    "         (None, 1, 128) \n",
    "        </td>\n",
    "    </tr>\n",
    "           <tr>\n",
    "        <td>\n",
    "            **dense_2's output shape **\n",
    "        </td>\n",
    "        <td>\n",
    "         (None, 11) \n",
    "        </td>\n",
    "    </tr>\n",
    "</table>\n"
   ]
  },
  {
   "cell_type": "markdown",
   "metadata": {},
   "source": [
    "As usual, after creating your model in Keras, you need to compile it and define what loss, optimizer and metrics your are want to use. Compile your model using `categorical_crossentropy` loss, a custom [Adam](https://keras.io/optimizers/#adam) [optimizer](https://keras.io/optimizers/#usage-of-optimizers) (`learning rate = 0.005`, $\\beta_1 = 0.9$, $\\beta_2 = 0.999$, `decay = 0.01`)  and `['accuracy']` metrics:"
   ]
  },
  {
   "cell_type": "code",
   "execution_count": 54,
   "metadata": {},
   "outputs": [],
   "source": [
    "### START CODE HERE ### (≈2 lines)\n",
    "opt = Adam(lr=0.005, beta_1=0.9, beta_2=0.999,decay=0.01)\n",
    "model.compile(loss='categorical_crossentropy', optimizer=opt,metrics=['accuracy'])\n",
    "### END CODE HERE ###"
   ]
  },
  {
   "cell_type": "markdown",
   "metadata": {},
   "source": [
    "The last step is to define all your inputs and outputs to fit the model:\n",
    "- You already have X of shape $(m = 10000, T_x = 30)$ containing the training examples.\n",
    "- You need to create `s0` and `c0` to initialize your `post_activation_LSTM_cell` with 0s.\n",
    "- Given the `model()` you coded, you need the \"outputs\" to be a list of 11 elements of shape (m, T_y). So that: `outputs[i][0], ..., outputs[i][Ty]` represent the true labels (characters) corresponding to the $i^{th}$ training example (`X[i]`). More generally, `outputs[i][j]` is the true label of the $j^{th}$ character in the $i^{th}$ training example."
   ]
  },
  {
   "cell_type": "code",
   "execution_count": 56,
   "metadata": {
    "collapsed": true
   },
   "outputs": [],
   "source": [
    "s0 = np.zeros((m, n_s))\n",
    "c0 = np.zeros((m, n_s))\n",
    "outputs = list(Yoh.swapaxes(0,1))"
   ]
  },
  {
   "cell_type": "markdown",
   "metadata": {},
   "source": [
    "Let's now fit the model and run it for one epoch."
   ]
  },
  {
   "cell_type": "code",
   "execution_count": 57,
   "metadata": {},
   "outputs": [
    {
     "name": "stdout",
     "output_type": "stream",
     "text": [
      "Epoch 1/1\n"
     ]
    },
    {
     "name": "stdout",
     "output_type": "stream",
     "text": [
      " 2800/10000 [=======>......................] - ETA: 23:01 - loss: 23.9444 - dense_10_loss: 2.4009 - dense_10_acc: 0.0000e+00 - dense_10_acc_1: 0.3600 - dense_10_acc_2: 0.2900 - dense_10_acc_3: 0.1200 - dense_10_acc_4: 0.0000e+00 - dense_10_acc_5: 0.4900 - dense_10_acc_6: 0.1100 - dense_10_acc_7: 0.0000e+00 - dense_10_acc_8: 0.2300 - dense_10_acc_9: 0.110 - ETA: 11:31 - loss: 23.7209 - dense_10_loss: 2.4174 - dense_10_acc: 0.0100 - dense_10_acc_1: 0.3750 - dense_10_acc_2: 0.2200 - dense_10_acc_3: 0.0750 - dense_10_acc_4: 0.4550 - dense_10_acc_5: 0.2550 - dense_10_acc_6: 0.0550 - dense_10_acc_7: 0.4950 - dense_10_acc_8: 0.1150 - dense_10_acc_9: 0.0550            - ETA: 7:41 - loss: 23.4699 - dense_10_loss: 2.4213 - dense_10_acc: 0.0067 - dense_10_acc_1: 0.2500 - dense_10_acc_2: 0.1467 - dense_10_acc_3: 0.0500 - dense_10_acc_4: 0.6367 - dense_10_acc_5: 0.1700 - dense_10_acc_6: 0.0367 - dense_10_acc_7: 0.6633 - dense_10_acc_8: 0.0767 - dense_10_acc_9: 0.036 - ETA: 5:47 - loss: 23.1901 - dense_10_loss: 2.4680 - dense_10_acc: 0.0050 - dense_10_acc_1: 0.1875 - dense_10_acc_2: 0.1100 - dense_10_acc_3: 0.0375 - dense_10_acc_4: 0.7275 - dense_10_acc_5: 0.1275 - dense_10_acc_6: 0.0275 - dense_10_acc_7: 0.7475 - dense_10_acc_8: 0.0575 - dense_10_acc_9: 0.02 - ETA: 4:37 - loss: 22.9390 - dense_10_loss: 2.5908 - dense_10_acc: 0.0040 - dense_10_acc_1: 0.1500 - dense_10_acc_2: 0.0880 - dense_10_acc_3: 0.0300 - dense_10_acc_4: 0.7820 - dense_10_acc_5: 0.1020 - dense_10_acc_6: 0.0220 - dense_10_acc_7: 0.7980 - dense_10_acc_8: 0.0460 - dense_10_acc_9: 0.02 - ETA: 3:51 - loss: 22.7954 - dense_10_loss: 2.7059 - dense_10_acc: 0.0033 - dense_10_acc_1: 0.1250 - dense_10_acc_2: 0.0733 - dense_10_acc_3: 0.0250 - dense_10_acc_4: 0.8183 - dense_10_acc_5: 0.0850 - dense_10_acc_6: 0.0183 - dense_10_acc_7: 0.8317 - dense_10_acc_8: 0.0383 - dense_10_acc_9: 0.01 - ETA: 3:17 - loss: 22.7116 - dense_10_loss: 2.7968 - dense_10_acc: 0.0029 - dense_10_acc_1: 0.1243 - dense_10_acc_2: 0.0629 - dense_10_acc_3: 0.0214 - dense_10_acc_4: 0.8443 - dense_10_acc_5: 0.0729 - dense_10_acc_6: 0.0157 - dense_10_acc_7: 0.8557 - dense_10_acc_8: 0.0329 - dense_10_acc_9: 0.01 - ETA: 2:52 - loss: 22.5894 - dense_10_loss: 2.8393 - dense_10_acc: 0.0025 - dense_10_acc_1: 0.1375 - dense_10_acc_2: 0.0575 - dense_10_acc_3: 0.0187 - dense_10_acc_4: 0.8638 - dense_10_acc_5: 0.0638 - dense_10_acc_6: 0.0137 - dense_10_acc_7: 0.8738 - dense_10_acc_8: 0.0288 - dense_10_acc_9: 0.01 - ETA: 2:33 - loss: 22.4701 - dense_10_loss: 2.8515 - dense_10_acc: 0.0022 - dense_10_acc_1: 0.1344 - dense_10_acc_2: 0.0511 - dense_10_acc_3: 0.0167 - dense_10_acc_4: 0.8789 - dense_10_acc_5: 0.0567 - dense_10_acc_6: 0.0122 - dense_10_acc_7: 0.8878 - dense_10_acc_8: 0.0256 - dense_10_acc_9: 0.01 - ETA: 2:17 - loss: 22.3930 - dense_10_loss: 2.8502 - dense_10_acc: 0.0020 - dense_10_acc_1: 0.1220 - dense_10_acc_2: 0.0460 - dense_10_acc_3: 0.0150 - dense_10_acc_4: 0.8910 - dense_10_acc_5: 0.0510 - dense_10_acc_6: 0.0110 - dense_10_acc_7: 0.8990 - dense_10_acc_8: 0.0230 - dense_10_acc_9: 0.01 - ETA: 2:04 - loss: 22.3282 - dense_10_loss: 2.8439 - dense_10_acc: 0.0018 - dense_10_acc_1: 0.1109 - dense_10_acc_2: 0.0418 - dense_10_acc_3: 0.0136 - dense_10_acc_4: 0.9009 - dense_10_acc_5: 0.0464 - dense_10_acc_6: 0.0100 - dense_10_acc_7: 0.9082 - dense_10_acc_8: 0.0209 - dense_10_acc_9: 0.01 - ETA: 1:54 - loss: 22.2697 - dense_10_loss: 2.8363 - dense_10_acc: 0.0017 - dense_10_acc_1: 0.1017 - dense_10_acc_2: 0.0383 - dense_10_acc_3: 0.0125 - dense_10_acc_4: 0.9092 - dense_10_acc_5: 0.0425 - dense_10_acc_6: 0.0092 - dense_10_acc_7: 0.9158 - dense_10_acc_8: 0.0192 - dense_10_acc_9: 0.00 - ETA: 1:45 - loss: 22.2033 - dense_10_loss: 2.8276 - dense_10_acc: 0.0015 - dense_10_acc_1: 0.0938 - dense_10_acc_2: 0.0354 - dense_10_acc_3: 0.0115 - dense_10_acc_4: 0.9162 - dense_10_acc_5: 0.0392 - dense_10_acc_6: 0.0085 - dense_10_acc_7: 0.9223 - dense_10_acc_8: 0.0177 - dense_10_acc_9: 0.00 - ETA: 1:37 - loss: 22.1460 - dense_10_loss: 2.8214 - dense_10_acc: 0.0014 - dense_10_acc_1: 0.0900 - dense_10_acc_2: 0.0329 - dense_10_acc_3: 0.0107 - dense_10_acc_4: 0.9221 - dense_10_acc_5: 0.0364 - dense_10_acc_6: 0.0079 - dense_10_acc_7: 0.9279 - dense_10_acc_8: 0.0164 - dense_10_acc_9: 0.00 - ETA: 1:30 - loss: 22.0930 - dense_10_loss: 2.8228 - dense_10_acc: 0.0013 - dense_10_acc_1: 0.1033 - dense_10_acc_2: 0.0307 - dense_10_acc_3: 0.0100 - dense_10_acc_4: 0.9273 - dense_10_acc_5: 0.0340 - dense_10_acc_6: 0.0073 - dense_10_acc_7: 0.9327 - dense_10_acc_8: 0.0153 - dense_10_acc_9: 0.00 - ETA: 1:24 - loss: 22.0624 - dense_10_loss: 2.8307 - dense_10_acc: 0.0012 - dense_10_acc_1: 0.1169 - dense_10_acc_2: 0.0362 - dense_10_acc_3: 0.0094 - dense_10_acc_4: 0.9319 - dense_10_acc_5: 0.0319 - dense_10_acc_6: 0.0069 - dense_10_acc_7: 0.9369 - dense_10_acc_8: 0.0144 - dense_10_acc_9: 0.00 - ETA: 1:19 - loss: 22.0122 - dense_10_loss: 2.8318 - dense_10_acc: 0.0012 - dense_10_acc_1: 0.1329 - dense_10_acc_2: 0.0412 - dense_10_acc_3: 0.0094 - dense_10_acc_4: 0.9359 - dense_10_acc_5: 0.0300 - dense_10_acc_6: 0.0065 - dense_10_acc_7: 0.9406 - dense_10_acc_8: 0.0135 - dense_10_acc_9: 0.00 - ETA: 1:14 - loss: 21.9665 - dense_10_loss: 2.8330 - dense_10_acc: 0.0011 - dense_10_acc_1: 0.1411 - dense_10_acc_2: 0.0461 - dense_10_acc_3: 0.0089 - dense_10_acc_4: 0.9394 - dense_10_acc_5: 0.0283 - dense_10_acc_6: 0.0061 - dense_10_acc_7: 0.9439 - dense_10_acc_8: 0.0128 - dense_10_acc_9: 0.00 - ETA: 1:10 - loss: 21.9098 - dense_10_loss: 2.8317 - dense_10_acc: 0.0021 - dense_10_acc_1: 0.1553 - dense_10_acc_2: 0.0526 - dense_10_acc_3: 0.0089 - dense_10_acc_4: 0.9426 - dense_10_acc_5: 0.0268 - dense_10_acc_6: 0.0058 - dense_10_acc_7: 0.9468 - dense_10_acc_8: 0.0121 - dense_10_acc_9: 0.00 - ETA: 1:06 - loss: 21.8613 - dense_10_loss: 2.8368 - dense_10_acc: 0.0085 - dense_10_acc_1: 0.1685 - dense_10_acc_2: 0.0585 - dense_10_acc_3: 0.0085 - dense_10_acc_4: 0.9455 - dense_10_acc_5: 0.0255 - dense_10_acc_6: 0.0055 - dense_10_acc_7: 0.9495 - dense_10_acc_8: 0.0115 - dense_10_acc_9: 0.00 - ETA: 1:03 - loss: 21.8174 - dense_10_loss: 2.8370 - dense_10_acc: 0.0190 - dense_10_acc_1: 0.1790 - dense_10_acc_2: 0.0638 - dense_10_acc_3: 0.0081 - dense_10_acc_4: 0.9481 - dense_10_acc_5: 0.0243 - dense_10_acc_6: 0.0052 - dense_10_acc_7: 0.9519 - dense_10_acc_8: 0.0119 - dense_10_acc_9: 0.00 - ETA: 1:00 - loss: 21.7643 - dense_10_loss: 2.8328 - dense_10_acc: 0.0182 - dense_10_acc_1: 0.1832 - dense_10_acc_2: 0.0686 - dense_10_acc_3: 0.0082 - dense_10_acc_4: 0.9500 - dense_10_acc_5: 0.0236 - dense_10_acc_6: 0.0050 - dense_10_acc_7: 0.9536 - dense_10_acc_8: 0.0132 - dense_10_acc_9: 0.00 - ETA: 57s - loss: 21.7024 - dense_10_loss: 2.8261 - dense_10_acc: 0.0174 - dense_10_acc_1: 0.2043 - dense_10_acc_2: 0.0709 - dense_10_acc_3: 0.0087 - dense_10_acc_4: 0.9504 - dense_10_acc_5: 0.0239 - dense_10_acc_6: 0.0048 - dense_10_acc_7: 0.9530 - dense_10_acc_8: 0.0130 - dense_10_acc_9: 0.0070 - ETA: 55s - loss: 21.6408 - dense_10_loss: 2.8202 - dense_10_acc: 0.0167 - dense_10_acc_1: 0.2283 - dense_10_acc_2: 0.0833 - dense_10_acc_3: 0.0092 - dense_10_acc_4: 0.9483 - dense_10_acc_5: 0.0267 - dense_10_acc_6: 0.0046 - dense_10_acc_7: 0.9479 - dense_10_acc_8: 0.0146 - dense_10_acc_9: 0.007 - ETA: 52s - loss: 21.6031 - dense_10_loss: 2.8203 - dense_10_acc: 0.0160 - dense_10_acc_1: 0.2504 - dense_10_acc_2: 0.0932 - dense_10_acc_3: 0.0108 - dense_10_acc_4: 0.9400 - dense_10_acc_5: 0.0344 - dense_10_acc_6: 0.0044 - dense_10_acc_7: 0.9360 - dense_10_acc_8: 0.0196 - dense_10_acc_9: 0.009 - ETA: 50s - loss: 21.5598 - dense_10_loss: 2.8191 - dense_10_acc: 0.0154 - dense_10_acc_1: 0.2704 - dense_10_acc_2: 0.1004 - dense_10_acc_3: 0.0123 - dense_10_acc_4: 0.9331 - dense_10_acc_5: 0.0404 - dense_10_acc_6: 0.0046 - dense_10_acc_7: 0.9285 - dense_10_acc_8: 0.0246 - dense_10_acc_9: 0.010 - ETA: 48s - loss: 21.5117 - dense_10_loss: 2.8156 - dense_10_acc: 0.0148 - dense_10_acc_1: 0.2904 - dense_10_acc_2: 0.1070 - dense_10_acc_3: 0.0133 - dense_10_acc_4: 0.9226 - dense_10_acc_5: 0.0493 - dense_10_acc_6: 0.0056 - dense_10_acc_7: 0.9163 - dense_10_acc_8: 0.0307 - dense_10_acc_9: 0.013 - ETA: 46s - loss: 21.4574 - dense_10_loss: 2.8118 - dense_10_acc: 0.0143 - dense_10_acc_1: 0.3064 - dense_10_acc_2: 0.1143 - dense_10_acc_3: 0.0136 - dense_10_acc_4: 0.9221 - dense_10_acc_5: 0.0507 - dense_10_acc_6: 0.0054 - dense_10_acc_7: 0.9161 - dense_10_acc_8: 0.0318 - dense_10_acc_9: 0.0136\b\b\b\b\b\b\b\b\b\b\b\b\b\b\b\b\b\b\b\b\b\b\b\b\b\b\b\b\b\b\b\b\b\b\b\b\b\b\b\b\b\b\b\b\b\b\b\b\b\b\b\b\b\b\b\b\b\b\b\b\b\b\b\b\b\b\b\b\b\b\b\b\b\b\b\b\b\b\b\b\b\b\b\b\b\b\b\b\b\b\b\b\b\b\b\b\b\b\b\b\b\b\b\b\b\b\b\b\b\b\b\b\b\b\b\b\b\b\b\b\b\b\b\b\b\b\b\b\b\b\b\b\b\b\b\b\b\b\b\b\b\b\b\b\b\b\b\b\b\b\b\b\b\b\b\b\b\b\b\b\b\b\b\b\b\b\b\b\b\b\b\b\b\b\b\b\b\b\b\b\b\b\b\b\b\b\b\b\b\b\b\b\b\b\b\b\b\b\b\b\b\b\b\b\b\b\b\b\b\b\b\b\b\b\b\b\b\b\b\b\b\b\b\b\b\b\b\b\b\b\b\b\b\b\b\b\b\b\b\b\b\b\b\b\b\b\b\b\b\b\b\b\b\b\b\b\b\b\b\b\b\b\b\b\b\b\b\b\b\b\b\b\b\b\b\b\b\b\b\b\b\b\b\b\b\b\b\b\b\b\b\b\b\b\b\b\b\b\b\b\b\b\b\b\b\b\b\b\b\b\b\b\b\b\b\b\b\b\b\b\b\b\b\b\b\b\b\b\b\b\b\b\b\b\b\b\b\b\b\b\b\b\b"
     ]
    },
    {
     "name": "stdout",
     "output_type": "stream",
     "text": [
      " 5600/10000 [===============>..............] - ETA: 44s - loss: 21.3977 - dense_10_loss: 2.8083 - dense_10_acc: 0.0138 - dense_10_acc_1: 0.3203 - dense_10_acc_2: 0.1228 - dense_10_acc_3: 0.0134 - dense_10_acc_4: 0.9231 - dense_10_acc_5: 0.0503 - dense_10_acc_6: 0.0052 - dense_10_acc_7: 0.9169 - dense_10_acc_8: 0.0331 - dense_10_acc_9: 0.013 - ETA: 42s - loss: 21.3419 - dense_10_loss: 2.8040 - dense_10_acc: 0.0133 - dense_10_acc_1: 0.3337 - dense_10_acc_2: 0.1320 - dense_10_acc_3: 0.0140 - dense_10_acc_4: 0.9223 - dense_10_acc_5: 0.0510 - dense_10_acc_6: 0.0050 - dense_10_acc_7: 0.9153 - dense_10_acc_8: 0.0350 - dense_10_acc_9: 0.017 - ETA: 40s - loss: 21.2915 - dense_10_loss: 2.7944 - dense_10_acc: 0.0129 - dense_10_acc_1: 0.3477 - dense_10_acc_2: 0.1390 - dense_10_acc_3: 0.0155 - dense_10_acc_4: 0.9194 - dense_10_acc_5: 0.0516 - dense_10_acc_6: 0.0048 - dense_10_acc_7: 0.9123 - dense_10_acc_8: 0.0448 - dense_10_acc_9: 0.023 - ETA: 39s - loss: 21.2403 - dense_10_loss: 2.7884 - dense_10_acc: 0.0125 - dense_10_acc_1: 0.3603 - dense_10_acc_2: 0.1434 - dense_10_acc_3: 0.0166 - dense_10_acc_4: 0.9131 - dense_10_acc_5: 0.0547 - dense_10_acc_6: 0.0047 - dense_10_acc_7: 0.9069 - dense_10_acc_8: 0.0550 - dense_10_acc_9: 0.026 - ETA: 37s - loss: 21.1938 - dense_10_loss: 2.7853 - dense_10_acc: 0.0121 - dense_10_acc_1: 0.3730 - dense_10_acc_2: 0.1491 - dense_10_acc_3: 0.0185 - dense_10_acc_4: 0.9079 - dense_10_acc_5: 0.0582 - dense_10_acc_6: 0.0045 - dense_10_acc_7: 0.9033 - dense_10_acc_8: 0.0639 - dense_10_acc_9: 0.029 - ETA: 36s - loss: 21.1302 - dense_10_loss: 2.7788 - dense_10_acc: 0.0118 - dense_10_acc_1: 0.3865 - dense_10_acc_2: 0.1571 - dense_10_acc_3: 0.0212 - dense_10_acc_4: 0.9035 - dense_10_acc_5: 0.0606 - dense_10_acc_6: 0.0044 - dense_10_acc_7: 0.9018 - dense_10_acc_8: 0.0688 - dense_10_acc_9: 0.035 - ETA: 35s - loss: 21.0817 - dense_10_loss: 2.7785 - dense_10_acc: 0.0114 - dense_10_acc_1: 0.3971 - dense_10_acc_2: 0.1634 - dense_10_acc_3: 0.0214 - dense_10_acc_4: 0.9014 - dense_10_acc_5: 0.0603 - dense_10_acc_6: 0.0046 - dense_10_acc_7: 0.9023 - dense_10_acc_8: 0.0703 - dense_10_acc_9: 0.038 - ETA: 33s - loss: 21.0255 - dense_10_loss: 2.7791 - dense_10_acc: 0.0111 - dense_10_acc_1: 0.4081 - dense_10_acc_2: 0.1686 - dense_10_acc_3: 0.0222 - dense_10_acc_4: 0.9011 - dense_10_acc_5: 0.0600 - dense_10_acc_6: 0.0044 - dense_10_acc_7: 0.9022 - dense_10_acc_8: 0.0736 - dense_10_acc_9: 0.039 - ETA: 32s - loss: 20.9747 - dense_10_loss: 2.7746 - dense_10_acc: 0.0108 - dense_10_acc_1: 0.4157 - dense_10_acc_2: 0.1727 - dense_10_acc_3: 0.0227 - dense_10_acc_4: 0.9022 - dense_10_acc_5: 0.0595 - dense_10_acc_6: 0.0043 - dense_10_acc_7: 0.9019 - dense_10_acc_8: 0.0803 - dense_10_acc_9: 0.040 - ETA: 31s - loss: 20.9192 - dense_10_loss: 2.7744 - dense_10_acc: 0.0105 - dense_10_acc_1: 0.4258 - dense_10_acc_2: 0.1787 - dense_10_acc_3: 0.0229 - dense_10_acc_4: 0.9018 - dense_10_acc_5: 0.0587 - dense_10_acc_6: 0.0045 - dense_10_acc_7: 0.9013 - dense_10_acc_8: 0.0871 - dense_10_acc_9: 0.041 - ETA: 30s - loss: 20.8682 - dense_10_loss: 2.7738 - dense_10_acc: 0.0103 - dense_10_acc_1: 0.4326 - dense_10_acc_2: 0.1813 - dense_10_acc_3: 0.0238 - dense_10_acc_4: 0.9033 - dense_10_acc_5: 0.0579 - dense_10_acc_6: 0.0044 - dense_10_acc_7: 0.9021 - dense_10_acc_8: 0.0895 - dense_10_acc_9: 0.044 - ETA: 29s - loss: 20.8101 - dense_10_loss: 2.7738 - dense_10_acc: 0.0100 - dense_10_acc_1: 0.4390 - dense_10_acc_2: 0.1840 - dense_10_acc_3: 0.0242 - dense_10_acc_4: 0.9045 - dense_10_acc_5: 0.0570 - dense_10_acc_6: 0.0042 - dense_10_acc_7: 0.9003 - dense_10_acc_8: 0.0938 - dense_10_acc_9: 0.045 - ETA: 28s - loss: 20.7583 - dense_10_loss: 2.7754 - dense_10_acc: 0.0151 - dense_10_acc_1: 0.4466 - dense_10_acc_2: 0.1863 - dense_10_acc_3: 0.0239 - dense_10_acc_4: 0.9063 - dense_10_acc_5: 0.0559 - dense_10_acc_6: 0.0041 - dense_10_acc_7: 0.8922 - dense_10_acc_8: 0.0998 - dense_10_acc_9: 0.047 - ETA: 27s - loss: 20.6943 - dense_10_loss: 2.7737 - dense_10_acc: 0.0312 - dense_10_acc_1: 0.4574 - dense_10_acc_2: 0.1907 - dense_10_acc_3: 0.0250 - dense_10_acc_4: 0.9062 - dense_10_acc_5: 0.0562 - dense_10_acc_6: 0.0043 - dense_10_acc_7: 0.8888 - dense_10_acc_8: 0.1052 - dense_10_acc_9: 0.050 - ETA: 26s - loss: 20.6365 - dense_10_loss: 2.7742 - dense_10_acc: 0.0447 - dense_10_acc_1: 0.4649 - dense_10_acc_2: 0.1947 - dense_10_acc_3: 0.0251 - dense_10_acc_4: 0.9077 - dense_10_acc_5: 0.0551 - dense_10_acc_6: 0.0042 - dense_10_acc_7: 0.8905 - dense_10_acc_8: 0.1077 - dense_10_acc_9: 0.053 - ETA: 25s - loss: 20.5826 - dense_10_loss: 2.7738 - dense_10_acc: 0.0575 - dense_10_acc_1: 0.4705 - dense_10_acc_2: 0.1977 - dense_10_acc_3: 0.0252 - dense_10_acc_4: 0.9098 - dense_10_acc_5: 0.0539 - dense_10_acc_6: 0.0041 - dense_10_acc_7: 0.8925 - dense_10_acc_8: 0.1130 - dense_10_acc_9: 0.055 - ETA: 24s - loss: 20.5266 - dense_10_loss: 2.7728 - dense_10_acc: 0.0696 - dense_10_acc_1: 0.4758 - dense_10_acc_2: 0.2031 - dense_10_acc_3: 0.0253 - dense_10_acc_4: 0.9118 - dense_10_acc_5: 0.0527 - dense_10_acc_6: 0.0040 - dense_10_acc_7: 0.8949 - dense_10_acc_8: 0.1189 - dense_10_acc_9: 0.056 - ETA: 24s - loss: 20.4650 - dense_10_loss: 2.7689 - dense_10_acc: 0.0815 - dense_10_acc_1: 0.4828 - dense_10_acc_2: 0.2070 - dense_10_acc_3: 0.0263 - dense_10_acc_4: 0.9104 - dense_10_acc_5: 0.0533 - dense_10_acc_6: 0.0039 - dense_10_acc_7: 0.8948 - dense_10_acc_8: 0.1246 - dense_10_acc_9: 0.057 - ETA: 23s - loss: 20.4022 - dense_10_loss: 2.7638 - dense_10_acc: 0.0919 - dense_10_acc_1: 0.4887 - dense_10_acc_2: 0.2104 - dense_10_acc_3: 0.0281 - dense_10_acc_4: 0.9111 - dense_10_acc_5: 0.0521 - dense_10_acc_6: 0.0038 - dense_10_acc_7: 0.8970 - dense_10_acc_8: 0.1264 - dense_10_acc_9: 0.060 - ETA: 22s - loss: 20.3411 - dense_10_loss: 2.7610 - dense_10_acc: 0.1035 - dense_10_acc_1: 0.4948 - dense_10_acc_2: 0.2125 - dense_10_acc_3: 0.0287 - dense_10_acc_4: 0.9129 - dense_10_acc_5: 0.0510 - dense_10_acc_6: 0.0037 - dense_10_acc_7: 0.8979 - dense_10_acc_8: 0.1333 - dense_10_acc_9: 0.060 - ETA: 21s - loss: 20.2852 - dense_10_loss: 2.7589 - dense_10_acc: 0.1133 - dense_10_acc_1: 0.5000 - dense_10_acc_2: 0.2153 - dense_10_acc_3: 0.0296 - dense_10_acc_4: 0.9147 - dense_10_acc_5: 0.0500 - dense_10_acc_6: 0.0037 - dense_10_acc_7: 0.8943 - dense_10_acc_8: 0.1388 - dense_10_acc_9: 0.061 - ETA: 21s - loss: 20.2271 - dense_10_loss: 2.7570 - dense_10_acc: 0.1248 - dense_10_acc_1: 0.5078 - dense_10_acc_2: 0.2170 - dense_10_acc_3: 0.0304 - dense_10_acc_4: 0.9164 - dense_10_acc_5: 0.0490 - dense_10_acc_6: 0.0036 - dense_10_acc_7: 0.8964 - dense_10_acc_8: 0.1400 - dense_10_acc_9: 0.062 - ETA: 20s - loss: 20.1670 - dense_10_loss: 2.7551 - dense_10_acc: 0.1345 - dense_10_acc_1: 0.5151 - dense_10_acc_2: 0.2214 - dense_10_acc_3: 0.0316 - dense_10_acc_4: 0.9178 - dense_10_acc_5: 0.0480 - dense_10_acc_6: 0.0035 - dense_10_acc_7: 0.8982 - dense_10_acc_8: 0.1406 - dense_10_acc_9: 0.064 - ETA: 19s - loss: 20.1028 - dense_10_loss: 2.7514 - dense_10_acc: 0.1475 - dense_10_acc_1: 0.5225 - dense_10_acc_2: 0.2242 - dense_10_acc_3: 0.0327 - dense_10_acc_4: 0.9190 - dense_10_acc_5: 0.0481 - dense_10_acc_6: 0.0044 - dense_10_acc_7: 0.8913 - dense_10_acc_8: 0.1452 - dense_10_acc_9: 0.066 - ETA: 19s - loss: 20.0379 - dense_10_loss: 2.7477 - dense_10_acc: 0.1585 - dense_10_acc_1: 0.5289 - dense_10_acc_2: 0.2277 - dense_10_acc_3: 0.0338 - dense_10_acc_4: 0.9206 - dense_10_acc_5: 0.0472 - dense_10_acc_6: 0.0049 - dense_10_acc_7: 0.8874 - dense_10_acc_8: 0.1491 - dense_10_acc_9: 0.067 - ETA: 18s - loss: 19.9670 - dense_10_loss: 2.7433 - dense_10_acc: 0.1693 - dense_10_acc_1: 0.5352 - dense_10_acc_2: 0.2306 - dense_10_acc_3: 0.0354 - dense_10_acc_4: 0.9220 - dense_10_acc_5: 0.0463 - dense_10_acc_6: 0.0048 - dense_10_acc_7: 0.8893 - dense_10_acc_8: 0.1533 - dense_10_acc_9: 0.068 - ETA: 17s - loss: 19.8961 - dense_10_loss: 2.7376 - dense_10_acc: 0.1822 - dense_10_acc_1: 0.5425 - dense_10_acc_2: 0.2340 - dense_10_acc_3: 0.0369 - dense_10_acc_4: 0.9235 - dense_10_acc_5: 0.0455 - dense_10_acc_6: 0.0047 - dense_10_acc_7: 0.8913 - dense_10_acc_8: 0.1569 - dense_10_acc_9: 0.069 - ETA: 17s - loss: 19.8290 - dense_10_loss: 2.7327 - dense_10_acc: 0.1950 - dense_10_acc_1: 0.5491 - dense_10_acc_2: 0.2379 - dense_10_acc_3: 0.0377 - dense_10_acc_4: 0.9248 - dense_10_acc_5: 0.0446 - dense_10_acc_6: 0.0046 - dense_10_acc_7: 0.8932 - dense_10_acc_8: 0.1584 - dense_10_acc_9: 0.0698"
     ]
    },
    {
     "name": "stdout",
     "output_type": "stream",
     "text": [
      " 8400/10000 [========================>.....] - ETA: 16s - loss: 19.7649 - dense_10_loss: 2.7286 - dense_10_acc: 0.2058 - dense_10_acc_1: 0.5546 - dense_10_acc_2: 0.2393 - dense_10_acc_3: 0.0389 - dense_10_acc_4: 0.9261 - dense_10_acc_5: 0.0439 - dense_10_acc_6: 0.0046 - dense_10_acc_7: 0.8951 - dense_10_acc_8: 0.1607 - dense_10_acc_9: 0.071 - ETA: 16s - loss: 19.6981 - dense_10_loss: 2.7257 - dense_10_acc: 0.2167 - dense_10_acc_1: 0.5603 - dense_10_acc_2: 0.2419 - dense_10_acc_3: 0.0393 - dense_10_acc_4: 0.9274 - dense_10_acc_5: 0.0505 - dense_10_acc_6: 0.0045 - dense_10_acc_7: 0.8969 - dense_10_acc_8: 0.1653 - dense_10_acc_9: 0.072 - ETA: 15s - loss: 19.6338 - dense_10_loss: 2.7232 - dense_10_acc: 0.2269 - dense_10_acc_1: 0.5654 - dense_10_acc_2: 0.2439 - dense_10_acc_3: 0.0407 - dense_10_acc_4: 0.9286 - dense_10_acc_5: 0.0620 - dense_10_acc_6: 0.0049 - dense_10_acc_7: 0.8986 - dense_10_acc_8: 0.1692 - dense_10_acc_9: 0.073 - ETA: 14s - loss: 19.5614 - dense_10_loss: 2.7198 - dense_10_acc: 0.2380 - dense_10_acc_1: 0.5715 - dense_10_acc_2: 0.2452 - dense_10_acc_3: 0.0422 - dense_10_acc_4: 0.9298 - dense_10_acc_5: 0.0712 - dense_10_acc_6: 0.0063 - dense_10_acc_7: 0.9003 - dense_10_acc_8: 0.1712 - dense_10_acc_9: 0.074 - ETA: 14s - loss: 19.4916 - dense_10_loss: 2.7178 - dense_10_acc: 0.2472 - dense_10_acc_1: 0.5770 - dense_10_acc_2: 0.2454 - dense_10_acc_3: 0.0438 - dense_10_acc_4: 0.9310 - dense_10_acc_5: 0.0784 - dense_10_acc_6: 0.0069 - dense_10_acc_7: 0.9020 - dense_10_acc_8: 0.1746 - dense_10_acc_9: 0.074 - ETA: 13s - loss: 19.4158 - dense_10_loss: 2.7140 - dense_10_acc: 0.2571 - dense_10_acc_1: 0.5824 - dense_10_acc_2: 0.2474 - dense_10_acc_3: 0.0452 - dense_10_acc_4: 0.9321 - dense_10_acc_5: 0.0876 - dense_10_acc_6: 0.0084 - dense_10_acc_7: 0.9035 - dense_10_acc_8: 0.1773 - dense_10_acc_9: 0.075 - ETA: 13s - loss: 19.3378 - dense_10_loss: 2.7107 - dense_10_acc: 0.2671 - dense_10_acc_1: 0.5875 - dense_10_acc_2: 0.2497 - dense_10_acc_3: 0.0465 - dense_10_acc_4: 0.9332 - dense_10_acc_5: 0.0971 - dense_10_acc_6: 0.0098 - dense_10_acc_7: 0.9051 - dense_10_acc_8: 0.1787 - dense_10_acc_9: 0.076 - ETA: 12s - loss: 19.2558 - dense_10_loss: 2.7077 - dense_10_acc: 0.2767 - dense_10_acc_1: 0.5925 - dense_10_acc_2: 0.2537 - dense_10_acc_3: 0.0475 - dense_10_acc_4: 0.9342 - dense_10_acc_5: 0.1050 - dense_10_acc_6: 0.0098 - dense_10_acc_7: 0.9066 - dense_10_acc_8: 0.1816 - dense_10_acc_9: 0.076 - ETA: 12s - loss: 19.1717 - dense_10_loss: 2.7039 - dense_10_acc: 0.2868 - dense_10_acc_1: 0.5978 - dense_10_acc_2: 0.2575 - dense_10_acc_3: 0.0485 - dense_10_acc_4: 0.9352 - dense_10_acc_5: 0.1109 - dense_10_acc_6: 0.0109 - dense_10_acc_7: 0.9080 - dense_10_acc_8: 0.1834 - dense_10_acc_9: 0.077 - ETA: 12s - loss: 19.0878 - dense_10_loss: 2.7012 - dense_10_acc: 0.2955 - dense_10_acc_1: 0.6027 - dense_10_acc_2: 0.2598 - dense_10_acc_3: 0.0497 - dense_10_acc_4: 0.9362 - dense_10_acc_5: 0.1183 - dense_10_acc_6: 0.0126 - dense_10_acc_7: 0.9094 - dense_10_acc_8: 0.1870 - dense_10_acc_9: 0.078 - ETA: 11s - loss: 19.0052 - dense_10_loss: 2.6963 - dense_10_acc: 0.3048 - dense_10_acc_1: 0.6072 - dense_10_acc_2: 0.2621 - dense_10_acc_3: 0.0500 - dense_10_acc_4: 0.9372 - dense_10_acc_5: 0.1273 - dense_10_acc_6: 0.0134 - dense_10_acc_7: 0.9107 - dense_10_acc_8: 0.1888 - dense_10_acc_9: 0.078 - ETA: 11s - loss: 18.9191 - dense_10_loss: 2.6913 - dense_10_acc: 0.3135 - dense_10_acc_1: 0.6119 - dense_10_acc_2: 0.2635 - dense_10_acc_3: 0.0501 - dense_10_acc_4: 0.9381 - dense_10_acc_5: 0.1338 - dense_10_acc_6: 0.0149 - dense_10_acc_7: 0.9121 - dense_10_acc_8: 0.1912 - dense_10_acc_9: 0.079 - ETA: 10s - loss: 18.8332 - dense_10_loss: 2.6886 - dense_10_acc: 0.3216 - dense_10_acc_1: 0.6164 - dense_10_acc_2: 0.2645 - dense_10_acc_3: 0.0509 - dense_10_acc_4: 0.9390 - dense_10_acc_5: 0.1400 - dense_10_acc_6: 0.0164 - dense_10_acc_7: 0.9133 - dense_10_acc_8: 0.1935 - dense_10_acc_9: 0.079 - ETA: 10s - loss: 18.7418 - dense_10_loss: 2.6836 - dense_10_acc: 0.3294 - dense_10_acc_1: 0.6207 - dense_10_acc_2: 0.2671 - dense_10_acc_3: 0.0509 - dense_10_acc_4: 0.9399 - dense_10_acc_5: 0.1483 - dense_10_acc_6: 0.0174 - dense_10_acc_7: 0.9146 - dense_10_acc_8: 0.1961 - dense_10_acc_9: 0.079 - ETA: 9s - loss: 18.6525 - dense_10_loss: 2.6794 - dense_10_acc: 0.3379 - dense_10_acc_1: 0.6256 - dense_10_acc_2: 0.2689 - dense_10_acc_3: 0.0513 - dense_10_acc_4: 0.9407 - dense_10_acc_5: 0.1566 - dense_10_acc_6: 0.0189 - dense_10_acc_7: 0.9158 - dense_10_acc_8: 0.1977 - dense_10_acc_9: 0.080 - ETA: 9s - loss: 18.5640 - dense_10_loss: 2.6743 - dense_10_acc: 0.3461 - dense_10_acc_1: 0.6297 - dense_10_acc_2: 0.2708 - dense_10_acc_3: 0.0517 - dense_10_acc_4: 0.9415 - dense_10_acc_5: 0.1647 - dense_10_acc_6: 0.0199 - dense_10_acc_7: 0.9169 - dense_10_acc_8: 0.2007 - dense_10_acc_9: 0.08 - ETA: 9s - loss: 18.4706 - dense_10_loss: 2.6693 - dense_10_acc: 0.3540 - dense_10_acc_1: 0.6341 - dense_10_acc_2: 0.2736 - dense_10_acc_3: 0.0533 - dense_10_acc_4: 0.9423 - dense_10_acc_5: 0.1733 - dense_10_acc_6: 0.0211 - dense_10_acc_7: 0.9181 - dense_10_acc_8: 0.2025 - dense_10_acc_9: 0.08 - ETA: 8s - loss: 18.3855 - dense_10_loss: 2.6652 - dense_10_acc: 0.3609 - dense_10_acc_1: 0.6380 - dense_10_acc_2: 0.2750 - dense_10_acc_3: 0.0532 - dense_10_acc_4: 0.9431 - dense_10_acc_5: 0.1811 - dense_10_acc_6: 0.0222 - dense_10_acc_7: 0.9192 - dense_10_acc_8: 0.2053 - dense_10_acc_9: 0.08 - ETA: 8s - loss: 18.2965 - dense_10_loss: 2.6608 - dense_10_acc: 0.3689 - dense_10_acc_1: 0.6421 - dense_10_acc_2: 0.2763 - dense_10_acc_3: 0.0541 - dense_10_acc_4: 0.9439 - dense_10_acc_5: 0.1893 - dense_10_acc_6: 0.0228 - dense_10_acc_7: 0.9203 - dense_10_acc_8: 0.2091 - dense_10_acc_9: 0.08 - ETA: 7s - loss: 18.2105 - dense_10_loss: 2.6559 - dense_10_acc: 0.3758 - dense_10_acc_1: 0.6454 - dense_10_acc_2: 0.2767 - dense_10_acc_3: 0.0550 - dense_10_acc_4: 0.9446 - dense_10_acc_5: 0.1963 - dense_10_acc_6: 0.0241 - dense_10_acc_7: 0.9213 - dense_10_acc_8: 0.2134 - dense_10_acc_9: 0.08 - ETA: 7s - loss: 18.1221 - dense_10_loss: 2.6514 - dense_10_acc: 0.3835 - dense_10_acc_1: 0.6497 - dense_10_acc_2: 0.2786 - dense_10_acc_3: 0.0558 - dense_10_acc_4: 0.9453 - dense_10_acc_5: 0.2043 - dense_10_acc_6: 0.0245 - dense_10_acc_7: 0.9223 - dense_10_acc_8: 0.2155 - dense_10_acc_9: 0.08 - ETA: 7s - loss: 18.0370 - dense_10_loss: 2.6472 - dense_10_acc: 0.3901 - dense_10_acc_1: 0.6531 - dense_10_acc_2: 0.2805 - dense_10_acc_3: 0.0568 - dense_10_acc_4: 0.9460 - dense_10_acc_5: 0.2119 - dense_10_acc_6: 0.0258 - dense_10_acc_7: 0.9233 - dense_10_acc_8: 0.2185 - dense_10_acc_9: 0.08 - ETA: 6s - loss: 17.9520 - dense_10_loss: 2.6433 - dense_10_acc: 0.3967 - dense_10_acc_1: 0.6565 - dense_10_acc_2: 0.2824 - dense_10_acc_3: 0.0577 - dense_10_acc_4: 0.9467 - dense_10_acc_5: 0.2190 - dense_10_acc_6: 0.0265 - dense_10_acc_7: 0.9243 - dense_10_acc_8: 0.2210 - dense_10_acc_9: 0.08 - ETA: 6s - loss: 17.8670 - dense_10_loss: 2.6393 - dense_10_acc: 0.4036 - dense_10_acc_1: 0.6601 - dense_10_acc_2: 0.2842 - dense_10_acc_3: 0.0586 - dense_10_acc_4: 0.9474 - dense_10_acc_5: 0.2251 - dense_10_acc_6: 0.0274 - dense_10_acc_7: 0.9253 - dense_10_acc_8: 0.2226 - dense_10_acc_9: 0.08 - ETA: 5s - loss: 17.7833 - dense_10_loss: 2.6350 - dense_10_acc: 0.4099 - dense_10_acc_1: 0.6630 - dense_10_acc_2: 0.2865 - dense_10_acc_3: 0.0593 - dense_10_acc_4: 0.9480 - dense_10_acc_5: 0.2317 - dense_10_acc_6: 0.0289 - dense_10_acc_7: 0.9262 - dense_10_acc_8: 0.2247 - dense_10_acc_9: 0.08 - ETA: 5s - loss: 17.7039 - dense_10_loss: 2.6308 - dense_10_acc: 0.4162 - dense_10_acc_1: 0.6662 - dense_10_acc_2: 0.2871 - dense_10_acc_3: 0.0602 - dense_10_acc_4: 0.9487 - dense_10_acc_5: 0.2380 - dense_10_acc_6: 0.0305 - dense_10_acc_7: 0.9271 - dense_10_acc_8: 0.2260 - dense_10_acc_9: 0.08 - ETA: 5s - loss: 17.6247 - dense_10_loss: 2.6263 - dense_10_acc: 0.4223 - dense_10_acc_1: 0.6695 - dense_10_acc_2: 0.2887 - dense_10_acc_3: 0.0617 - dense_10_acc_4: 0.9493 - dense_10_acc_5: 0.2440 - dense_10_acc_6: 0.0318 - dense_10_acc_7: 0.9280 - dense_10_acc_8: 0.2277 - dense_10_acc_9: 0.08 - ETA: 4s - loss: 17.5444 - dense_10_loss: 2.6224 - dense_10_acc: 0.4286 - dense_10_acc_1: 0.6729 - dense_10_acc_2: 0.2899 - dense_10_acc_3: 0.0630 - dense_10_acc_4: 0.9499 - dense_10_acc_5: 0.2500 - dense_10_acc_6: 0.0335 - dense_10_acc_7: 0.9288 - dense_10_acc_8: 0.2295 - dense_10_acc_9: 0.0849"
     ]
    },
    {
     "name": "stdout",
     "output_type": "stream",
     "text": [
      "10000/10000 [==============================] - ETA: 4s - loss: 17.4686 - dense_10_loss: 2.6183 - dense_10_acc: 0.4349 - dense_10_acc_1: 0.6764 - dense_10_acc_2: 0.2906 - dense_10_acc_3: 0.0636 - dense_10_acc_4: 0.9505 - dense_10_acc_5: 0.2560 - dense_10_acc_6: 0.0349 - dense_10_acc_7: 0.9296 - dense_10_acc_8: 0.2312 - dense_10_acc_9: 0.08 - ETA: 4s - loss: 17.3958 - dense_10_loss: 2.6148 - dense_10_acc: 0.4407 - dense_10_acc_1: 0.6793 - dense_10_acc_2: 0.2908 - dense_10_acc_3: 0.0640 - dense_10_acc_4: 0.9510 - dense_10_acc_5: 0.2616 - dense_10_acc_6: 0.0363 - dense_10_acc_7: 0.9305 - dense_10_acc_8: 0.2330 - dense_10_acc_9: 0.08 - ETA: 3s - loss: 17.3178 - dense_10_loss: 2.6109 - dense_10_acc: 0.4467 - dense_10_acc_1: 0.6824 - dense_10_acc_2: 0.2929 - dense_10_acc_3: 0.0644 - dense_10_acc_4: 0.9516 - dense_10_acc_5: 0.2683 - dense_10_acc_6: 0.0372 - dense_10_acc_7: 0.9313 - dense_10_acc_8: 0.2356 - dense_10_acc_9: 0.08 - ETA: 3s - loss: 17.2415 - dense_10_loss: 2.6071 - dense_10_acc: 0.4522 - dense_10_acc_1: 0.6853 - dense_10_acc_2: 0.2949 - dense_10_acc_3: 0.0653 - dense_10_acc_4: 0.9522 - dense_10_acc_5: 0.2741 - dense_10_acc_6: 0.0388 - dense_10_acc_7: 0.9320 - dense_10_acc_8: 0.2376 - dense_10_acc_9: 0.08 - ETA: 3s - loss: 17.1708 - dense_10_loss: 2.6033 - dense_10_acc: 0.4573 - dense_10_acc_1: 0.6879 - dense_10_acc_2: 0.2962 - dense_10_acc_3: 0.0657 - dense_10_acc_4: 0.9527 - dense_10_acc_5: 0.2794 - dense_10_acc_6: 0.0399 - dense_10_acc_7: 0.9328 - dense_10_acc_8: 0.2398 - dense_10_acc_9: 0.08 - ETA: 2s - loss: 17.0970 - dense_10_loss: 2.6003 - dense_10_acc: 0.4630 - dense_10_acc_1: 0.6909 - dense_10_acc_2: 0.2973 - dense_10_acc_3: 0.0672 - dense_10_acc_4: 0.9532 - dense_10_acc_5: 0.2850 - dense_10_acc_6: 0.0410 - dense_10_acc_7: 0.9336 - dense_10_acc_8: 0.2410 - dense_10_acc_9: 0.08 - ETA: 2s - loss: 17.0271 - dense_10_loss: 2.5973 - dense_10_acc: 0.4685 - dense_10_acc_1: 0.6938 - dense_10_acc_2: 0.2986 - dense_10_acc_3: 0.0678 - dense_10_acc_4: 0.9537 - dense_10_acc_5: 0.2899 - dense_10_acc_6: 0.0423 - dense_10_acc_7: 0.9343 - dense_10_acc_8: 0.2421 - dense_10_acc_9: 0.08 - ETA: 2s - loss: 16.9561 - dense_10_loss: 2.5936 - dense_10_acc: 0.4738 - dense_10_acc_1: 0.6967 - dense_10_acc_2: 0.3001 - dense_10_acc_3: 0.0684 - dense_10_acc_4: 0.9542 - dense_10_acc_5: 0.2951 - dense_10_acc_6: 0.0437 - dense_10_acc_7: 0.9350 - dense_10_acc_8: 0.2432 - dense_10_acc_9: 0.08 - ETA: 2s - loss: 16.8885 - dense_10_loss: 2.5904 - dense_10_acc: 0.4790 - dense_10_acc_1: 0.6996 - dense_10_acc_2: 0.3013 - dense_10_acc_3: 0.0694 - dense_10_acc_4: 0.9547 - dense_10_acc_5: 0.3005 - dense_10_acc_6: 0.0455 - dense_10_acc_7: 0.9357 - dense_10_acc_8: 0.2442 - dense_10_acc_9: 0.08 - ETA: 1s - loss: 16.8227 - dense_10_loss: 2.5873 - dense_10_acc: 0.4836 - dense_10_acc_1: 0.7018 - dense_10_acc_2: 0.3037 - dense_10_acc_3: 0.0697 - dense_10_acc_4: 0.9552 - dense_10_acc_5: 0.3061 - dense_10_acc_6: 0.0467 - dense_10_acc_7: 0.9364 - dense_10_acc_8: 0.2456 - dense_10_acc_9: 0.09 - ETA: 1s - loss: 16.7558 - dense_10_loss: 2.5841 - dense_10_acc: 0.4885 - dense_10_acc_1: 0.7044 - dense_10_acc_2: 0.3054 - dense_10_acc_3: 0.0699 - dense_10_acc_4: 0.9557 - dense_10_acc_5: 0.3104 - dense_10_acc_6: 0.0485 - dense_10_acc_7: 0.9371 - dense_10_acc_8: 0.2476 - dense_10_acc_9: 0.09 - ETA: 1s - loss: 16.6899 - dense_10_loss: 2.5814 - dense_10_acc: 0.4932 - dense_10_acc_1: 0.7069 - dense_10_acc_2: 0.3075 - dense_10_acc_3: 0.0712 - dense_10_acc_4: 0.9561 - dense_10_acc_5: 0.3158 - dense_10_acc_6: 0.0495 - dense_10_acc_7: 0.9377 - dense_10_acc_8: 0.2488 - dense_10_acc_9: 0.09 - ETA: 0s - loss: 16.6257 - dense_10_loss: 2.5782 - dense_10_acc: 0.4981 - dense_10_acc_1: 0.7096 - dense_10_acc_2: 0.3092 - dense_10_acc_3: 0.0723 - dense_10_acc_4: 0.9566 - dense_10_acc_5: 0.3203 - dense_10_acc_6: 0.0511 - dense_10_acc_7: 0.9384 - dense_10_acc_8: 0.2502 - dense_10_acc_9: 0.09 - ETA: 0s - loss: 16.5564 - dense_10_loss: 2.5752 - dense_10_acc: 0.5030 - dense_10_acc_1: 0.7122 - dense_10_acc_2: 0.3116 - dense_10_acc_3: 0.0735 - dense_10_acc_4: 0.9570 - dense_10_acc_5: 0.3255 - dense_10_acc_6: 0.0527 - dense_10_acc_7: 0.9390 - dense_10_acc_8: 0.2522 - dense_10_acc_9: 0.09 - ETA: 0s - loss: 16.4944 - dense_10_loss: 2.5726 - dense_10_acc: 0.5077 - dense_10_acc_1: 0.7148 - dense_10_acc_2: 0.3129 - dense_10_acc_3: 0.0742 - dense_10_acc_4: 0.9575 - dense_10_acc_5: 0.3298 - dense_10_acc_6: 0.0536 - dense_10_acc_7: 0.9396 - dense_10_acc_8: 0.2530 - dense_10_acc_9: 0.09 - 29s 3ms/step - loss: 16.4331 - dense_10_loss: 2.5703 - dense_10_acc: 0.5121 - dense_10_acc_1: 0.7172 - dense_10_acc_2: 0.3141 - dense_10_acc_3: 0.0756 - dense_10_acc_4: 0.9579 - dense_10_acc_5: 0.3341 - dense_10_acc_6: 0.0543 - dense_10_acc_7: 0.9402 - dense_10_acc_8: 0.2540 - dense_10_acc_9: 0.0933\n"
     ]
    },
    {
     "data": {
      "text/plain": [
       "<keras.callbacks.History at 0x21d9a48e160>"
      ]
     },
     "execution_count": 57,
     "metadata": {},
     "output_type": "execute_result"
    }
   ],
   "source": [
    "model.fit([Xoh, s0, c0], outputs, epochs=1, batch_size=100)"
   ]
  },
  {
   "cell_type": "markdown",
   "metadata": {},
   "source": [
    "While training you can see the loss as well as the accuracy on each of the 10 positions of the output. The table below gives you an example of what the accuracies could be if the batch had 2 examples: \n",
    "\n",
    "<img src=\"images/table.png\" style=\"width:700;height:200px;\"> <br>\n",
    "<caption><center>Thus, `dense_2_acc_8: 0.89` means that you are predicting the 7th character of the output correctly 89% of the time in the current batch of data. </center></caption>\n",
    "\n",
    "\n",
    "We have run this model for longer, and saved the weights. Run the next cell to load our weights. (By training a model for several minutes, you should be able to obtain a model of similar accuracy, but loading our model will save you time.) "
   ]
  },
  {
   "cell_type": "code",
   "execution_count": 58,
   "metadata": {
    "collapsed": true
   },
   "outputs": [],
   "source": [
    "model.load_weights('models/model.h5')"
   ]
  },
  {
   "cell_type": "markdown",
   "metadata": {},
   "source": [
    "You can now see the results on new examples."
   ]
  },
  {
   "cell_type": "code",
   "execution_count": 66,
   "metadata": {},
   "outputs": [],
   "source": [
    "# EXAMPLES = ['3 May 1979', '5 April 09', '21th of August 2016', 'Tue 10 Jul 2007', 'Saturday May 9 2018', 'March 3 2001', 'March 3rd 2001', '1 March 2001']\n",
    "# for example in EXAMPLES:\n",
    "    \n",
    "#     source = string_to_int(example, Tx, human_vocab)\n",
    "#     source = np.array(list(map(lambda x: to_categorical(x, num_classes=len(human_vocab)), source))).swapaxes(0,1)\n",
    "#     prediction = model.predict([source, s0, c0])\n",
    "#     prediction = np.argmax(prediction, axis = -1)\n",
    "#     output = [inv_machine_vocab[int(i)] for i in prediction]\n",
    "    \n",
    "#     print(\"source:\", example)\n",
    "#     print(\"output:\", ''.join(output))"
   ]
  },
  {
   "cell_type": "markdown",
   "metadata": {},
   "source": [
    "You can also change these examples to test with your own examples. The next part will give you a better sense on what the attention mechanism is doing--i.e., what part of the input the network is paying attention to when generating a particular output character. "
   ]
  },
  {
   "cell_type": "markdown",
   "metadata": {},
   "source": [
    "## 3 - Visualizing Attention (Optional / Ungraded)\n",
    "\n",
    "Since the problem has a fixed output length of 10, it is also possible to carry out this task using 10 different softmax units to generate the 10 characters of the output. But one advantage of the attention model is that each part of the output (say the month) knows it needs to depend only on a small part of the input (the characters in the input giving the month). We can  visualize what part of the output is looking at what part of the input.\n",
    "\n",
    "Consider the task of translating \"Saturday 9 May 2018\" to \"2018-05-09\". If we visualize the computed $\\alpha^{\\langle t, t' \\rangle}$ we get this: \n",
    "\n",
    "<img src=\"images/date_attention.png\" style=\"width:600;height:300px;\"> <br>\n",
    "<caption><center> **Figure 8**: Full Attention Map</center></caption>\n",
    "\n",
    "Notice how the output ignores the \"Saturday\" portion of the input. None of the output timesteps are paying much attention to that portion of the input. We see also that 9 has been translated as 09 and May has been correctly translated into 05, with the output paying attention to the parts of the input it needs to to make the translation. The year mostly requires it to pay attention to the input's \"18\" in order to generate \"2018.\" \n",
    "\n"
   ]
  },
  {
   "cell_type": "markdown",
   "metadata": {},
   "source": [
    "### 3.1 - Getting the activations from the network\n",
    "\n",
    "Lets now visualize the attention values in your network. We'll propagate an example through the network, then visualize the values of $\\alpha^{\\langle t, t' \\rangle}$. \n",
    "\n",
    "To figure out where the attention values are located, let's start by printing a summary of the model ."
   ]
  },
  {
   "cell_type": "code",
   "execution_count": 63,
   "metadata": {},
   "outputs": [
    {
     "name": "stdout",
     "output_type": "stream",
     "text": [
      "__________________________________________________________________________________________________\n",
      "Layer (type)                    Output Shape         Param #     Connected to                     \n",
      "==================================================================================================\n",
      "s0 (InputLayer)                 (None, 64)           0                                            \n",
      "__________________________________________________________________________________________________\n",
      "input_5 (InputLayer)            (None, 30, 37)       0                                            \n",
      "__________________________________________________________________________________________________\n",
      "repeat_vector_3 (RepeatVector)  (None, 30, 64)       0           s0[0][0]                         \n",
      "                                                                 lstm_8[0][0]                     \n",
      "                                                                 lstm_8[1][0]                     \n",
      "                                                                 lstm_8[2][0]                     \n",
      "                                                                 lstm_8[3][0]                     \n",
      "                                                                 lstm_8[4][0]                     \n",
      "                                                                 lstm_8[5][0]                     \n",
      "                                                                 lstm_8[6][0]                     \n",
      "                                                                 lstm_8[7][0]                     \n",
      "                                                                 lstm_8[8][0]                     \n",
      "__________________________________________________________________________________________________\n",
      "bidirectional_5 (Bidirectional) (None, 30, 64)       17920       input_5[0][0]                    \n",
      "__________________________________________________________________________________________________\n",
      "concatenate_3 (Concatenate)     (None, 30, 128)      0           repeat_vector_3[40][0]           \n",
      "                                                                 bidirectional_5[0][0]            \n",
      "                                                                 repeat_vector_3[41][0]           \n",
      "                                                                 bidirectional_5[0][0]            \n",
      "                                                                 repeat_vector_3[42][0]           \n",
      "                                                                 bidirectional_5[0][0]            \n",
      "                                                                 repeat_vector_3[43][0]           \n",
      "                                                                 bidirectional_5[0][0]            \n",
      "                                                                 repeat_vector_3[44][0]           \n",
      "                                                                 bidirectional_5[0][0]            \n",
      "                                                                 repeat_vector_3[45][0]           \n",
      "                                                                 bidirectional_5[0][0]            \n",
      "                                                                 repeat_vector_3[46][0]           \n",
      "                                                                 bidirectional_5[0][0]            \n",
      "                                                                 repeat_vector_3[47][0]           \n",
      "                                                                 bidirectional_5[0][0]            \n",
      "                                                                 repeat_vector_3[48][0]           \n",
      "                                                                 bidirectional_5[0][0]            \n",
      "                                                                 repeat_vector_3[49][0]           \n",
      "                                                                 bidirectional_5[0][0]            \n",
      "__________________________________________________________________________________________________\n",
      "dense_5 (Dense)                 (None, 30, 10)       1290        concatenate_3[40][0]             \n",
      "                                                                 concatenate_3[41][0]             \n",
      "                                                                 concatenate_3[42][0]             \n",
      "                                                                 concatenate_3[43][0]             \n",
      "                                                                 concatenate_3[44][0]             \n",
      "                                                                 concatenate_3[45][0]             \n",
      "                                                                 concatenate_3[46][0]             \n",
      "                                                                 concatenate_3[47][0]             \n",
      "                                                                 concatenate_3[48][0]             \n",
      "                                                                 concatenate_3[49][0]             \n",
      "__________________________________________________________________________________________________\n",
      "dense_6 (Dense)                 (None, 30, 1)        11          dense_5[40][0]                   \n",
      "                                                                 dense_5[41][0]                   \n",
      "                                                                 dense_5[42][0]                   \n",
      "                                                                 dense_5[43][0]                   \n",
      "                                                                 dense_5[44][0]                   \n",
      "                                                                 dense_5[45][0]                   \n",
      "                                                                 dense_5[46][0]                   \n",
      "                                                                 dense_5[47][0]                   \n",
      "                                                                 dense_5[48][0]                   \n",
      "                                                                 dense_5[49][0]                   \n",
      "__________________________________________________________________________________________________\n",
      "attention_weights (Activation)  (None, 30, 1)        0           dense_6[40][0]                   \n",
      "                                                                 dense_6[41][0]                   \n",
      "                                                                 dense_6[42][0]                   \n",
      "                                                                 dense_6[43][0]                   \n",
      "                                                                 dense_6[44][0]                   \n",
      "                                                                 dense_6[45][0]                   \n",
      "                                                                 dense_6[46][0]                   \n",
      "                                                                 dense_6[47][0]                   \n",
      "                                                                 dense_6[48][0]                   \n",
      "                                                                 dense_6[49][0]                   \n",
      "__________________________________________________________________________________________________\n",
      "dot_3 (Dot)                     (None, 1, 64)        0           attention_weights[40][0]         \n",
      "                                                                 bidirectional_5[0][0]            \n",
      "                                                                 attention_weights[41][0]         \n",
      "                                                                 bidirectional_5[0][0]            \n",
      "                                                                 attention_weights[42][0]         \n",
      "                                                                 bidirectional_5[0][0]            \n",
      "                                                                 attention_weights[43][0]         \n",
      "                                                                 bidirectional_5[0][0]            \n"
     ]
    },
    {
     "name": "stdout",
     "output_type": "stream",
     "text": [
      "                                                                 attention_weights[44][0]         \n",
      "                                                                 bidirectional_5[0][0]            \n",
      "                                                                 attention_weights[45][0]         \n",
      "                                                                 bidirectional_5[0][0]            \n",
      "                                                                 attention_weights[46][0]         \n",
      "                                                                 bidirectional_5[0][0]            \n",
      "                                                                 attention_weights[47][0]         \n",
      "                                                                 bidirectional_5[0][0]            \n",
      "                                                                 attention_weights[48][0]         \n",
      "                                                                 bidirectional_5[0][0]            \n",
      "                                                                 attention_weights[49][0]         \n",
      "                                                                 bidirectional_5[0][0]            \n",
      "__________________________________________________________________________________________________\n",
      "c0 (InputLayer)                 (None, 64)           0                                            \n",
      "__________________________________________________________________________________________________\n",
      "lstm_8 (LSTM)                   [(None, 64), (None,  33024       dot_3[40][0]                     \n",
      "                                                                 s0[0][0]                         \n",
      "                                                                 c0[0][0]                         \n",
      "                                                                 dot_3[41][0]                     \n",
      "                                                                 lstm_8[0][0]                     \n",
      "                                                                 lstm_8[0][2]                     \n",
      "                                                                 dot_3[42][0]                     \n",
      "                                                                 lstm_8[1][0]                     \n",
      "                                                                 lstm_8[1][2]                     \n",
      "                                                                 dot_3[43][0]                     \n",
      "                                                                 lstm_8[2][0]                     \n",
      "                                                                 lstm_8[2][2]                     \n",
      "                                                                 dot_3[44][0]                     \n",
      "                                                                 lstm_8[3][0]                     \n",
      "                                                                 lstm_8[3][2]                     \n",
      "                                                                 dot_3[45][0]                     \n",
      "                                                                 lstm_8[4][0]                     \n",
      "                                                                 lstm_8[4][2]                     \n",
      "                                                                 dot_3[46][0]                     \n",
      "                                                                 lstm_8[5][0]                     \n",
      "                                                                 lstm_8[5][2]                     \n",
      "                                                                 dot_3[47][0]                     \n",
      "                                                                 lstm_8[6][0]                     \n",
      "                                                                 lstm_8[6][2]                     \n",
      "                                                                 dot_3[48][0]                     \n",
      "                                                                 lstm_8[7][0]                     \n",
      "                                                                 lstm_8[7][2]                     \n",
      "                                                                 dot_3[49][0]                     \n",
      "                                                                 lstm_8[8][0]                     \n",
      "                                                                 lstm_8[8][2]                     \n",
      "__________________________________________________________________________________________________\n",
      "dense_10 (Dense)                (None, 11)           715         lstm_8[0][0]                     \n",
      "                                                                 lstm_8[1][0]                     \n",
      "                                                                 lstm_8[2][0]                     \n",
      "                                                                 lstm_8[3][0]                     \n",
      "                                                                 lstm_8[4][0]                     \n",
      "                                                                 lstm_8[5][0]                     \n",
      "                                                                 lstm_8[6][0]                     \n",
      "                                                                 lstm_8[7][0]                     \n",
      "                                                                 lstm_8[8][0]                     \n",
      "                                                                 lstm_8[9][0]                     \n",
      "==================================================================================================\n",
      "Total params: 52,960\n",
      "Trainable params: 52,960\n",
      "Non-trainable params: 0\n",
      "__________________________________________________________________________________________________\n"
     ]
    }
   ],
   "source": [
    "model.summary()"
   ]
  },
  {
   "cell_type": "markdown",
   "metadata": {},
   "source": [
    "Navigate through the output of `model.summary()` above. You can see that the layer named `attention_weights` outputs the `alphas` of shape (m, 30, 1) before `dot_2` computes the context vector for every time step $t = 0, \\ldots, T_y-1$. Lets get the activations from this layer.\n",
    "\n",
    "The function `attention_map()` pulls out the attention values from your model and plots them."
   ]
  },
  {
   "cell_type": "code",
   "execution_count": 67,
   "metadata": {
    "scrolled": false
   },
   "outputs": [],
   "source": [
    "# attention_map = plot_attention_map(model, human_vocab, inv_machine_vocab, \"Tuesday 09 Oct 1993\", num = 7, n_s = 64)"
   ]
  },
  {
   "cell_type": "markdown",
   "metadata": {},
   "source": [
    "On the generated plot you can observe the values of the attention weights for each character of the predicted output. Examine this plot and check that where the network is paying attention makes sense to you.\n",
    "\n",
    "In the date translation application, you will observe that most of the time attention helps predict the year, and hasn't much impact on predicting the day/month."
   ]
  },
  {
   "cell_type": "markdown",
   "metadata": {},
   "source": [
    "### Congratulations!\n",
    "\n",
    "\n",
    "You have come to the end of this assignment \n",
    "\n",
    "<font color='blue'> **Here's what you should remember from this notebook**:\n",
    "\n",
    "- Machine translation models can be used to map from one sequence to another. They are useful not just for translating human languages (like French->English) but also for tasks like date format translation. \n",
    "- An attention mechanism allows a network to focus on the most relevant parts of the input when producing a specific part of the output. \n",
    "- A network using an attention mechanism can translate from inputs of length $T_x$ to outputs of length $T_y$, where $T_x$ and $T_y$ can be different. \n",
    "- You can visualize attention weights $\\alpha^{\\langle t,t' \\rangle}$ to see what the network is paying attention to while generating each output."
   ]
  },
  {
   "cell_type": "markdown",
   "metadata": {},
   "source": [
    "Congratulations on finishing this assignment! You are now able to implement an attention model and use it to learn complex mappings from one sequence to another. "
   ]
  }
 ],
 "metadata": {
  "coursera": {
   "course_slug": "nlp-sequence-models",
   "graded_item_id": "n16CQ",
   "launcher_item_id": "npjGi"
  },
  "kernelspec": {
   "display_name": "Python 3",
   "language": "python",
   "name": "python3"
  },
  "language_info": {
   "codemirror_mode": {
    "name": "ipython",
    "version": 3
   },
   "file_extension": ".py",
   "mimetype": "text/x-python",
   "name": "python",
   "nbconvert_exporter": "python",
   "pygments_lexer": "ipython3",
   "version": "3.6.1"
  }
 },
 "nbformat": 4,
 "nbformat_minor": 2
}
